{
 "cells": [
  {
   "cell_type": "markdown",
   "id": "dcb02076-58c7-47be-b515-762b6809dc38",
   "metadata": {},
   "source": [
    "# Data Preprocessing"
   ]
  },
  {
   "cell_type": "code",
   "execution_count": 497,
   "id": "e3c1a961-60fe-485b-84d4-7c8418da408d",
   "metadata": {},
   "outputs": [],
   "source": [
    "import pandas as pd"
   ]
  },
  {
   "cell_type": "code",
   "execution_count": 498,
   "id": "99a199e6-1cea-4afd-bc8a-e52d1577436e",
   "metadata": {},
   "outputs": [],
   "source": [
    "df = pd.read_csv(\"data/training_set.csv\")"
   ]
  },
  {
   "cell_type": "code",
   "execution_count": 499,
   "id": "3484ec0f-3098-464a-98ce-3b6daefaf4d4",
   "metadata": {},
   "outputs": [],
   "source": [
    "df[\"rating\"] = df[\"Click\"] #+ df[\"Purchase\"] * 9\n",
    "df = df[df[\"rating\"] >= 0.5]"
   ]
  },
  {
   "cell_type": "code",
   "execution_count": 500,
   "id": "b54f4977-2ca5-4854-8023-cb54482332b4",
   "metadata": {},
   "outputs": [],
   "source": [
    "user_list = df.groupby('UserId')['ItemId'].nunique()\n",
    "user_list_denoise = user_list[(user_list<=1000)].index.to_list()\n",
    "test = pd.read_csv('data/test_set_private.csv', names=['user_id'] + [f'item_id_{i}' for i in range(1,1001)])\n",
    "test_user_id = test['user_id'].values\n",
    "final_user_list = []\n",
    "final_user_list.extend(user_list_denoise)\n",
    "final_user_list.extend(test_user_id)\n",
    "user_list_denoise = list(set(final_user_list))\n",
    "\n",
    "raw_df = df[df.UserId.isin(user_list_denoise)].reset_index().drop(columns=\"index\")\n",
    "raw_df[\"TrueUser\"] = raw_df[\"UserId\"]"
   ]
  },
  {
   "cell_type": "code",
   "execution_count": 501,
   "id": "080fa2e3-329f-4095-a929-a9feceb820de",
   "metadata": {},
   "outputs": [],
   "source": [
    "def sliding_window(data: list, n=1, stride=1):\n",
    "    if len(data) < n:\n",
    "        yield data\n",
    "    else:\n",
    "        for i in range(0, len(data) - n + 1, stride):\n",
    "            yield data[i:i+n]"
   ]
  },
  {
   "cell_type": "code",
   "execution_count": 502,
   "id": "209ec792-d6df-47d8-aa63-7a7a2da99549",
   "metadata": {},
   "outputs": [],
   "source": [
    "window_slicing = df.groupby(\"UserId\").agg({\"ItemId\": list})\n",
    "window_slicing[\"ItemId\"] = window_slicing[\"ItemId\"].apply(lambda x : [i for i in sliding_window(x, n=50, stride=25)])\n",
    "window_slicing = window_slicing.explode(\"ItemId\").reset_index().reset_index()\n",
    "window_slicing = window_slicing.rename(columns={\"UserId\" : \"TrueUser\"})\n",
    "window_slicing = window_slicing.rename(columns={\"index\": \"UserId\"})\n",
    "window_slicing = window_slicing.explode(\"ItemId\")\n",
    "window_slicing[\"rating\"] = 1"
   ]
  },
  {
   "cell_type": "code",
   "execution_count": 503,
   "id": "5337ef27-3044-4b9e-90d3-5cd780adb8b2",
   "metadata": {},
   "outputs": [],
   "source": [
    "window_slicing50 = window_slicing.copy(deep=True)"
   ]
  },
  {
   "cell_type": "code",
   "execution_count": 504,
   "id": "df9f0364-4dce-4778-bc87-ea94bcde85f2",
   "metadata": {},
   "outputs": [],
   "source": [
    "window_slicing = df.groupby(\"UserId\").agg({\"ItemId\": list})\n",
    "window_slicing[\"ItemId\"] = window_slicing[\"ItemId\"].apply(lambda x : [i for i in sliding_window(x, n=20, stride=10)])\n",
    "window_slicing = window_slicing.explode(\"ItemId\").reset_index().reset_index()\n",
    "window_slicing = window_slicing.rename(columns={\"UserId\" : \"TrueUser\"})\n",
    "window_slicing = window_slicing.rename(columns={\"index\": \"UserId\"})\n",
    "window_slicing = window_slicing.explode(\"ItemId\")\n",
    "window_slicing[\"rating\"] = 1"
   ]
  },
  {
   "cell_type": "code",
   "execution_count": 505,
   "id": "e98c4d4b-720f-4757-a3ef-8d5efffc3d64",
   "metadata": {},
   "outputs": [],
   "source": [
    "window_slicing20 = window_slicing.copy(deep=True)"
   ]
  },
  {
   "cell_type": "code",
   "execution_count": 506,
   "id": "a7d04736-af15-4e0c-ab95-27ec93355ece",
   "metadata": {},
   "outputs": [],
   "source": [
    "from more_itertools import locate\n",
    "sessions = []\n",
    "session_id = 0\n",
    "for _, i in df.groupby(\"UserId\").agg({\"ItemId\": list, \"Purchase\": list}).reset_index().iterrows():\n",
    "    userid = i[\"UserId\"]\n",
    "    for l in (list(locate(i.Purchase))):\n",
    "        sessions.append((userid, session_id, i[\"ItemId\"][l-10:l+10]))\n",
    "        session_id+=1\n",
    "\n",
    "sessions_df = pd.DataFrame(sessions, columns = [\"TrueUser\", \"UserId\", \"ItemId\"])\n",
    "sessions_df = sessions_df.explode(\"ItemId\")\n",
    "sessions_df[\"rating\"] = 1"
   ]
  },
  {
   "cell_type": "code",
   "execution_count": 507,
   "id": "b3b6fa56-cacb-4531-aa66-8b1bf1626407",
   "metadata": {},
   "outputs": [],
   "source": [
    "def get_var_name(var):\n",
    "    for name, value in globals().items():\n",
    "        if value is var:\n",
    "            return name\n",
    "\n",
    "def data_condat(*data_list):\n",
    "    full = []\n",
    "    for data in data_list:\n",
    "        f = data.groupby(\"UserId\").agg({\"ItemId\": list, \"TrueUser\": \"max\"})\n",
    "        f[\"origin\"] = get_var_name(data)\n",
    "        full.append(f)\n",
    "\n",
    "\n",
    "    full_df = pd.concat(full, ignore_index=True)\n",
    "    # full_df = full_df.drop_duplicates(subset=\"ItemId\")\n",
    "    full_df = full_df.reset_index().rename(columns={\"index\": \"UserId\"})\n",
    "    full_df = full_df.explode(\"ItemId\")\n",
    "    full_df[\"rating\"] = 1\n",
    "\n",
    "    return full_df"
   ]
  },
  {
   "cell_type": "code",
   "execution_count": 508,
   "id": "d87e6326-2672-4d24-a4fd-2a08319c575b",
   "metadata": {},
   "outputs": [],
   "source": [
    "items_more_than_3_users = raw_df[\"ItemId\"].value_counts()\n",
    "items_more_than_3_users = items_more_than_3_users[items_more_than_3_users >= 3]\n",
    "item_more_than_3_list = items_more_than_3_users.reset_index()[\"ItemId\"].unique()\n",
    "items_more_than_3_users = raw_df.merge(items_more_than_3_users, on=\"ItemId\", how=\"inner\")\n",
    "items_more_than_3_users[\"TrueUser\"] = items_more_than_3_users[\"UserId\"]"
   ]
  },
  {
   "cell_type": "code",
   "execution_count": 509,
   "id": "5b2baac9-62fd-4e15-b006-9276ac30feb1",
   "metadata": {},
   "outputs": [],
   "source": [
    "# items_less_than_3_users = df[\"ItemId\"].value_counts()\n",
    "# items_less_than_3_users = items_less_than_3_users[items_less_than_3_users <= 10]\n",
    "# items_less_than_3_list = items_less_than_3_users.reset_index()[\"ItemId\"].unique()\n",
    "\n",
    "# have_purchase_user = df[df[\"ItemId\"].isin(items_less_than_3_list)].groupby(\"UserId\").agg({\"Click\": \"sum\", \"Purchase\": \"sum\", \"ItemId\": list})\n",
    "# have_purchase_user[\"Purchase_ratio\"] = have_purchase_user[\"Purchase\"] / have_purchase_user[\"Click\"]\n",
    "# have_purchase_user = have_purchase_user[have_purchase_user[\"Purchase_ratio\"] >= 0.1]\n",
    "# have_purchase_user = have_purchase_user.explode(\"ItemId\")\n",
    "\n",
    "# have_purchase_user = have_purchase_user.reset_index()\n",
    "# # have_purchase_user = df.merge(have_purchase_user, on=[\"UserId\", \"ItemId\"], how=\"inner\")\n",
    "# have_purchase_user[\"TrueUser\"] = have_purchase_user[\"UserId\"]"
   ]
  },
  {
   "cell_type": "code",
   "execution_count": 510,
   "id": "ddeea165-254d-4936-8cac-34e7e7161145",
   "metadata": {},
   "outputs": [],
   "source": [
    "# # items_more_than_5_users = df[\"ItemId\"].value_counts()\n",
    "# # items_more_than_5_users = items_more_than_5_users[items_more_than_5_users >= 5]\n",
    "# # item_more_than_5_list = items_more_than_5_users.reset_index()[\"ItemId\"].unique()\n",
    "\n",
    "# purchase_item_ratio = df.groupby(\"ItemId\").agg({\"Click\": \"sum\", \"Purchase\": \"sum\"})\n",
    "# purchase_item_ratio[\"Purchase_ratio\"] = purchase_item_ratio[\"Purchase\"] / purchase_item_ratio[\"Click\"]\n",
    "# purchase_item_ratio.sort_values(\"Purchase_ratio\", ascending = False)[\"Purchase\"]\n",
    "# purchase_item_ratio = purchase_item_ratio[purchase_item_ratio[\"Purchase_ratio\"] > 0.08]\n",
    "# # purchase_item_ratio[\"Purchase_ratio\"].quantile(0.75)\n",
    "# purchase_item_ratio = df.merge(purchase_item_ratio, on=\"ItemId\", how=\"inner\")\n",
    "# purchase_item_ratio[\"TrueUser\"] = purchase_item_ratio[\"UserId\"]"
   ]
  },
  {
   "cell_type": "code",
   "execution_count": 511,
   "id": "d859ecdc-d310-4fb7-9cea-ce84bc66e347",
   "metadata": {},
   "outputs": [],
   "source": [
    "# popular_item = raw_df[\"ItemId\"].value_counts()\n",
    "# popular_item = popular_item[popular_item >= 50]\n",
    "# popular_item_list = popular_item.reset_index()[\"ItemId\"].unique()\n",
    "\n",
    "# popular_item_with_low_purchase = df[df[\"ItemId\"].isin(popular_item_list)].groupby(\"ItemId\").agg({\"Click\": \"sum\", \"Purchase\": \"sum\"})\n",
    "# popular_item_with_low_purchase[\"Purchase_ratio\"] = popular_item_with_low_purchase[\"Purchase\"] / popular_item_with_low_purchase[\"Click\"]\n",
    "# popular_item_with_low_purchase.sort_values(\"Purchase_ratio\", ascending = False)[\"Purchase\"]\n",
    "# popular_item_with_low_purchase = popular_item_with_low_purchase[popular_item_with_low_purchase[\"Purchase_ratio\"] >= 0]\n",
    "# # purchase_item_ratio[\"Purchase_ratio\"].quantile(0.75)\n",
    "# popular_item_with_low_purchase = df.merge(popular_item_with_low_purchase, on=\"ItemId\", how=\"inner\")\n",
    "# popular_item_with_low_purchase[\"TrueUser\"] = popular_item_with_low_purchase[\"UserId\"]"
   ]
  },
  {
   "cell_type": "code",
   "execution_count": 512,
   "id": "79ed7b72-6ba1-4b31-8da0-0cc949b16eac",
   "metadata": {},
   "outputs": [],
   "source": [
    "# popular_item = raw_df[\"ItemId\"].value_counts()\n",
    "# popular_item = popular_item[popular_item >= 50]\n",
    "# popular_item_list = popular_item.reset_index()[\"ItemId\"].unique()\n",
    "\n",
    "# popular_item_with_high_purchase = df[df[\"ItemId\"].isin(popular_item_list)].groupby(\"ItemId\").agg({\"Click\": \"sum\", \"Purchase\": \"sum\"})\n",
    "# popular_item_with_high_purchase[\"Purchase_ratio\"] = popular_item_with_high_purchase[\"Purchase\"] / popular_item_with_high_purchase[\"Click\"]\n",
    "# popular_item_with_high_purchase.sort_values(\"Purchase_ratio\", ascending = False)[\"Purchase\"]\n",
    "# popular_item_with_high_purchase = popular_item_with_high_purchase[popular_item_with_high_purchase[\"Purchase_ratio\"] > 0.5]\n",
    "# # purchase_item_ratio[\"Purchase_ratio\"].quantile(0.75)\n",
    "# popular_item_with_high_purchase = df.merge(popular_item_with_high_purchase, on=\"ItemId\", how=\"inner\")\n",
    "# popular_item_with_high_purchase[\"TrueUser\"] = popular_item_with_high_purchase[\"UserId\"]"
   ]
  },
  {
   "cell_type": "code",
   "execution_count": 513,
   "id": "91a7e922-a156-4314-88b0-50991672581e",
   "metadata": {},
   "outputs": [],
   "source": [
    "only_purchase = raw_df[raw_df[\"Purchase\"] == 1].reset_index().drop(columns=\"index\")\n",
    "only_purchase[\"TrueUser\"] = only_purchase[\"UserId\"]"
   ]
  },
  {
   "cell_type": "markdown",
   "id": "444f0074-ab2f-494a-b3c2-7dd572688d63",
   "metadata": {},
   "source": [
    "# VAE Data Process"
   ]
  },
  {
   "cell_type": "code",
   "execution_count": 514,
   "id": "64a22525-1d76-4bf8-860a-84107f4673c5",
   "metadata": {},
   "outputs": [],
   "source": [
    "import os\n",
    "import sys\n",
    "\n",
    "import numpy as np\n",
    "from scipy import sparse\n",
    "import pandas as pd"
   ]
  },
  {
   "cell_type": "code",
   "execution_count": 515,
   "id": "b97548df-c7ee-4c40-8256-f2f215f2ded2",
   "metadata": {},
   "outputs": [],
   "source": [
    "vae_config = {\n",
    "    \"min_items_per_user\": 2,\n",
    "    \"min_users_per_item\": 1,\n",
    "    \"n_heldout_users\": 100\n",
    "}\n",
    "output_dir = \"runs/vae_demon_king\""
   ]
  },
  {
   "cell_type": "code",
   "execution_count": 516,
   "id": "61063f7e-fd27-49d6-9aaa-8bb4659f224d",
   "metadata": {},
   "outputs": [],
   "source": [
    "import os\n",
    "if not os.path.exists(output_dir):\n",
    "    os.makedirs(output_dir)"
   ]
  },
  {
   "cell_type": "code",
   "execution_count": 517,
   "id": "e40fd565-d9d7-4f01-8006-cff443251401",
   "metadata": {},
   "outputs": [],
   "source": [
    "df.to_csv(f\"{output_dir}/data.csv\", index=False)"
   ]
  },
  {
   "cell_type": "code",
   "execution_count": 518,
   "id": "535dfaca-013f-40b5-aa97-87a9b8c17109",
   "metadata": {},
   "outputs": [],
   "source": [
    "df = data_condat(raw_df, window_slicing20, window_slicing50, sessions_df, items_more_than_3_users, have_purchase_user,\n",
    "                 only_purchase, purchase_item_ratio, popular_item_with_low_purchase, popular_item_with_high_purchase)\n",
    "# df = data_condat(window_slicing50)"
   ]
  },
  {
   "cell_type": "code",
   "execution_count": 519,
   "id": "27fe1268-cdc2-4e94-884e-37d61f4c1259",
   "metadata": {},
   "outputs": [
    {
     "data": {
      "text/html": [
       "<div>\n",
       "<style scoped>\n",
       "    .dataframe tbody tr th:only-of-type {\n",
       "        vertical-align: middle;\n",
       "    }\n",
       "\n",
       "    .dataframe tbody tr th {\n",
       "        vertical-align: top;\n",
       "    }\n",
       "\n",
       "    .dataframe thead th {\n",
       "        text-align: right;\n",
       "    }\n",
       "</style>\n",
       "<table border=\"1\" class=\"dataframe\">\n",
       "  <thead>\n",
       "    <tr style=\"text-align: right;\">\n",
       "      <th></th>\n",
       "      <th>UserId</th>\n",
       "      <th>ItemId</th>\n",
       "      <th>TrueUser</th>\n",
       "      <th>origin</th>\n",
       "      <th>rating</th>\n",
       "    </tr>\n",
       "  </thead>\n",
       "  <tbody>\n",
       "    <tr>\n",
       "      <th>0</th>\n",
       "      <td>0</td>\n",
       "      <td>WCJ3v3bGfi</td>\n",
       "      <td>00CqJFh8ey</td>\n",
       "      <td>raw_df</td>\n",
       "      <td>1</td>\n",
       "    </tr>\n",
       "    <tr>\n",
       "      <th>0</th>\n",
       "      <td>0</td>\n",
       "      <td>ERHK6OW0BA</td>\n",
       "      <td>00CqJFh8ey</td>\n",
       "      <td>raw_df</td>\n",
       "      <td>1</td>\n",
       "    </tr>\n",
       "    <tr>\n",
       "      <th>0</th>\n",
       "      <td>0</td>\n",
       "      <td>v5DrRkI5jd</td>\n",
       "      <td>00CqJFh8ey</td>\n",
       "      <td>raw_df</td>\n",
       "      <td>1</td>\n",
       "    </tr>\n",
       "    <tr>\n",
       "      <th>0</th>\n",
       "      <td>0</td>\n",
       "      <td>7o8G2oZDME</td>\n",
       "      <td>00CqJFh8ey</td>\n",
       "      <td>raw_df</td>\n",
       "      <td>1</td>\n",
       "    </tr>\n",
       "    <tr>\n",
       "      <th>0</th>\n",
       "      <td>0</td>\n",
       "      <td>d6qTUg1iUa</td>\n",
       "      <td>00CqJFh8ey</td>\n",
       "      <td>raw_df</td>\n",
       "      <td>1</td>\n",
       "    </tr>\n",
       "    <tr>\n",
       "      <th>...</th>\n",
       "      <td>...</td>\n",
       "      <td>...</td>\n",
       "      <td>...</td>\n",
       "      <td>...</td>\n",
       "      <td>...</td>\n",
       "    </tr>\n",
       "    <tr>\n",
       "      <th>219217</th>\n",
       "      <td>219217</td>\n",
       "      <td>kJucNmxdaK</td>\n",
       "      <td>zyfXpoPInl</td>\n",
       "      <td>popular_item_with_low_purchase</td>\n",
       "      <td>1</td>\n",
       "    </tr>\n",
       "    <tr>\n",
       "      <th>219218</th>\n",
       "      <td>219218</td>\n",
       "      <td>cQ23hskQW7</td>\n",
       "      <td>zywXEdYD2i</td>\n",
       "      <td>popular_item_with_low_purchase</td>\n",
       "      <td>1</td>\n",
       "    </tr>\n",
       "    <tr>\n",
       "      <th>219219</th>\n",
       "      <td>219219</td>\n",
       "      <td>0JigBxUIcZ</td>\n",
       "      <td>zz6FlSEvck</td>\n",
       "      <td>popular_item_with_low_purchase</td>\n",
       "      <td>1</td>\n",
       "    </tr>\n",
       "    <tr>\n",
       "      <th>219219</th>\n",
       "      <td>219219</td>\n",
       "      <td>hYPuswhmpJ</td>\n",
       "      <td>zz6FlSEvck</td>\n",
       "      <td>popular_item_with_low_purchase</td>\n",
       "      <td>1</td>\n",
       "    </tr>\n",
       "    <tr>\n",
       "      <th>219220</th>\n",
       "      <td>219220</td>\n",
       "      <td>sZETWbLhFP</td>\n",
       "      <td>zzReTyUNBb</td>\n",
       "      <td>popular_item_with_low_purchase</td>\n",
       "      <td>1</td>\n",
       "    </tr>\n",
       "  </tbody>\n",
       "</table>\n",
       "<p>2033505 rows × 5 columns</p>\n",
       "</div>"
      ],
      "text/plain": [
       "        UserId      ItemId    TrueUser                          origin  rating\n",
       "0            0  WCJ3v3bGfi  00CqJFh8ey                          raw_df       1\n",
       "0            0  ERHK6OW0BA  00CqJFh8ey                          raw_df       1\n",
       "0            0  v5DrRkI5jd  00CqJFh8ey                          raw_df       1\n",
       "0            0  7o8G2oZDME  00CqJFh8ey                          raw_df       1\n",
       "0            0  d6qTUg1iUa  00CqJFh8ey                          raw_df       1\n",
       "...        ...         ...         ...                             ...     ...\n",
       "219217  219217  kJucNmxdaK  zyfXpoPInl  popular_item_with_low_purchase       1\n",
       "219218  219218  cQ23hskQW7  zywXEdYD2i  popular_item_with_low_purchase       1\n",
       "219219  219219  0JigBxUIcZ  zz6FlSEvck  popular_item_with_low_purchase       1\n",
       "219219  219219  hYPuswhmpJ  zz6FlSEvck  popular_item_with_low_purchase       1\n",
       "219220  219220  sZETWbLhFP  zzReTyUNBb  popular_item_with_low_purchase       1\n",
       "\n",
       "[2033505 rows x 5 columns]"
      ]
     },
     "execution_count": 519,
     "metadata": {},
     "output_type": "execute_result"
    }
   ],
   "source": [
    "df"
   ]
  },
  {
   "cell_type": "code",
   "execution_count": 520,
   "id": "676574cf-d027-44b1-a085-75606fe723a2",
   "metadata": {},
   "outputs": [],
   "source": [
    "df.to_csv(\"multiverse_data.csv\", index=False)"
   ]
  },
  {
   "cell_type": "code",
   "execution_count": 521,
   "id": "c0c57bd2-e3dc-4c2b-9d9b-d9cd5340571c",
   "metadata": {},
   "outputs": [],
   "source": [
    "def get_count(tp, id):\n",
    "    playcount_groupbyid = tp[[id]].groupby(id, as_index=False)\n",
    "    count = playcount_groupbyid.size()\n",
    "    return count\n",
    "\n",
    "def filter_triplets(tp, min_uc, min_sc): \n",
    "    if min_sc > 0:\n",
    "        itemcount = get_count(tp, 'ItemId')\n",
    "        tp = tp[tp['ItemId'].isin(\n",
    "            itemcount[itemcount[\"size\"] >= min_sc][\"ItemId\"].unique()\n",
    "        )]\n",
    "    \n",
    "    if min_uc > 0:\n",
    "        usercount = get_count(tp, 'UserId')\n",
    "        tp = tp[tp['UserId'].isin(\n",
    "            usercount[usercount[\"size\"] >= min_uc][\"UserId\"].unique()\n",
    "        )]\n",
    "    \n",
    "    usercount, itemcount = get_count(tp, 'UserId'), get_count(tp, 'ItemId') \n",
    "    return tp, usercount, itemcount\n"
   ]
  },
  {
   "cell_type": "code",
   "execution_count": 522,
   "id": "bb88d0c1-9c7c-4fd4-b9c2-b3872cf61d09",
   "metadata": {},
   "outputs": [
    {
     "name": "stdout",
     "output_type": "stream",
     "text": [
      "After filtering, there are 2013679 watching events from 199395 users and 83102 movies (sparsity: 0.012%)\n"
     ]
    },
    {
     "data": {
      "text/plain": [
       "199395"
      ]
     },
     "execution_count": 522,
     "metadata": {},
     "output_type": "execute_result"
    }
   ],
   "source": [
    "raw_data, user_activity, item_popularity = filter_triplets(df, vae_config[\"min_items_per_user\"], vae_config[\"min_users_per_item\"])\n",
    "\n",
    "sparsity = 1. * raw_data.shape[0] / (user_activity.shape[0] * item_popularity.shape[0])\n",
    "\n",
    "print(\"After filtering, there are %d watching events from %d users and %d movies (sparsity: %.3f%%)\" % \n",
    "      (raw_data.shape[0], user_activity.shape[0], item_popularity.shape[0], sparsity * 100))\n",
    "\n",
    "# Get the unique user IDs\n",
    "unique_uid = user_activity[\"UserId\"].unique()\n",
    "\n",
    "# Shuffle the user IDs to create a random permutation\n",
    "np.random.seed(98765)\n",
    "idx_perm = np.random.permutation(unique_uid.size)\n",
    "unique_uid = unique_uid[idx_perm]\n",
    "\n",
    "# Get the total number of users\n",
    "n_users = unique_uid.size\n",
    "\n",
    "n_users"
   ]
  },
  {
   "cell_type": "markdown",
   "id": "8cdf1b95-b6ab-4386-8615-04b102ec8770",
   "metadata": {},
   "source": [
    "## Sampling Train Test Valid"
   ]
  },
  {
   "cell_type": "code",
   "execution_count": 523,
   "id": "accb03df-f4aa-4c34-a21b-6cca157cd900",
   "metadata": {},
   "outputs": [],
   "source": [
    "unique_trueuser = raw_data[\"TrueUser\"].unique()\n",
    "n_trueuser = len(unique_trueuser)"
   ]
  },
  {
   "cell_type": "code",
   "execution_count": 524,
   "id": "666a01a1-34e9-4304-8017-ff52ed66ab25",
   "metadata": {},
   "outputs": [],
   "source": [
    "# Split the users into three sets: training, validation, and testing\n",
    "# tr_users = np.concat([unique_uid[:(n_users - vae_config[\"n_heldout_users\"] * 2)], test[\"user_id\"].unique()])\n",
    "\n",
    "# tr_users = unique_uid[:(n_users - vae_config[\"n_heldout_users\"] * 2)]\n",
    "# vd_users = unique_uid[(n_users - vae_config[\"n_heldout_users\"] * 2): (n_users - vae_config[\"n_heldout_users\"])]\n",
    "# te_users = unique_uid[(n_users - vae_config[\"n_heldout_users\"]):]\n",
    "\n",
    "tr_users = unique_trueuser[:(n_trueuser - vae_config[\"n_heldout_users\"])]\n",
    "vd_users = unique_trueuser[(n_trueuser - vae_config[\"n_heldout_users\"]):]\n",
    "te_users = unique_trueuser[(n_trueuser - vae_config[\"n_heldout_users\"]):]\n",
    "\n",
    "# Get the training data (i.e., the plays made by the training users)\n",
    "train_plays = raw_data.loc[raw_data['TrueUser'].isin(tr_users)]\n",
    "\n",
    "# Get the unique movie IDs in the training data\n",
    "unique_sid = pd.unique(train_plays['ItemId'])\n",
    "\n",
    "# Create mapping id to index\n",
    "show2id = dict((sid, i) for (i, sid) in enumerate(unique_sid))\n",
    "profile2id = dict((pid, i) for (i, pid) in enumerate(unique_uid))"
   ]
  },
  {
   "cell_type": "code",
   "execution_count": 525,
   "id": "c5907550-ee73-44a0-a6b7-98fdb8eddaaf",
   "metadata": {},
   "outputs": [],
   "source": [
    "if not os.path.exists(output_dir):\n",
    "    os.makedirs(output_dir)\n",
    "\n",
    "with open(os.path.join(output_dir, 'unique_sid.txt'), 'w') as f:\n",
    "    for sid in unique_sid:\n",
    "        f.write('%s\\n' % sid)\n",
    "        \n",
    "with open(os.path.join(output_dir, 'unique_uid.txt'), 'w') as f:\n",
    "    for uid in unique_uid:\n",
    "        f.write('%s\\n' % uid)"
   ]
  },
  {
   "cell_type": "code",
   "execution_count": 526,
   "id": "bd71d984-6804-4ede-ae9f-ea4336eb7dd6",
   "metadata": {},
   "outputs": [],
   "source": [
    "def split_train_test_proportion(data, test_prop=0.2):\n",
    "    data_grouped_by_user = data.groupby('UserId')\n",
    "    tr_list, te_list = list(), list()\n",
    "\n",
    "    np.random.seed(98765)\n",
    "\n",
    "    for i, (_, group) in enumerate(data_grouped_by_user):\n",
    "        n_items_u = len(group)\n",
    "\n",
    "        if n_items_u >= 5:\n",
    "            idx = np.zeros(n_items_u, dtype='bool')\n",
    "            idx[np.random.choice(n_items_u, size=int(test_prop * n_items_u), replace=False).astype('int64')] = True\n",
    "\n",
    "            tr_list.append(group[np.logical_not(idx)])\n",
    "            te_list.append(group[idx])\n",
    "        else:\n",
    "            tr_list.append(group)\n",
    "\n",
    "        if i % 1000 == 0:\n",
    "            print(\"%d users sampled\" % i)\n",
    "            sys.stdout.flush()\n",
    "\n",
    "    data_tr = pd.concat(tr_list)\n",
    "    data_te = pd.concat(te_list)\n",
    "    \n",
    "    return data_tr, data_te"
   ]
  },
  {
   "cell_type": "code",
   "execution_count": 527,
   "id": "8fc4919f-cd31-4d7e-bd3d-486963612df2",
   "metadata": {},
   "outputs": [
    {
     "name": "stdout",
     "output_type": "stream",
     "text": [
      "0 users sampled\n",
      "1000 users sampled\n",
      "0 users sampled\n",
      "1000 users sampled\n"
     ]
    }
   ],
   "source": [
    "vad_plays = raw_data.loc[raw_data['TrueUser'].isin(vd_users)]\n",
    "vad_plays = vad_plays.loc[vad_plays['ItemId'].isin(unique_sid)]\n",
    "\n",
    "vad_plays_tr, vad_plays_te = split_train_test_proportion(vad_plays)\n",
    "\n",
    "test_plays = raw_data.loc[raw_data['TrueUser'].isin(te_users)]\n",
    "test_plays = test_plays.loc[test_plays['ItemId'].isin(unique_sid)]\n",
    "\n",
    "test_plays_tr, test_plays_te = split_train_test_proportion(test_plays)"
   ]
  },
  {
   "cell_type": "code",
   "execution_count": 528,
   "id": "eba333ef-4790-40e2-97b0-813e83b3789c",
   "metadata": {},
   "outputs": [],
   "source": [
    "def numerize(tp):\n",
    "    uid = list(map(lambda x: profile2id[x], tp['UserId']))\n",
    "    sid = list(map(lambda x: show2id[x], tp['ItemId']))\n",
    "    return pd.DataFrame(data={'uid': uid, 'sid': sid}, columns=['uid', 'sid'])"
   ]
  },
  {
   "cell_type": "code",
   "execution_count": 529,
   "id": "a806fe57-d92b-483d-8035-47d6b63d81a5",
   "metadata": {},
   "outputs": [],
   "source": [
    "train_data = numerize(train_plays)\n",
    "train_data.to_csv(os.path.join(output_dir, 'train.csv'), index=False)\n",
    "\n",
    "vad_data_tr = numerize(vad_plays_tr)\n",
    "vad_data_tr.to_csv(os.path.join(output_dir, 'validation_tr.csv'), index=False)\n",
    "\n",
    "vad_data_te = numerize(vad_plays_te)\n",
    "vad_data_te.to_csv(os.path.join(output_dir, 'validation_te.csv'), index=False)\n",
    "\n",
    "test_data_tr = numerize(test_plays_tr)\n",
    "test_data_tr.to_csv(os.path.join(output_dir, 'test_tr.csv'), index=False)\n",
    "\n",
    "test_data_te = numerize(test_plays_te)\n",
    "test_data_te.to_csv(os.path.join(output_dir, 'test_te.csv'), index=False)"
   ]
  },
  {
   "cell_type": "code",
   "execution_count": 530,
   "id": "10ba61fc-557b-4dd0-8bc5-d86de27f515f",
   "metadata": {},
   "outputs": [],
   "source": [
    "n_items = len(unique_sid)\n",
    "n_users = len(unique_uid)"
   ]
  },
  {
   "cell_type": "code",
   "execution_count": 531,
   "id": "1f728818-70b6-470f-b816-4cb6addc5edf",
   "metadata": {},
   "outputs": [
    {
     "data": {
      "text/plain": [
       "82803"
      ]
     },
     "execution_count": 531,
     "metadata": {},
     "output_type": "execute_result"
    }
   ],
   "source": [
    "n_items"
   ]
  },
  {
   "cell_type": "markdown",
   "id": "f0d39630-9783-4364-b31e-745d3df717f1",
   "metadata": {},
   "source": [
    "# Train VAE "
   ]
  },
  {
   "cell_type": "code",
   "execution_count": null,
   "id": "f9f683f1-5d75-4225-b38a-e7eeee3c2258",
   "metadata": {},
   "outputs": [],
   "source": [
    "# !python recvae/run.py --dataset outputdir−−n−epochs50−−gamma0.005−−savemodeloutput_dir --n-epochs 50 --gamma 0.005 --save_model output_dir/model.pt"
   ]
  },
  {
   "cell_type": "code",
   "execution_count": null,
   "id": "68ed2e0a-bbd0-4d4e-9fab-1c6454c8505f",
   "metadata": {},
   "outputs": [],
   "source": [
    "!python recvae/run.py --dataset $output_dir --n-epochs 100 --hidden-dim 2048 --latent-dim 1024 --gamma 0.01 --implicitslim --step 18 --lambd 500 --alpha 1 --lr 1e-4 --batch-size 256 --threshold 1000 --save_model $output_dir/model.pt"
   ]
  },
  {
   "cell_type": "markdown",
   "id": "5b088088-2881-4196-a770-ebdd7841c978",
   "metadata": {},
   "source": [
    "# Inference"
   ]
  },
  {
   "cell_type": "code",
   "execution_count": 554,
   "id": "f208cb39-dc0e-4273-b8c6-9423bee2cf22",
   "metadata": {},
   "outputs": [
    {
     "data": {
      "text/plain": [
       "'runs/vae_demon_king'"
      ]
     },
     "execution_count": 554,
     "metadata": {},
     "output_type": "execute_result"
    }
   ],
   "source": [
    "output_dir"
   ]
  },
  {
   "cell_type": "code",
   "execution_count": 555,
   "id": "73041d1e-c7a4-4081-bf83-085e4063f644",
   "metadata": {},
   "outputs": [],
   "source": [
    "df = pd.read_csv(f\"{output_dir}/data.csv\")"
   ]
  },
  {
   "cell_type": "code",
   "execution_count": 556,
   "id": "da9ace86-5c37-4ae2-b991-b9aa7b739d98",
   "metadata": {},
   "outputs": [],
   "source": [
    "test = pd.read_csv(\"data/test_set_private.csv\", header=None)"
   ]
  },
  {
   "cell_type": "code",
   "execution_count": 557,
   "id": "224f55e1-380f-4ce1-8767-0708306da164",
   "metadata": {},
   "outputs": [],
   "source": [
    "id2item_df = pd.read_csv(f\"{output_dir}/unique_sid.txt\", header=None).rename(columns={0: \"ItemId\"}).reset_index()"
   ]
  },
  {
   "cell_type": "code",
   "execution_count": 558,
   "id": "fce8869d-8a45-4bfa-b3ff-8a23b27b31b0",
   "metadata": {},
   "outputs": [],
   "source": [
    "# tail20 = df.groupby(\"UserId\").tail(50)"
   ]
  },
  {
   "cell_type": "code",
   "execution_count": 559,
   "id": "008d6ca7-2c52-4bed-994e-aa9bf66e712b",
   "metadata": {},
   "outputs": [],
   "source": [
    "test_tr = df[df[\"UserId\"].isin(test[0].values)]\n",
    "# test_tr = tail20[tail20[\"UserId\"].isin(test[0].values)]\n",
    "test_tr = test_tr.merge(id2item_df, how=\"inner\", on=\"ItemId\").rename(columns={\"index\": \"sid\"})\n",
    "user_test = pd.DataFrame(test_tr[\"UserId\"].unique(), columns=[\"UserId\"]).reset_index().rename(columns={\"index\" : \"uid\"})\n",
    "test_tr = pd.merge(test_tr, user_test, on=\"UserId\")\n",
    "test_tr[[\"uid\", \"sid\"]].to_csv(f\"{output_dir}/testset_recvae.csv\", index=False)"
   ]
  },
  {
   "cell_type": "code",
   "execution_count": 560,
   "id": "aeaf1669-647b-409b-b3d9-130eb79de2d6",
   "metadata": {},
   "outputs": [],
   "source": [
    "import os\n",
    "os.environ[\"CUDA_VISIBLE_DEVICES\"] = \"0\""
   ]
  },
  {
   "cell_type": "code",
   "execution_count": 561,
   "id": "87a5b3c0-9842-4c02-81b0-55901af4ec03",
   "metadata": {},
   "outputs": [
    {
     "name": "stdout",
     "output_type": "stream",
     "text": [
      "[0. 1.]\n",
      "(4225, 82803)\n"
     ]
    }
   ],
   "source": [
    "!python recvae/infer.py --dataset $output_dir --hidden-dim 3062 --latent-dim 2048 --infer_data $output_dir/testset_recvae.csv --model_path $output_dir/currect_model.pt "
   ]
  },
  {
   "cell_type": "code",
   "execution_count": 562,
   "id": "af717ce0-9915-4699-a55e-7e474952f9ba",
   "metadata": {},
   "outputs": [],
   "source": [
    "import pickle\n",
    "with open(f\"{output_dir}/result_csp.pkl\", \"rb\") as f:\n",
    "    result = pickle.load(f)\n",
    "\n",
    "id2profile = dict(user_test.values)\n",
    "profile2id = {value: key for key, value in id2profile.items()}\n",
    "id2item = dict(id2item_df.values)\n",
    "item2id = {value: key for key, value in id2item.items()}"
   ]
  },
  {
   "cell_type": "code",
   "execution_count": 563,
   "id": "5939357f-2130-4ad2-a15e-fd400d52c086",
   "metadata": {},
   "outputs": [
    {
     "data": {
      "text/plain": [
       "(4225, 82803)"
      ]
     },
     "execution_count": 563,
     "metadata": {},
     "output_type": "execute_result"
    }
   ],
   "source": [
    "result.shape"
   ]
  },
  {
   "cell_type": "code",
   "execution_count": 564,
   "id": "f3dc9d41-728f-46dc-a4e3-ad08c3f6afeb",
   "metadata": {},
   "outputs": [],
   "source": [
    "# user_score = pd.DataFrame(result, columns=item2id.keys())\n",
    "# user_score[\"UserId\"] = profile2id.keys()\n",
    "# user_score.set_index(\"UserId\")"
   ]
  },
  {
   "cell_type": "code",
   "execution_count": 565,
   "id": "6e5483e0-6337-4d86-87eb-909fa29558b5",
   "metadata": {},
   "outputs": [],
   "source": [
    "# user_score.to_parquet(f\"{output_dir}/user_score.parquet\")"
   ]
  },
  {
   "cell_type": "code",
   "execution_count": 566,
   "id": "3fadda03-5b7c-4004-b961-9037098d16aa",
   "metadata": {},
   "outputs": [
    {
     "data": {
      "application/vnd.jupyter.widget-view+json": {
       "model_id": "3ac9867f35c948fcbfaec4e056dacc6d",
       "version_major": 2,
       "version_minor": 0
      },
      "text/plain": [
       "  0%|          | 0/4225 [00:00<?, ?it/s]"
      ]
     },
     "metadata": {},
     "output_type": "display_data"
    }
   ],
   "source": [
    "import numpy as np\n",
    "from tqdm.notebook import tqdm\n",
    "return_list = []\n",
    "for r in tqdm(test.merge(user_test, left_on=0, right_on=\"UserId\", how=\"left\").values):\n",
    "    userid = r[0]\n",
    "    list_item = r[1:1001]\n",
    "    uid = r[1001]\n",
    "    \n",
    "    # Process User not in Test By get the default list\n",
    "    if np.isnan(uid):\n",
    "        return_list.append([userid, *list_item])\n",
    "        continue\n",
    "\n",
    "    # Convert ItemId to indexs of sparse vector\n",
    "    item_indexs = []\n",
    "    for l in list_item:\n",
    "        try:\n",
    "            item_indexs.append((item2id[l], l))\n",
    "        except:\n",
    "            pass\n",
    "\n",
    "    # Score and sorted to get to recommend item\n",
    "    scored_item = []\n",
    "    indexes, itemids = map(list,zip(*item_indexs))\n",
    "    for item, score in zip(itemids, result[int(uid)][indexes]):\n",
    "        scored_item.append((item, score))\n",
    "\n",
    "    scored_item = sorted(scored_item, key=lambda x : x[1], reverse=True)\n",
    "    recommend_list, _ = map(list,zip(*scored_item))\n",
    "\n",
    "    # Append to return list to make submit\n",
    "    return_list.append([userid, *recommend_list])"
   ]
  },
  {
   "cell_type": "code",
   "execution_count": 567,
   "id": "26b01f18-6704-4d34-9fc0-51ab30a65997",
   "metadata": {},
   "outputs": [],
   "source": [
    "return_df = pd.DataFrame(return_list)"
   ]
  },
  {
   "cell_type": "code",
   "execution_count": 568,
   "id": "ed22a8db-ca95-4513-bcf2-c61e00d94fbe",
   "metadata": {},
   "outputs": [],
   "source": [
    "# Fill remanining cells as nan value to make submit file eligible\n",
    "for i in range(len(return_df.columns), 1001):\n",
    "    return_df[i] = np.nan"
   ]
  },
  {
   "cell_type": "code",
   "execution_count": 569,
   "id": "37a5e08c-bf12-4427-82c6-1f04a64b43be",
   "metadata": {},
   "outputs": [],
   "source": [
    "return_df.fillna(\"0\").to_csv(f\"{output_dir}/predict.csv\", header=None, index=False)"
   ]
  },
  {
   "cell_type": "code",
   "execution_count": 570,
   "id": "9e3cb83e-bdf5-4174-889d-5344ccba1d89",
   "metadata": {},
   "outputs": [
    {
     "name": "stdout",
     "output_type": "stream",
     "text": [
      "  adding: predict.csv (deflated 27%)\n"
     ]
    }
   ],
   "source": [
    "!cd $output_dir && zip predict_RecVAE_THE_CHAMP.zip predict.csv"
   ]
  },
  {
   "cell_type": "code",
   "execution_count": null,
   "id": "293e0339-349e-4ef7-aad9-9618c29e89af",
   "metadata": {},
   "outputs": [],
   "source": [
    "!unzip -l $output_dir/predict_recvae_few_item.zip"
   ]
  },
  {
   "cell_type": "markdown",
   "id": "528c1a76-09c4-4f4d-906b-02664212c8e6",
   "metadata": {},
   "source": [
    "# Get User Latent Space"
   ]
  },
  {
   "cell_type": "code",
   "execution_count": 55,
   "id": "d0f7a81a-d937-46c0-9da7-4b764c39fe83",
   "metadata": {},
   "outputs": [],
   "source": [
    "id2item_df = pd.read_csv(f\"{output_dir}/unique_sid.txt\", header=None).rename(columns={0: \"ItemId\"}).reset_index()"
   ]
  },
  {
   "cell_type": "code",
   "execution_count": 56,
   "id": "8e5bc482-5b9d-4328-9680-bf8d30ba2efc",
   "metadata": {},
   "outputs": [],
   "source": [
    "test_tr = df.copy(deep=True)\n",
    "test_tr = test_tr.merge(id2item_df, how=\"inner\", on=\"ItemId\").rename(columns={\"index\": \"sid\"})\n",
    "user_test = pd.DataFrame(test_tr[\"UserId\"].unique(), columns=[\"UserId\"]).reset_index().rename(columns={\"index\" : \"uid\"})\n",
    "test_tr = pd.merge(test_tr, user_test, on=\"UserId\")\n",
    "test_tr[[\"uid\", \"sid\"]].to_csv(f\"{output_dir}/userset_latent.csv\", index=False)"
   ]
  },
  {
   "cell_type": "code",
   "execution_count": 57,
   "id": "60b0ca38-98c1-4f7c-bcf4-c9866f5c20c1",
   "metadata": {},
   "outputs": [],
   "source": [
    "import os\n",
    "os.environ[\"CUDA_VISIBLE_DEVICES\"]= \"0,1\""
   ]
  },
  {
   "cell_type": "code",
   "execution_count": null,
   "id": "e2ebe439-bac8-4261-8f18-5d6df0fc65ca",
   "metadata": {},
   "outputs": [],
   "source": [
    "# !python recvae/infer.py --return-latent --hidden-dim 2048 --latent-dim 1024 --dataset $output_dir --infer_data $output_dir/userset_latent.csv --model_path $output_dir/model.pt "
   ]
  },
  {
   "cell_type": "code",
   "execution_count": 59,
   "id": "7b8371f9-a297-42e5-b046-aa1f4c2f75ac",
   "metadata": {},
   "outputs": [
    {
     "name": "stdout",
     "output_type": "stream",
     "text": [
      "[0. 1.]\n",
      "(36748, 82652)\n"
     ]
    }
   ],
   "source": [
    "!python recvae/infer.py --hidden-dim 2048 --latent-dim 1024 --dataset $output_dir --infer_data $output_dir/userset_latent.csv --model_path $output_dir/model.pt "
   ]
  },
  {
   "cell_type": "code",
   "execution_count": 60,
   "id": "3b960422-d337-4811-b11e-975e7221208a",
   "metadata": {},
   "outputs": [],
   "source": [
    "import pickle\n",
    "with open(f\"{output_dir}/result_csp.pkl\", \"rb\") as f:\n",
    "    result = pickle.load(f)\n",
    "\n",
    "id2profile = dict(user_test.values)\n",
    "profile2id = {value: key for key, value in id2profile.items()}\n",
    "id2item = dict(id2item_df.values)\n",
    "item2id = {value: key for key, value in id2item.items()}"
   ]
  },
  {
   "cell_type": "code",
   "execution_count": 83,
   "id": "ada4d342-e9b2-4d9a-a219-82400540c4c9",
   "metadata": {},
   "outputs": [
    {
     "data": {
      "application/vnd.jupyter.widget-view+json": {
       "model_id": "a578b8a8a8df4cf99bb32b10827c1eb6",
       "version_major": 2,
       "version_minor": 0
      },
      "text/plain": [
       "  0%|          | 0/36748 [00:00<?, ?it/s]"
      ]
     },
     "metadata": {},
     "output_type": "display_data"
    }
   ],
   "source": [
    "from tqdm.notebook import tqdm\n",
    "full_score = {}\n",
    "for index, matrix in tqdm(enumerate(result), total=len(result)):\n",
    "    user_item = {}\n",
    "    for i in (np.argsort(matrix)[::-1][:20]):\n",
    "        user_item[id2item[i]] = float(matrix[i])\n",
    "\n",
    "    full_score[id2profile[index]] = user_item\n",
    "    "
   ]
  },
  {
   "cell_type": "code",
   "execution_count": 84,
   "id": "859efa70-433b-42ed-a30a-2e55d324bde1",
   "metadata": {},
   "outputs": [],
   "source": [
    "import pickle\n",
    "with open(f\"{output_dir}/user_item_score.pkl\", \"wb\") as f:\n",
    "    pickle.dump(full_score, f)"
   ]
  },
  {
   "cell_type": "code",
   "execution_count": null,
   "id": "d3e2a6e5-40ae-44d5-9b01-60b0f234358c",
   "metadata": {},
   "outputs": [],
   "source": [
    "import pickle\n",
    "with open(f\"{output_dir}/result_latent.pkl\", \"rb\") as f:\n",
    "    result = pickle.load(f)\n",
    "\n",
    "id2profile = dict(user_test.values)\n",
    "profile2id = {value: key for key, value in id2profile.items()}"
   ]
  },
  {
   "cell_type": "code",
   "execution_count": null,
   "id": "ade1e591-cf86-4f9b-b0c8-73e8404f13ef",
   "metadata": {},
   "outputs": [],
   "source": [
    "import pickle\n",
    "emb_user = dict([(k, v) for k, v in zip(profile2id.keys(), result)])\n",
    "with open(f\"{output_dir}/user_embedding.pkl\", \"wb\") as f:\n",
    "    pickle.dump(emb_user, f)"
   ]
  },
  {
   "cell_type": "code",
   "execution_count": null,
   "id": "459a8d66-6129-4b18-bcc0-f4973fa6b920",
   "metadata": {},
   "outputs": [],
   "source": [
    "import os\n",
    "os.environ[\"CUDA_VISIBLE_DEVICES\"]= \"1\"\n",
    "\n",
    "# from sklearn.manifold import TSNE\n",
    "from cuml import TSNE\n",
    "\n",
    "tsne = TSNE(n_components=2, random_state=42, n_neighbors=90)\n",
    "X_tsne = tsne.fit_transform(result)\n",
    "tsne.kl_divergence_"
   ]
  },
  {
   "cell_type": "code",
   "execution_count": null,
   "id": "8410418a-d56a-4fd2-b588-bfcec253825c",
   "metadata": {},
   "outputs": [],
   "source": [
    "import plotly.express as px\n",
    "\n",
    "fig = px.scatter(x=X_tsne[:, 0], y=X_tsne[:, 1], color = soft_clusters.argmax(axis=1)\n",
    "                # color=X_tsne[:, 2]\n",
    "                )\n",
    "fig.update_layout(\n",
    "    title=\"User Latent Space\",\n",
    "    xaxis_title=\"x\",\n",
    "    yaxis_title=\"y\",\n",
    ")\n",
    "fig.show()"
   ]
  },
  {
   "cell_type": "markdown",
   "id": "c3198882-7750-414d-9f1a-d56c01845504",
   "metadata": {},
   "source": [
    "# Get Item Latent Space"
   ]
  },
  {
   "cell_type": "code",
   "execution_count": null,
   "id": "cd1476c0-802b-4c6c-b6fc-339680902954",
   "metadata": {},
   "outputs": [],
   "source": [
    "id2item_df = pd.read_csv(f\"{output_dir}/unique_sid.txt\", header=None).rename(columns={0: \"ItemId\"}).reset_index()"
   ]
  },
  {
   "cell_type": "code",
   "execution_count": null,
   "id": "b7573d86-fbe2-45f6-b6c6-1366ee264044",
   "metadata": {},
   "outputs": [],
   "source": [
    "id2item = dict(id2item_df.values)\n",
    "item2id = {value: key for key, value in id2item.items()}"
   ]
  },
  {
   "cell_type": "code",
   "execution_count": null,
   "id": "eadfce78-a56f-477b-a52a-1f11d3a5ba11",
   "metadata": {},
   "outputs": [],
   "source": [
    "id2item_df[\"uid\"] = id2item_df[\"index\"]\n",
    "id2item_df[\"sid\"] = id2item_df[\"index\"]"
   ]
  },
  {
   "cell_type": "code",
   "execution_count": null,
   "id": "f343b648-3ce4-45b9-be07-751f5e963197",
   "metadata": {},
   "outputs": [],
   "source": [
    "id2item_df[[\"uid\", \"sid\"]].to_csv(f\"{output_dir}/itemset_latent.csv\", index=False)"
   ]
  },
  {
   "cell_type": "code",
   "execution_count": null,
   "id": "774bb9d1-bfe0-4f8e-89fb-14d693a342a9",
   "metadata": {},
   "outputs": [],
   "source": [
    "import os \n",
    "os.environ[\"CUDA_VISIBLE_DEVICES\"]= \"0,1\""
   ]
  },
  {
   "cell_type": "code",
   "execution_count": null,
   "id": "6f783451-885f-4ecb-8e3d-8b5c0a6f5129",
   "metadata": {},
   "outputs": [],
   "source": [
    "!python recvae/infer.py --return-latent --hidden-dim 2048 --latent-dim 1024 --dataset $output_dir --infer_data $output_dir/itemset_latent.csv --model_path $output_dir/model.pt "
   ]
  },
  {
   "cell_type": "code",
   "execution_count": null,
   "id": "428d5d5a-579f-4a9b-b7aa-24a208230417",
   "metadata": {},
   "outputs": [],
   "source": [
    "import pickle\n",
    "with open(f\"{output_dir}/result_latent.pkl\", \"rb\") as f:\n",
    "    result = pickle.load(f)"
   ]
  },
  {
   "cell_type": "code",
   "execution_count": null,
   "id": "4fe03a7c-f613-4cb5-bd5e-1a116dfc3c3b",
   "metadata": {},
   "outputs": [],
   "source": [
    "import pickle\n",
    "emb_item = dict([(k, v) for k, v in zip(item2id.keys(), result)])\n",
    "with open(f\"{output_dir}/item_embedding.pkl\", \"wb\") as f:\n",
    "    pickle.dump(emb_item, f)"
   ]
  },
  {
   "cell_type": "code",
   "execution_count": 14,
   "id": "cad89b58-295a-4c7e-9ae6-81f835adf730",
   "metadata": {},
   "outputs": [
    {
     "ename": "NameError",
     "evalue": "name 'emb_item' is not defined",
     "output_type": "error",
     "traceback": [
      "\u001b[0;31m---------------------------------------------------------------------------\u001b[0m",
      "\u001b[0;31mNameError\u001b[0m                                 Traceback (most recent call last)",
      "Cell \u001b[0;32mIn[14], line 1\u001b[0m\n\u001b[0;32m----> 1\u001b[0m \u001b[43memb_item\u001b[49m[\u001b[38;5;124m\"\u001b[39m\u001b[38;5;124mtyviMi4b8Q\u001b[39m\u001b[38;5;124m\"\u001b[39m]\u001b[38;5;241m.\u001b[39mshape\n",
      "\u001b[0;31mNameError\u001b[0m: name 'emb_item' is not defined"
     ]
    }
   ],
   "source": [
    "emb_item[\"tyviMi4b8Q\"].shape"
   ]
  },
  {
   "cell_type": "code",
   "execution_count": null,
   "id": "1ba2c7ca-8b54-4cbf-bee3-b3d5417df782",
   "metadata": {},
   "outputs": [],
   "source": [
    "from sklearn.manifold import TSNE\n",
    "from cuml import TSNE\n",
    "\n",
    "import os \n",
    "os.environ[\"CUDA_VISIBLE_DEVICES\"]= \"1\"\n",
    "\n",
    "tsne = TSNE(n_components=2, random_state=42)\n",
    "X_tsne = tsne.fit_transform(result)\n",
    "tsne.kl_divergence_"
   ]
  },
  {
   "cell_type": "code",
   "execution_count": null,
   "id": "65de81da-bcb1-4435-bc5e-0db0cd18230f",
   "metadata": {},
   "outputs": [],
   "source": [
    "import plotly.express as px\n",
    "\n",
    "fig = px.scatter(x=X_tsne[:, 0], y=X_tsne[:, 1])\n",
    "fig.update_layout(\n",
    "    title=\"Item Latent Space\",\n",
    "    xaxis_title=\"x\",\n",
    "    yaxis_title=\"y\",\n",
    ")\n",
    "fig.show()"
   ]
  },
  {
   "cell_type": "code",
   "execution_count": null,
   "id": "bb8a87c7-5359-40de-ac47-c7516faf924b",
   "metadata": {},
   "outputs": [],
   "source": []
  }
 ],
 "metadata": {
  "kernelspec": {
   "display_name": "rapidsai",
   "language": "python",
   "name": "rapidsai"
  },
  "language_info": {
   "codemirror_mode": {
    "name": "ipython",
    "version": 3
   },
   "file_extension": ".py",
   "mimetype": "text/x-python",
   "name": "python",
   "nbconvert_exporter": "python",
   "pygments_lexer": "ipython3",
   "version": "3.11.10"
  }
 },
 "nbformat": 4,
 "nbformat_minor": 5
}
