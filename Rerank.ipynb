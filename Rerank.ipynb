{
 "cells": [
  {
   "cell_type": "markdown",
   "id": "b00c63c8",
   "metadata": {
    "papermill": {
     "duration": 0.012033,
     "end_time": "2024-11-19T17:54:05.462925",
     "exception": false,
     "start_time": "2024-11-19T17:54:05.450892",
     "status": "completed"
    },
    "tags": []
   },
   "source": [
    "* User feature như sau:\n",
    "+ User embed\n",
    "+ User mua bao nhiêu sản phẩm\n",
    "+ User tỷ lệ mua bao nhiêu\n",
    "* Item feature như sau:\n",
    "+ Item embed\n",
    "+ Item được tương tác bao lần\n",
    "+ Item hay được mua cùng như nào (Co-visitation matrix)\n",
    "+ Item có tỷ lệ mua là bao nhiêu\n",
    "* User-Item feature\n",
    "+ score embedding từ 4 model\n",
    "\n",
    "Tạo candidate bằng cách lấy dữ liệu thật có trường rating, negative sample bằng XSimGCL \n",
    "Tập test là tập user id trong test\n",
    "Infer bằng cách lấy top 20 sau khi rerank bằng XSimGCL rerank lại hoặc lấy luôn 1000 sản phẩm rerank"
   ]
  },
  {
   "cell_type": "code",
   "execution_count": 4,
   "id": "a5e41131",
   "metadata": {
    "papermill": {
     "duration": 3.230585,
     "end_time": "2024-11-19T17:54:08.704693",
     "exception": false,
     "start_time": "2024-11-19T17:54:05.474108",
     "status": "completed"
    },
    "tags": []
   },
   "outputs": [],
   "source": [
    "import torch\n",
    "import warnings\n",
    "import gc\n",
    "import logging\n",
    "from tqdm import tqdm\n",
    "import os\n",
    "import glob\n",
    "import csv\n",
    "import pandas as pd\n",
    "warnings.filterwarnings('ignore')"
   ]
  },
  {
   "cell_type": "code",
   "execution_count": 5,
   "id": "e4f6094e",
   "metadata": {
    "papermill": {
     "duration": 2.817414,
     "end_time": "2024-11-19T17:54:11.533465",
     "exception": false,
     "start_time": "2024-11-19T17:54:08.716051",
     "status": "completed"
    },
    "tags": []
   },
   "outputs": [],
   "source": [
    "predict_df = pd.read_csv('data/test_set_private.csv', names=['user_id'] + [f'item_id_{i}' for i in range(1,1001)])\n",
    "test_user_id = predict_df['user_id'].values"
   ]
  },
  {
   "cell_type": "code",
   "execution_count": null,
   "id": "204c5fb1",
   "metadata": {
    "papermill": {
     "duration": 0.019473,
     "end_time": "2024-11-19T17:54:11.566090",
     "exception": false,
     "start_time": "2024-11-19T17:54:11.546617",
     "status": "completed"
    },
    "tags": []
   },
   "outputs": [],
   "source": [
    "# !pip install gitpython --quiet\n",
    "# import git\n",
    "# git.Repo.clone_from('https://github.com/Coder-Yu/SELFRec.git', '/kaggle/working/sample')"
   ]
  },
  {
   "cell_type": "code",
   "execution_count": 5,
   "id": "d48de4b8",
   "metadata": {
    "execution": {
     "iopub.execute_input": "2024-11-19T17:54:11.592092Z",
     "iopub.status.busy": "2024-11-19T17:54:11.591699Z",
     "iopub.status.idle": "2024-11-19T17:54:11.596470Z",
     "shell.execute_reply": "2024-11-19T17:54:11.595377Z"
    },
    "papermill": {
     "duration": 0.020822,
     "end_time": "2024-11-19T17:54:11.598898",
     "exception": false,
     "start_time": "2024-11-19T17:54:11.578076",
     "status": "completed"
    },
    "tags": []
   },
   "outputs": [],
   "source": [
    "# cd /kaggle/working/sample"
   ]
  },
  {
   "cell_type": "code",
   "execution_count": 6,
   "id": "12f84090",
   "metadata": {
    "execution": {
     "iopub.execute_input": "2024-11-19T17:54:11.622521Z",
     "iopub.status.busy": "2024-11-19T17:54:11.622100Z",
     "iopub.status.idle": "2024-11-19T17:54:30.130423Z",
     "shell.execute_reply": "2024-11-19T17:54:30.128805Z"
    },
    "papermill": {
     "duration": 18.523176,
     "end_time": "2024-11-19T17:54:30.133071",
     "exception": false,
     "start_time": "2024-11-19T17:54:11.609895",
     "status": "completed"
    },
    "tags": []
   },
   "outputs": [],
   "source": [
    "user_embedding_simgcl = pd.read_pickle('/kaggle/input/weight-model/user_embedding_simgcl.pkl')\n",
    "user_embedding_lightgcn = pd.read_pickle('/kaggle/input/weight-model/user_embedding_lightgcn.pkl')\n",
    "# user_embedding_recvae = pd.read_pickle('/kaggle/input/weight-model/user_embedding_recvae.pkl')\n",
    "user_embedding_xsim = pd.read_pickle('/kaggle/input/weight-model/emb_user_XSim_full.pickle')\n",
    "user_embedding_xsim_standard = pd.read_pickle('/kaggle/input/weight-model/emb_user_XSim_standard.pickle')\n",
    "user_embedding_xsim_denoise = pd.read_pickle('/kaggle/input/weight-model/emb_user_XSim_denoise.pickle')\n",
    "item_embedding_simgcl = pd.read_pickle('/kaggle/input/weight-model/item_embedding_simgcl.pkl')\n",
    "item_embedding_lightgcn = pd.read_pickle('/kaggle/input/weight-model/item_embedding_lightgcn.pkl')\n",
    "# item_embedding_recvae = pd.read_pickle('/kaggle/input/weight-model/item_embedding_recvae.pkl')\n",
    "item_embedding_xsim = pd.read_pickle('/kaggle/input/weight-model/emb_item_XSim_full.pickle')\n",
    "item_embedding_xsim_standard = pd.read_pickle('/kaggle/input/weight-model/emb_item_XSim_standard.pickle')\n",
    "item_embedding_xsim_denoise = pd.read_pickle('/kaggle/input/weight-model/emb_item_XSim_denoise.pickle')"
   ]
  },
  {
   "cell_type": "code",
   "execution_count": 7,
   "id": "07ff9c8d",
   "metadata": {
    "execution": {
     "iopub.execute_input": "2024-11-19T17:54:30.156794Z",
     "iopub.status.busy": "2024-11-19T17:54:30.156397Z",
     "iopub.status.idle": "2024-11-19T17:54:31.996606Z",
     "shell.execute_reply": "2024-11-19T17:54:31.995459Z"
    },
    "papermill": {
     "duration": 1.855377,
     "end_time": "2024-11-19T17:54:31.999475",
     "exception": false,
     "start_time": "2024-11-19T17:54:30.144098",
     "status": "completed"
    },
    "tags": []
   },
   "outputs": [],
   "source": [
    "buy_order_full = pd.read_csv('/kaggle/input/covisitation-matrix/buy_order_full.csv')\n",
    "buy_order_standard = pd.read_csv('/kaggle/input/covisitation-matrix/buy_order_standard.csv')\n",
    "cart_order_full = pd.read_csv('/kaggle/input/covisitation-matrix/cart_order_full.csv')\n",
    "cart_order_standard = pd.read_csv('/kaggle/input/covisitation-matrix/cart_order_standard.csv')"
   ]
  },
  {
   "cell_type": "code",
   "execution_count": 8,
   "id": "db92b27c",
   "metadata": {
    "execution": {
     "iopub.execute_input": "2024-11-19T17:54:32.023412Z",
     "iopub.status.busy": "2024-11-19T17:54:32.023013Z",
     "iopub.status.idle": "2024-11-19T17:54:32.355043Z",
     "shell.execute_reply": "2024-11-19T17:54:32.353921Z"
    },
    "papermill": {
     "duration": 0.346799,
     "end_time": "2024-11-19T17:54:32.357686",
     "exception": false,
     "start_time": "2024-11-19T17:54:32.010887",
     "status": "completed"
    },
    "tags": []
   },
   "outputs": [],
   "source": [
    "buy_order_full = buy_order_full.groupby('ItemId_x')['wgt'].sum().reset_index().rename(columns={'ItemId_x': 'ItemId', 'wgt': 'buy_order_full'})\n",
    "buy_order_standard = buy_order_standard.groupby('ItemId_x')['wgt'].sum().reset_index().rename(columns={'ItemId_x': 'ItemId', 'wgt': 'buy_order_standard'})\n",
    "cart_order_full = cart_order_full.groupby('ItemId_x')['wgt'].sum().reset_index().rename(columns={'ItemId_x': 'ItemId','wgt': 'cart_order_full'})\n",
    "cart_order_standard = cart_order_standard.groupby('ItemId_x')['wgt'].sum().reset_index().rename(columns={'ItemId_x': 'ItemId','wgt': 'cart_order_standard'})"
   ]
  },
  {
   "cell_type": "code",
   "execution_count": 9,
   "id": "58e0c008",
   "metadata": {
    "execution": {
     "iopub.execute_input": "2024-11-19T17:54:32.389109Z",
     "iopub.status.busy": "2024-11-19T17:54:32.388720Z",
     "iopub.status.idle": "2024-11-19T17:54:33.545029Z",
     "shell.execute_reply": "2024-11-19T17:54:33.543937Z"
    },
    "papermill": {
     "duration": 1.174222,
     "end_time": "2024-11-19T17:54:33.548244",
     "exception": false,
     "start_time": "2024-11-19T17:54:32.374022",
     "status": "completed"
    },
    "tags": []
   },
   "outputs": [],
   "source": [
    "user_embedding_xsim_128 = pd.read_pickle('/kaggle/input/weight-model/emb_user_XSim_128.pickle')\n",
    "item_embedding_xsim_128 = pd.read_pickle('/kaggle/input/weight-model/emb_item_XSim128.pickle')"
   ]
  },
  {
   "cell_type": "code",
   "execution_count": 10,
   "id": "2b84b271",
   "metadata": {
    "execution": {
     "iopub.execute_input": "2024-11-19T17:54:33.580852Z",
     "iopub.status.busy": "2024-11-19T17:54:33.580163Z",
     "iopub.status.idle": "2024-11-19T17:54:33.590274Z",
     "shell.execute_reply": "2024-11-19T17:54:33.589040Z"
    },
    "papermill": {
     "duration": 0.026426,
     "end_time": "2024-11-19T17:54:33.593080",
     "exception": false,
     "start_time": "2024-11-19T17:54:33.566654",
     "status": "completed"
    },
    "tags": []
   },
   "outputs": [],
   "source": [
    "def convert_embeddings_to_df(id_name, embeddings_dict):\n",
    "    \"\"\"\n",
    "    Chuyển đổi dictionary chứa id và vector embedding thành pandas dataframe\n",
    "    \n",
    "    Parameters:\n",
    "    embeddings_dict (dict): Dictionary với key là id và value là vector embedding 128 chiều\n",
    "    \n",
    "    Returns:\n",
    "    pandas.DataFrame: DataFrame với 129 cột (1 cột id và 128 cột cho vector embedding)\n",
    "    \"\"\"\n",
    "    # Tạo list các records, mỗi record là list chứa id và 128 giá trị embedding\n",
    "    records = []\n",
    "    for id_, embedding in embeddings_dict.items():\n",
    "        record = [id_] + embedding.tolist() if isinstance(embedding, np.ndarray) else [id_] + embedding\n",
    "        records.append(record)\n",
    "    \n",
    "    # Tạo tên cho các cột\n",
    "    columns = [id_name] + [f'dim_{id_name}_{i}' for i in range(128)]\n",
    "    \n",
    "    # Tạo DataFrame\n",
    "    df = pd.DataFrame(records, columns=columns)\n",
    "    \n",
    "    return df"
   ]
  },
  {
   "cell_type": "code",
   "execution_count": 11,
   "id": "96c4eb28",
   "metadata": {
    "execution": {
     "iopub.execute_input": "2024-11-19T17:54:33.618431Z",
     "iopub.status.busy": "2024-11-19T17:54:33.617997Z",
     "iopub.status.idle": "2024-11-19T17:54:38.723108Z",
     "shell.execute_reply": "2024-11-19T17:54:38.722068Z"
    },
    "papermill": {
     "duration": 5.12055,
     "end_time": "2024-11-19T17:54:38.725679",
     "exception": false,
     "start_time": "2024-11-19T17:54:33.605129",
     "status": "completed"
    },
    "tags": []
   },
   "outputs": [],
   "source": [
    "item_embed_feature = convert_embeddings_to_df('ItemId',item_embedding_xsim_128)\n",
    "user_embed_feature = convert_embeddings_to_df('UserId',user_embedding_xsim_128)"
   ]
  },
  {
   "cell_type": "code",
   "execution_count": 12,
   "id": "d45ffbbe",
   "metadata": {
    "execution": {
     "iopub.execute_input": "2024-11-19T17:54:38.749177Z",
     "iopub.status.busy": "2024-11-19T17:54:38.748815Z",
     "iopub.status.idle": "2024-11-19T17:54:59.461480Z",
     "shell.execute_reply": "2024-11-19T17:54:59.460331Z"
    },
    "papermill": {
     "duration": 20.727333,
     "end_time": "2024-11-19T17:54:59.464059",
     "exception": false,
     "start_time": "2024-11-19T17:54:38.736726",
     "status": "completed"
    },
    "tags": []
   },
   "outputs": [],
   "source": [
    "user_emb = []\n",
    "user2id = {}\n",
    "cnt = 0\n",
    "user_list_xsim = []\n",
    "for user in user_embedding_xsim:\n",
    "    user_emb.append(user_embedding_xsim[user])\n",
    "    user_list_xsim.append(user)\n",
    "    user2id[user] = cnt\n",
    "    cnt+=1\n",
    "user_emb = torch.tensor(user_emb)\n",
    "\n",
    "item_emb = []\n",
    "item2id = {}\n",
    "cnt = 0\n",
    "item_list_xsim = []\n",
    "for item in item_embedding_xsim:\n",
    "    item_emb.append(item_embedding_xsim[item])\n",
    "    item_list_xsim.append(item)\n",
    "    item2id[item] = cnt\n",
    "    cnt+=1\n",
    "item_emb = torch.tensor(item_emb)"
   ]
  },
  {
   "cell_type": "code",
   "execution_count": 13,
   "id": "3af388dc",
   "metadata": {
    "execution": {
     "iopub.execute_input": "2024-11-19T17:54:59.487825Z",
     "iopub.status.busy": "2024-11-19T17:54:59.487399Z",
     "iopub.status.idle": "2024-11-19T17:54:59.495446Z",
     "shell.execute_reply": "2024-11-19T17:54:59.494379Z"
    },
    "papermill": {
     "duration": 0.022677,
     "end_time": "2024-11-19T17:54:59.497923",
     "exception": false,
     "start_time": "2024-11-19T17:54:59.475246",
     "status": "completed"
    },
    "tags": []
   },
   "outputs": [
    {
     "data": {
      "text/plain": [
       "(36751, 82673)"
      ]
     },
     "execution_count": 13,
     "metadata": {},
     "output_type": "execute_result"
    }
   ],
   "source": [
    "len(user2id), len(item2id)"
   ]
  },
  {
   "cell_type": "code",
   "execution_count": 14,
   "id": "5d2790db",
   "metadata": {
    "execution": {
     "iopub.execute_input": "2024-11-19T17:54:59.523508Z",
     "iopub.status.busy": "2024-11-19T17:54:59.523124Z",
     "iopub.status.idle": "2024-11-19T17:54:59.942249Z",
     "shell.execute_reply": "2024-11-19T17:54:59.941144Z"
    },
    "papermill": {
     "duration": 0.434505,
     "end_time": "2024-11-19T17:54:59.944752",
     "exception": false,
     "start_time": "2024-11-19T17:54:59.510247",
     "status": "completed"
    },
    "tags": []
   },
   "outputs": [
    {
     "data": {
      "text/plain": [
       "((389923, 4), 36751, 83102)"
      ]
     },
     "execution_count": 14,
     "metadata": {},
     "output_type": "execute_result"
    }
   ],
   "source": [
    "data = pd.read_csv('data/training_set.csv')\n",
    "data.shape, data.UserId.nunique(), data.ItemId.nunique()"
   ]
  },
  {
   "cell_type": "code",
   "execution_count": 15,
   "id": "23ac675f",
   "metadata": {
    "execution": {
     "iopub.execute_input": "2024-11-19T17:54:59.969298Z",
     "iopub.status.busy": "2024-11-19T17:54:59.968930Z",
     "iopub.status.idle": "2024-11-19T17:55:01.236038Z",
     "shell.execute_reply": "2024-11-19T17:55:01.234397Z"
    },
    "papermill": {
     "duration": 1.282696,
     "end_time": "2024-11-19T17:55:01.238817",
     "exception": false,
     "start_time": "2024-11-19T17:54:59.956121",
     "status": "completed"
    },
    "tags": []
   },
   "outputs": [],
   "source": [
    "user_rated = data.groupby('UserId')['ItemId'].apply(list).to_dict()"
   ]
  },
  {
   "cell_type": "code",
   "execution_count": 16,
   "id": "498a8380",
   "metadata": {
    "execution": {
     "iopub.execute_input": "2024-11-19T17:55:01.264819Z",
     "iopub.status.busy": "2024-11-19T17:55:01.264421Z",
     "iopub.status.idle": "2024-11-19T17:55:01.277264Z",
     "shell.execute_reply": "2024-11-19T17:55:01.275956Z"
    },
    "papermill": {
     "duration": 0.028877,
     "end_time": "2024-11-19T17:55:01.279860",
     "exception": false,
     "start_time": "2024-11-19T17:55:01.250983",
     "status": "completed"
    },
    "tags": []
   },
   "outputs": [],
   "source": [
    "def find_k_largest(K, candidates):\n",
    "    n_candidates = []\n",
    "    for iid, score in enumerate(candidates[:K]):\n",
    "        n_candidates.append((score, iid))\n",
    "    heapq.heapify(n_candidates)\n",
    "    for iid, score in enumerate(candidates[K:]):\n",
    "        if score > n_candidates[0][0]:\n",
    "            heapq.heapreplace(n_candidates, (score, iid + K))\n",
    "    n_candidates.sort(key=lambda d: d[0], reverse=True)\n",
    "    ids = [item[1] for item in n_candidates]\n",
    "    k_largest_scores = [item[0] for item in n_candidates]\n",
    "    return ids, k_largest_scores\n",
    "    \n",
    "def generate_candidate(user_id_list):\n",
    "    def process_bar(num, total):\n",
    "        rate = float(num) / total\n",
    "        ratenum = int(50 * rate)\n",
    "        print(f'\\rProgress: [{\"+\" * ratenum}{\" \" * (50 - ratenum)}]{ratenum * 2}%', end='', flush=True)\n",
    "\n",
    "    rec_list = {}\n",
    "    user_count = len(user_id_list)\n",
    "    for i, user in enumerate(user_id_list):\n",
    "        candidates = torch.matmul(torch.tensor(user_embedding_xsim[user]), torch.tensor(item_emb.transpose(0, 1))).cpu().numpy()\n",
    "        rated_list = user_rated[user]\n",
    "        for item in rated_list:\n",
    "            try:\n",
    "                candidates[item2id[item]] = -10e8\n",
    "            except:\n",
    "                pass\n",
    "        ids, scores = find_k_largest(100, candidates)\n",
    "        item_names = [item_list_xsim[iid] for iid in ids]\n",
    "        rec_list[user] = list(zip(item_names, scores))\n",
    "        if i % 1000 == 0:\n",
    "            process_bar(i, user_count)\n",
    "    process_bar(user_count, user_count)\n",
    "    print('')\n",
    "    return rec_list"
   ]
  },
  {
   "cell_type": "code",
   "execution_count": 17,
   "id": "9f3bdc46",
   "metadata": {
    "execution": {
     "iopub.execute_input": "2024-11-19T17:55:01.306138Z",
     "iopub.status.busy": "2024-11-19T17:55:01.305762Z",
     "iopub.status.idle": "2024-11-19T17:55:01.310584Z",
     "shell.execute_reply": "2024-11-19T17:55:01.309338Z"
    },
    "papermill": {
     "duration": 0.02052,
     "end_time": "2024-11-19T17:55:01.312693",
     "exception": false,
     "start_time": "2024-11-19T17:55:01.292173",
     "status": "completed"
    },
    "tags": []
   },
   "outputs": [],
   "source": [
    "# rec_list = generate_candidate(user_list_xsim[:10000])"
   ]
  },
  {
   "cell_type": "code",
   "execution_count": 18,
   "id": "40d12da6",
   "metadata": {
    "execution": {
     "iopub.execute_input": "2024-11-19T17:55:01.336608Z",
     "iopub.status.busy": "2024-11-19T17:55:01.336218Z",
     "iopub.status.idle": "2024-11-19T17:55:03.326315Z",
     "shell.execute_reply": "2024-11-19T17:55:03.324986Z"
    },
    "papermill": {
     "duration": 2.00513,
     "end_time": "2024-11-19T17:55:03.328911",
     "exception": false,
     "start_time": "2024-11-19T17:55:01.323781",
     "status": "completed"
    },
    "tags": []
   },
   "outputs": [],
   "source": [
    "import pickle\n",
    "\n",
    "# with open('rec_list.pickle', 'wb') as handle:\n",
    "#     pickle.dump(rec_list, handle, protocol=pickle.HIGHEST_PROTOCOL)\n",
    "\n",
    "with open('/kaggle/input/weight-model/rec_list.pickle', 'rb') as handle:\n",
    "    rec_list = pickle.load(handle)"
   ]
  },
  {
   "cell_type": "code",
   "execution_count": 19,
   "id": "854dd1ee",
   "metadata": {
    "execution": {
     "iopub.execute_input": "2024-11-19T17:55:03.355011Z",
     "iopub.status.busy": "2024-11-19T17:55:03.354614Z",
     "iopub.status.idle": "2024-11-19T17:55:06.182394Z",
     "shell.execute_reply": "2024-11-19T17:55:06.180312Z"
    },
    "papermill": {
     "duration": 2.844449,
     "end_time": "2024-11-19T17:55:06.185469",
     "exception": false,
     "start_time": "2024-11-19T17:55:03.341020",
     "status": "completed"
    },
    "tags": []
   },
   "outputs": [],
   "source": [
    "data_sub_stage1 = pd.read_csv('/kaggle/input/submission/predict_ensemble_7file.csv', names = ['UserId'] + [f'item_id_{i}' for i in range(1,1001)])\n",
    "data_sub_stage1 = data_sub_stage1[['UserId']+[f'item_id_{i}' for i in range(1,16)]]"
   ]
  },
  {
   "cell_type": "code",
   "execution_count": 20,
   "id": "2393bf7c",
   "metadata": {
    "execution": {
     "iopub.execute_input": "2024-11-19T17:55:06.216697Z",
     "iopub.status.busy": "2024-11-19T17:55:06.216246Z",
     "iopub.status.idle": "2024-11-19T17:55:06.250900Z",
     "shell.execute_reply": "2024-11-19T17:55:06.249285Z"
    },
    "papermill": {
     "duration": 0.055072,
     "end_time": "2024-11-19T17:55:06.253584",
     "exception": false,
     "start_time": "2024-11-19T17:55:06.198512",
     "status": "completed"
    },
    "tags": []
   },
   "outputs": [
    {
     "data": {
      "text/html": [
       "<div>\n",
       "<style scoped>\n",
       "    .dataframe tbody tr th:only-of-type {\n",
       "        vertical-align: middle;\n",
       "    }\n",
       "\n",
       "    .dataframe tbody tr th {\n",
       "        vertical-align: top;\n",
       "    }\n",
       "\n",
       "    .dataframe thead th {\n",
       "        text-align: right;\n",
       "    }\n",
       "</style>\n",
       "<table border=\"1\" class=\"dataframe\">\n",
       "  <thead>\n",
       "    <tr style=\"text-align: right;\">\n",
       "      <th></th>\n",
       "      <th>UserId</th>\n",
       "      <th>ItemId</th>\n",
       "    </tr>\n",
       "  </thead>\n",
       "  <tbody>\n",
       "    <tr>\n",
       "      <th>0</th>\n",
       "      <td>0a9Fr9I8Gr</td>\n",
       "      <td>EALxnioXfL</td>\n",
       "    </tr>\n",
       "    <tr>\n",
       "      <th>1</th>\n",
       "      <td>Jg3UwpR1cA</td>\n",
       "      <td>Pyze1t4kzV</td>\n",
       "    </tr>\n",
       "    <tr>\n",
       "      <th>2</th>\n",
       "      <td>k0mNOjn7pv</td>\n",
       "      <td>jAE0cnq4rG</td>\n",
       "    </tr>\n",
       "    <tr>\n",
       "      <th>3</th>\n",
       "      <td>Uw0zXc8Sr8</td>\n",
       "      <td>S41d9ELmhC</td>\n",
       "    </tr>\n",
       "    <tr>\n",
       "      <th>4</th>\n",
       "      <td>vLDKNL74C4</td>\n",
       "      <td>PMsUraEglo</td>\n",
       "    </tr>\n",
       "    <tr>\n",
       "      <th>...</th>\n",
       "      <td>...</td>\n",
       "      <td>...</td>\n",
       "    </tr>\n",
       "    <tr>\n",
       "      <th>63370</th>\n",
       "      <td>SIFzQe6gnn</td>\n",
       "      <td>0krwZa3Mav</td>\n",
       "    </tr>\n",
       "    <tr>\n",
       "      <th>63371</th>\n",
       "      <td>fa6Y1KVdoh</td>\n",
       "      <td>AgS4FFBg8m</td>\n",
       "    </tr>\n",
       "    <tr>\n",
       "      <th>63372</th>\n",
       "      <td>xO9WRD2Zbm</td>\n",
       "      <td>FoRJXdWPFm</td>\n",
       "    </tr>\n",
       "    <tr>\n",
       "      <th>63373</th>\n",
       "      <td>EW403CecBe</td>\n",
       "      <td>TEBViQF2Di</td>\n",
       "    </tr>\n",
       "    <tr>\n",
       "      <th>63374</th>\n",
       "      <td>Y4zCkSuqwM</td>\n",
       "      <td>1SFpvQOKzB</td>\n",
       "    </tr>\n",
       "  </tbody>\n",
       "</table>\n",
       "<p>63375 rows × 2 columns</p>\n",
       "</div>"
      ],
      "text/plain": [
       "           UserId      ItemId\n",
       "0      0a9Fr9I8Gr  EALxnioXfL\n",
       "1      Jg3UwpR1cA  Pyze1t4kzV\n",
       "2      k0mNOjn7pv  jAE0cnq4rG\n",
       "3      Uw0zXc8Sr8  S41d9ELmhC\n",
       "4      vLDKNL74C4  PMsUraEglo\n",
       "...           ...         ...\n",
       "63370  SIFzQe6gnn  0krwZa3Mav\n",
       "63371  fa6Y1KVdoh  AgS4FFBg8m\n",
       "63372  xO9WRD2Zbm  FoRJXdWPFm\n",
       "63373  EW403CecBe  TEBViQF2Di\n",
       "63374  Y4zCkSuqwM  1SFpvQOKzB\n",
       "\n",
       "[63375 rows x 2 columns]"
      ]
     },
     "execution_count": 20,
     "metadata": {},
     "output_type": "execute_result"
    }
   ],
   "source": [
    "# Chuyển từ dạng wide sang long\n",
    "df_long = data_sub_stage1.melt(id_vars=['UserId'], value_vars=[col for col in data_sub_stage1.columns if col.startswith('item_id')], \n",
    "                  var_name='item_col', value_name='ItemId')\n",
    "df_submit = df_long.drop(columns=['item_col'])\n",
    "df_submit"
   ]
  },
  {
   "cell_type": "code",
   "execution_count": 21,
   "id": "712d25b5",
   "metadata": {
    "execution": {
     "iopub.execute_input": "2024-11-19T17:55:06.279715Z",
     "iopub.status.busy": "2024-11-19T17:55:06.279272Z",
     "iopub.status.idle": "2024-11-19T17:55:06.743967Z",
     "shell.execute_reply": "2024-11-19T17:55:06.742845Z"
    },
    "papermill": {
     "duration": 0.480803,
     "end_time": "2024-11-19T17:55:06.746652",
     "exception": false,
     "start_time": "2024-11-19T17:55:06.265849",
     "status": "completed"
    },
    "tags": []
   },
   "outputs": [],
   "source": [
    "item_features = data.groupby('ItemId').agg({'UserId':'nunique','Purchase':'mean'})\n",
    "item_features.columns = ['item_user_count','item_buy_ratio']\n",
    "\n",
    "user_features = data.groupby('UserId').agg({'ItemId':'nunique','Purchase':'mean'})\n",
    "user_features.columns = ['user_item_count','user_buy_ratio']"
   ]
  },
  {
   "cell_type": "code",
   "execution_count": 22,
   "id": "e5d72667",
   "metadata": {
    "execution": {
     "iopub.execute_input": "2024-11-19T17:55:06.771704Z",
     "iopub.status.busy": "2024-11-19T17:55:06.771289Z",
     "iopub.status.idle": "2024-11-19T17:55:06.998668Z",
     "shell.execute_reply": "2024-11-19T17:55:06.997499Z"
    },
    "papermill": {
     "duration": 0.242653,
     "end_time": "2024-11-19T17:55:07.001156",
     "exception": false,
     "start_time": "2024-11-19T17:55:06.758503",
     "status": "completed"
    },
    "tags": []
   },
   "outputs": [],
   "source": [
    "def convert_dict_to_dataframe(input_dict):\n",
    "    \"\"\"\n",
    "    Convert a dictionary with nested tuples to a DataFrame\n",
    "    \n",
    "    Args:\n",
    "        input_dict (dict): Dictionary with user_id as key and list of (item_id, score) tuples as value\n",
    "    \n",
    "    Returns:\n",
    "        pandas.DataFrame: DataFrame with user_id and item_id columns\n",
    "    \"\"\"\n",
    "    # Prepare lists to store data\n",
    "    user_ids = []\n",
    "    item_ids = []\n",
    "    \n",
    "    # Iterate through the dictionary\n",
    "    for user_id, items in input_dict.items():\n",
    "        for item_id, _ in items[:15]:\n",
    "            user_ids.append(user_id)\n",
    "            item_ids.append(item_id)\n",
    "    \n",
    "    # Create DataFrame\n",
    "    df = pd.DataFrame({\n",
    "        'UserId': user_ids,\n",
    "        'ItemId': item_ids\n",
    "    })\n",
    "    \n",
    "    return df\n",
    "\n",
    "negative_sample = convert_dict_to_dataframe(rec_list)\n",
    "negative_sample['Click'] = 0\n",
    "negative_sample['Purchase'] = 0"
   ]
  },
  {
   "cell_type": "code",
   "execution_count": 23,
   "id": "498de673",
   "metadata": {
    "execution": {
     "iopub.execute_input": "2024-11-19T17:55:07.026718Z",
     "iopub.status.busy": "2024-11-19T17:55:07.026306Z",
     "iopub.status.idle": "2024-11-19T17:55:07.632499Z",
     "shell.execute_reply": "2024-11-19T17:55:07.631305Z"
    },
    "papermill": {
     "duration": 0.621772,
     "end_time": "2024-11-19T17:55:07.635043",
     "exception": false,
     "start_time": "2024-11-19T17:55:07.013271",
     "status": "completed"
    },
    "tags": []
   },
   "outputs": [],
   "source": [
    "data_rerank = pd.concat([data, negative_sample])\n",
    "# # Chuyển embeddings thành array để dễ tính toán\n",
    "# embedding_dim = len(next(iter(item_emb.values())))  # = 1024\n",
    "    \n",
    "# Tìm item cuối cùng có rating = 1 cho mỗi user\n",
    "last_items = (data_rerank[data_rerank['Click'] >0]\n",
    "                 .sort_values('UserId')\n",
    "                 .groupby('UserId')\n",
    "                 .last()\n",
    "                 .reset_index()\n",
    "                 [['UserId', 'ItemId']])\n",
    "    \n",
    "# Tạo dictionary để map user_id với last_item_id\n",
    "user_last_item = dict(zip(last_items['UserId'], last_items['ItemId']))"
   ]
  },
  {
   "cell_type": "code",
   "execution_count": 24,
   "id": "eb8d21e5",
   "metadata": {
    "execution": {
     "iopub.execute_input": "2024-11-19T17:55:07.660142Z",
     "iopub.status.busy": "2024-11-19T17:55:07.659697Z",
     "iopub.status.idle": "2024-11-19T17:55:09.273568Z",
     "shell.execute_reply": "2024-11-19T17:55:09.271793Z"
    },
    "papermill": {
     "duration": 1.630363,
     "end_time": "2024-11-19T17:55:09.277071",
     "exception": false,
     "start_time": "2024-11-19T17:55:07.646708",
     "status": "completed"
    },
    "tags": []
   },
   "outputs": [],
   "source": [
    "data_rerank.to_csv('input.csv', index = None)"
   ]
  },
  {
   "cell_type": "code",
   "execution_count": 25,
   "id": "34646cbd",
   "metadata": {
    "execution": {
     "iopub.execute_input": "2024-11-19T17:55:09.305086Z",
     "iopub.status.busy": "2024-11-19T17:55:09.304705Z",
     "iopub.status.idle": "2024-11-19T17:55:09.338372Z",
     "shell.execute_reply": "2024-11-19T17:55:09.337331Z"
    },
    "papermill": {
     "duration": 0.050712,
     "end_time": "2024-11-19T17:55:09.340964",
     "exception": false,
     "start_time": "2024-11-19T17:55:09.290252",
     "status": "completed"
    },
    "tags": []
   },
   "outputs": [],
   "source": [
    "class ScoreCalculator:\n",
    "    def __init__(self, embedding_configs, user_last_item, batch_size=1000):\n",
    "        \"\"\"\n",
    "        Parameters:\n",
    "        -----------\n",
    "        embedding_configs: dict\n",
    "            Cấu hình embeddings cho các model\n",
    "        user_last_item: dict\n",
    "            Dictionary mapping user đến item cuối cùng\n",
    "        batch_size: int\n",
    "            Số lượng rows xử lý mỗi batch\n",
    "        \"\"\"\n",
    "        self.embedding_configs = embedding_configs\n",
    "        self.user_last_item = user_last_item\n",
    "        self.batch_size = batch_size\n",
    "        # Initialize feature_columns with all possible columns at init\n",
    "        self.feature_columns = []\n",
    "        # Pre-generate all score column names\n",
    "        for model_name in self.embedding_configs:\n",
    "            self.feature_columns.extend([\n",
    "                f'score_{model_name}_dot',\n",
    "                f'score_{model_name}_cosine',\n",
    "                f'score_item_{model_name}_dot',\n",
    "                f'score_item_{model_name}_cosine'\n",
    "            ])\n",
    "\n",
    "    def _create_score_columns(self, df):\n",
    "        \"\"\"Khởi tạo các cột score\"\"\"\n",
    "        # Initialize all columns with 0.0\n",
    "        for col in self.feature_columns:\n",
    "            df[col] = 0.0\n",
    "        return df\n",
    "\n",
    "    def _process_batch(self, batch_df, user_matrix, item_matrix, user_to_idx, item_to_idx, \n",
    "                      user_last_items, model_name):\n",
    "        \"\"\"Xử lý một batch của DataFrame\"\"\"\n",
    "        try:\n",
    "            user_indices = batch_df['UserId'].map(user_to_idx).values\n",
    "            item_indices = batch_df['ItemId'].map(item_to_idx).values\n",
    "\n",
    "            # Lấy embeddings cho batch hiện tại\n",
    "            batch_user_embeddings = user_matrix[user_indices]\n",
    "            batch_item_embeddings = item_matrix[item_indices]\n",
    "\n",
    "            # Tính dot product scores\n",
    "            dot_scores = np.sum(batch_user_embeddings * batch_item_embeddings, axis=1)\n",
    "            batch_df[f'score_{model_name}_dot'] = dot_scores\n",
    "\n",
    "            # Tính cosine similarity với last item\n",
    "            valid_users = batch_df['UserId'].isin(self.user_last_item)\n",
    "            if valid_users.any():\n",
    "                last_item_embeddings = item_matrix[user_last_items[user_indices]]\n",
    "                \n",
    "                # Normalize và tính cosine similarity\n",
    "                last_item_norm = np.linalg.norm(last_item_embeddings, axis=1, keepdims=True)\n",
    "                current_item_norm = np.linalg.norm(batch_item_embeddings, axis=1, keepdims=True)\n",
    "                \n",
    "                cosine_scores = np.sum(\n",
    "                    (last_item_embeddings / np.maximum(last_item_norm, 1e-8)) * \n",
    "                    (batch_item_embeddings / np.maximum(current_item_norm, 1e-8)),\n",
    "                    axis=1\n",
    "                )\n",
    "\n",
    "                batch_df.loc[valid_users, f'score_{model_name}_cosine'] = cosine_scores[valid_users]\n",
    "                batch_df.loc[valid_users, f'score_item_{model_name}_dot'] = np.sum(\n",
    "                    last_item_embeddings[valid_users] * batch_item_embeddings[valid_users], \n",
    "                    axis=1\n",
    "                )\n",
    "                batch_df.loc[valid_users, f'score_item_{model_name}_cosine'] = cosine_scores[valid_users]\n",
    "\n",
    "            # Giải phóng bộ nhớ\n",
    "            del batch_user_embeddings, batch_item_embeddings\n",
    "            gc.collect()\n",
    "\n",
    "        except Exception as e:\n",
    "            logger.error(f\"Error processing batch for {model_name}: {str(e)}\")\n",
    "            \n",
    "        return batch_df\n",
    "\n",
    "    def calculate_scores(self, df):\n",
    "        \"\"\"\n",
    "        Tính toán scores theo batch để tiết kiệm RAM\n",
    "        \"\"\"\n",
    "        logger.info(\"Starting score calculation...\")\n",
    "        result_df = df.copy()\n",
    "        \n",
    "        # Tính rating\n",
    "        result_df['rating'] = result_df['Click'] \n",
    "        result_df = result_df.drop(['Click', 'Purchase'], axis=1)\n",
    "        \n",
    "        # Khởi tạo cột scores\n",
    "        result_df = self._create_score_columns(result_df)\n",
    "        \n",
    "        # Xử lý từng model\n",
    "        for model_name, embeddings in self.embedding_configs.items():\n",
    "            logger.info(f\"Processing model: {model_name}\")\n",
    "            \n",
    "            try:\n",
    "                # Chuẩn bị embeddings\n",
    "                unique_users = result_df['UserId'].unique()\n",
    "                unique_items = result_df['ItemId'].unique()\n",
    "                \n",
    "                user_to_idx = {uid: idx for idx, uid in enumerate(unique_users)}\n",
    "                item_to_idx = {iid: idx for idx, iid in enumerate(unique_items)}\n",
    "                \n",
    "                # Tạo user last items array\n",
    "                user_last_items = np.zeros(len(unique_users), dtype=int)\n",
    "                for uid, last_iid in self.user_last_item.items():\n",
    "                    if uid in user_to_idx and last_iid in item_to_idx:\n",
    "                        user_last_items[user_to_idx[uid]] = item_to_idx[last_iid]\n",
    "                \n",
    "                # Load embeddings vào matrix\n",
    "                dim = len(next(iter(embeddings['user_embedding'].values())))\n",
    "                user_matrix = np.zeros((len(unique_users), dim))\n",
    "                item_matrix = np.zeros((len(unique_items), dim))\n",
    "                \n",
    "                for uid, emb in embeddings['user_embedding'].items():\n",
    "                    if uid in user_to_idx:\n",
    "                        user_matrix[user_to_idx[uid]] = emb\n",
    "                        \n",
    "                for iid, emb in embeddings['item_embedding'].items():\n",
    "                    if iid in item_to_idx:\n",
    "                        item_matrix[item_to_idx[iid]] = emb\n",
    "                \n",
    "                # Xử lý theo batch\n",
    "                num_batches = len(result_df) // self.batch_size + 1\n",
    "                for i in tqdm(range(num_batches), desc=f\"Processing {model_name}\"):\n",
    "                    start_idx = i * self.batch_size\n",
    "                    end_idx = min((i + 1) * self.batch_size, len(result_df))\n",
    "                    batch_df = result_df.iloc[start_idx:end_idx].copy()\n",
    "                    \n",
    "                    batch_df = self._process_batch(\n",
    "                        batch_df, user_matrix, item_matrix,\n",
    "                        user_to_idx, item_to_idx, user_last_items,\n",
    "                        model_name\n",
    "                    )\n",
    "                    \n",
    "                    # Cập nhật kết quả\n",
    "                    result_df.iloc[start_idx:end_idx] = batch_df\n",
    "                    \n",
    "                    # Giải phóng bộ nhớ\n",
    "                    del batch_df\n",
    "                    gc.collect()\n",
    "                \n",
    "                # Giải phóng bộ nhớ sau khi xử lý xong một model\n",
    "                del user_matrix, item_matrix\n",
    "                gc.collect()\n",
    "                \n",
    "            except Exception as e:\n",
    "                logger.error(f\"Error processing model {model_name}: {str(e)}\")\n",
    "                continue\n",
    "        \n",
    "        logger.info(\"Score calculation completed\")\n",
    "        # Ensure consistent column order\n",
    "        return result_df[['UserId', 'ItemId', 'rating'] + self.feature_columns]\n",
    "\n",
    "\n",
    "def process_dataframe_in_chunks(input_path, output_dir, final_output_path, embedding_configs, \n",
    "                              user_last_item, chunk_size=10000, batch_size=1000):\n",
    "    \"\"\"\n",
    "    Xử lý DataFrame theo chunks và lưu thành các file CSV riêng\n",
    "    \"\"\"\n",
    "    calculator = ScoreCalculator(embedding_configs, user_last_item, batch_size)\n",
    "    \n",
    "    # Tạo thư mục output nếu chưa tồn tại\n",
    "    os.makedirs(output_dir, exist_ok=True)\n",
    "    \n",
    "    # Xóa các file CSV cũ trong thư mục output (nếu có)\n",
    "    for f in glob.glob(os.path.join(output_dir, \"chunk_*.csv\")):\n",
    "        os.remove(f)\n",
    "    \n",
    "    try:\n",
    "        # Đọc và xử lý từng chunk\n",
    "        chunk_files = []\n",
    "        for chunk_idx, chunk in enumerate(pd.read_csv(input_path, chunksize=chunk_size)):\n",
    "            logger.info(f\"Processing chunk {chunk_idx + 1}\")\n",
    "            \n",
    "            # Tính scores cho chunk\n",
    "            result_chunk = calculator.calculate_scores(chunk)\n",
    "            \n",
    "            # Verify column count\n",
    "            expected_cols = 3 + len(calculator.feature_columns)  # UserId, ItemId, rating + feature columns\n",
    "            if len(result_chunk.columns) != expected_cols:\n",
    "                raise ValueError(f\"Unexpected number of columns in chunk {chunk_idx}: \"\n",
    "                               f\"got {len(result_chunk.columns)}, expected {expected_cols}\")\n",
    "            \n",
    "            # Lưu chunk vào file CSV\n",
    "            chunk_path = os.path.join(output_dir, f\"chunk_{chunk_idx:04d}.csv\")\n",
    "            result_chunk.to_csv(chunk_path, index=False)\n",
    "            chunk_files.append(chunk_path)\n",
    "            \n",
    "            # In thông tin debug\n",
    "            logger.info(f\"Chunk {chunk_idx} columns: {list(result_chunk.columns)}\")\n",
    "            \n",
    "            # Giải phóng bộ nhớ\n",
    "            del result_chunk\n",
    "            gc.collect()\n",
    "        \n",
    "        logger.info(\"Merging CSV files...\")\n",
    "        \n",
    "        # Đọc header từ chunk đầu tiên\n",
    "        first_chunk = pd.read_csv(chunk_files[0], nrows=0)\n",
    "        columns = first_chunk.columns.tolist()\n",
    "        \n",
    "        # Ghi file cuối cùng\n",
    "        with open(final_output_path, 'w', newline='') as outfile:\n",
    "            writer = csv.writer(outfile)\n",
    "            writer.writerow(columns)\n",
    "            \n",
    "            for chunk_file in tqdm(chunk_files, desc=\"Merging files\"):\n",
    "                with open(chunk_file, 'r', newline='') as infile:\n",
    "                    next(infile)  # Skip header\n",
    "                    for line in infile:\n",
    "                        outfile.write(line)\n",
    "                        \n",
    "                try:\n",
    "                    os.remove(chunk_file)\n",
    "                except Exception as e:\n",
    "                    logger.warning(f\"Could not remove temporary file {chunk_file}: {str(e)}\")\n",
    "        \n",
    "        logger.info(f\"Final results saved to: {final_output_path}\")\n",
    "        return final_output_path\n",
    "        \n",
    "    except Exception as e:\n",
    "        logger.error(f\"Error during processing: {str(e)}\")\n",
    "        # Cleanup temp files\n",
    "        for f in glob.glob(os.path.join(output_dir, \"chunk_*.csv\")):\n",
    "            try:\n",
    "                os.remove(f)\n",
    "            except:\n",
    "                pass\n",
    "        raise e"
   ]
  },
  {
   "cell_type": "code",
   "execution_count": 26,
   "id": "ece6d1d8",
   "metadata": {
    "execution": {
     "iopub.execute_input": "2024-11-19T17:55:09.366437Z",
     "iopub.status.busy": "2024-11-19T17:55:09.366025Z",
     "iopub.status.idle": "2024-11-19T17:58:40.386654Z",
     "shell.execute_reply": "2024-11-19T17:58:40.385477Z"
    },
    "papermill": {
     "duration": 211.036687,
     "end_time": "2024-11-19T17:58:40.389168",
     "exception": false,
     "start_time": "2024-11-19T17:55:09.352481",
     "status": "completed"
    },
    "tags": []
   },
   "outputs": [
    {
     "name": "stderr",
     "output_type": "stream",
     "text": [
      "Processing simgcl: 100%|██████████| 2/2 [00:09<00:00,  4.92s/it]\n",
      "Processing lightgcn: 100%|██████████| 2/2 [00:08<00:00,  4.43s/it]\n",
      "Processing xsim: 100%|██████████| 2/2 [00:16<00:00,  8.24s/it]\n",
      "Processing xsim_denoise: 100%|██████████| 2/2 [00:15<00:00,  7.75s/it]\n",
      "Processing xsim_standard: 100%|██████████| 2/2 [00:15<00:00,  7.75s/it]\n",
      "Processing simgcl: 100%|██████████| 2/2 [00:08<00:00,  4.39s/it]\n",
      "Processing lightgcn: 100%|██████████| 2/2 [00:08<00:00,  4.48s/it]\n",
      "Processing xsim: 100%|██████████| 2/2 [00:16<00:00,  8.03s/it]\n",
      "Processing xsim_denoise: 100%|██████████| 2/2 [00:17<00:00,  8.70s/it]\n",
      "Processing xsim_standard: 100%|██████████| 2/2 [00:16<00:00,  8.33s/it]\n",
      "Processing simgcl: 100%|██████████| 1/1 [00:03<00:00,  3.29s/it]\n",
      "Processing lightgcn: 100%|██████████| 1/1 [00:03<00:00,  3.29s/it]\n",
      "Processing xsim: 100%|██████████| 1/1 [00:05<00:00,  5.66s/it]\n",
      "Processing xsim_denoise: 100%|██████████| 1/1 [00:05<00:00,  5.73s/it]\n",
      "Processing xsim_standard: 100%|██████████| 1/1 [00:05<00:00,  5.63s/it]\n",
      "Merging files: 100%|██████████| 3/3 [00:01<00:00,  2.53it/s]\n"
     ]
    }
   ],
   "source": [
    "import pandas as pd\n",
    "import numpy as np\n",
    "from sklearn.metrics.pairwise import cosine_similarity\n",
    "import gc\n",
    "import logging\n",
    "from tqdm import tqdm\n",
    "\n",
    "logging.basicConfig(level=logging.INFO)\n",
    "logger = logging.getLogger(__name__)\n",
    "\n",
    "# Cách sử dụng:\n",
    "embedding_configs = {\n",
    "    'simgcl': {\n",
    "        'user_embedding': user_embedding_simgcl,\n",
    "        'item_embedding': item_embedding_simgcl\n",
    "    },\n",
    "    'lightgcn': {\n",
    "        'user_embedding': user_embedding_lightgcn,\n",
    "        'item_embedding': item_embedding_lightgcn\n",
    "    },\n",
    "    'xsim': {\n",
    "        'user_embedding': user_embedding_xsim,\n",
    "        'item_embedding': item_embedding_xsim\n",
    "    },\n",
    "    'xsim_denoise': {\n",
    "        'user_embedding': user_embedding_xsim_denoise,\n",
    "        'item_embedding': item_embedding_xsim_standard\n",
    "    },\n",
    "    'xsim_standard': {\n",
    "        'user_embedding': user_embedding_xsim_standard,\n",
    "        'item_embedding': item_embedding_xsim_standard\n",
    "    }\n",
    "}\n",
    "# Xử lý dữ liệu\n",
    "final_csv_path = process_dataframe_in_chunks(\n",
    "    input_path='input.csv',\n",
    "    output_dir='temp_csv',     # Thư mục chứa các file CSV tạm thời\n",
    "    final_output_path='output.csv',  # File CSV cuối cùng\n",
    "    embedding_configs=embedding_configs,\n",
    "    user_last_item=user_last_item,\n",
    "    chunk_size=400000,  # Số rows mỗi chunk\n",
    "    batch_size=400000   # Số rows mỗi batch trong tính toán\n",
    ")\n",
    "\n",
    "# # Nếu muốn đọc kết quả:\n",
    "# # result_df = pd.read_csv(final_csv_path)\n"
   ]
  },
  {
   "cell_type": "code",
   "execution_count": 27,
   "id": "2ceeb63b",
   "metadata": {
    "execution": {
     "iopub.execute_input": "2024-11-19T17:58:40.422153Z",
     "iopub.status.busy": "2024-11-19T17:58:40.421765Z",
     "iopub.status.idle": "2024-11-19T17:58:40.435637Z",
     "shell.execute_reply": "2024-11-19T17:58:40.434629Z"
    },
    "papermill": {
     "duration": 0.033208,
     "end_time": "2024-11-19T17:58:40.438142",
     "exception": false,
     "start_time": "2024-11-19T17:58:40.404934",
     "status": "completed"
    },
    "tags": []
   },
   "outputs": [],
   "source": [
    "item_embed_feature['ItemId'] = item_embed_feature['ItemId'].astype(str)\n",
    "user_embed_feature['UserId'] = user_embed_feature['UserId'].astype(str)"
   ]
  },
  {
   "cell_type": "code",
   "execution_count": 28,
   "id": "1f80479b",
   "metadata": {
    "execution": {
     "iopub.execute_input": "2024-11-19T17:58:40.470680Z",
     "iopub.status.busy": "2024-11-19T17:58:40.470300Z",
     "iopub.status.idle": "2024-11-19T17:59:11.342746Z",
     "shell.execute_reply": "2024-11-19T17:59:11.341561Z"
    },
    "papermill": {
     "duration": 30.891677,
     "end_time": "2024-11-19T17:59:11.345297",
     "exception": false,
     "start_time": "2024-11-19T17:58:40.453620",
     "status": "completed"
    },
    "tags": []
   },
   "outputs": [],
   "source": [
    "result_df = pd.read_csv(final_csv_path)\n",
    "result_df = result_df.merge(item_features, left_on='ItemId', right_index=True, how='left').fillna(0)\n",
    "result_df = result_df.merge(user_features, left_on='UserId', right_index=True, how='left').fillna(0)\n",
    "result_df = result_df.merge(item_embed_feature, on='ItemId', how='left').fillna(0)\n",
    "result_df = result_df.merge(user_embed_feature, on='UserId', how='left').fillna(0)\n",
    "result_df = result_df.merge(buy_order_full, on='ItemId', how='left').fillna(0)\n",
    "result_df = result_df.merge(buy_order_standard, on='ItemId', how='left').fillna(0)\n",
    "result_df = result_df.merge(cart_order_full, on='ItemId', how='left').fillna(0)\n",
    "result_df = result_df.merge(cart_order_standard, on='ItemId', how='left').fillna(0)"
   ]
  },
  {
   "cell_type": "code",
   "execution_count": 29,
   "id": "4ddd91c0",
   "metadata": {
    "execution": {
     "iopub.execute_input": "2024-11-19T17:59:11.378041Z",
     "iopub.status.busy": "2024-11-19T17:59:11.377676Z",
     "iopub.status.idle": "2024-11-19T17:59:11.382490Z",
     "shell.execute_reply": "2024-11-19T17:59:11.381171Z"
    },
    "papermill": {
     "duration": 0.024029,
     "end_time": "2024-11-19T17:59:11.384738",
     "exception": false,
     "start_time": "2024-11-19T17:59:11.360709",
     "status": "completed"
    },
    "tags": []
   },
   "outputs": [],
   "source": [
    "# for i in ['item_user_count', 'user_item_count']:\n",
    "#     data_rerank[i] = (data_rerank[i] - data_rerank[i].min())/(data_rerank[i].max()-data_rerank[i].min())"
   ]
  },
  {
   "cell_type": "code",
   "execution_count": 30,
   "id": "b5e5a014",
   "metadata": {
    "execution": {
     "iopub.execute_input": "2024-11-19T17:59:11.418520Z",
     "iopub.status.busy": "2024-11-19T17:59:11.418140Z",
     "iopub.status.idle": "2024-11-19T17:59:30.728312Z",
     "shell.execute_reply": "2024-11-19T17:59:30.727013Z"
    },
    "papermill": {
     "duration": 19.330058,
     "end_time": "2024-11-19T17:59:30.730767",
     "exception": false,
     "start_time": "2024-11-19T17:59:11.400709",
     "status": "completed"
    },
    "tags": []
   },
   "outputs": [
    {
     "name": "stderr",
     "output_type": "stream",
     "text": [
      "Processing simgcl: 100%|██████████| 1/1 [00:01<00:00,  1.95s/it]\n",
      "Processing lightgcn: 100%|██████████| 1/1 [00:01<00:00,  1.94s/it]\n",
      "Processing xsim: 100%|██████████| 1/1 [00:03<00:00,  3.01s/it]\n",
      "Processing xsim_denoise: 100%|██████████| 1/1 [00:03<00:00,  3.06s/it]\n",
      "Processing xsim_standard: 100%|██████████| 1/1 [00:03<00:00,  3.01s/it]\n",
      "Merging files: 100%|██████████| 1/1 [00:00<00:00, 12.39it/s]\n"
     ]
    }
   ],
   "source": [
    "df_submit['Click'] = 0\n",
    "df_submit['Purchase'] = 0\n",
    "df_submit.to_csv('input_submit.csv', index = None)\n",
    "\n",
    "submit_csv_path = process_dataframe_in_chunks(\n",
    "    input_path='input_submit.csv',\n",
    "    output_dir='temp_csv',     # Thư mục chứa các file CSV tạm thời\n",
    "    final_output_path='output_submit.csv',  # File CSV cuối cùng\n",
    "    embedding_configs=embedding_configs,\n",
    "    user_last_item=user_last_item,\n",
    "    chunk_size=400000,  # Số rows mỗi chunk\n",
    "    batch_size=400000   # Số rows mỗi batch trong tính toán\n",
    ")"
   ]
  },
  {
   "cell_type": "code",
   "execution_count": 31,
   "id": "74aaa493",
   "metadata": {
    "execution": {
     "iopub.execute_input": "2024-11-19T17:59:30.767932Z",
     "iopub.status.busy": "2024-11-19T17:59:30.767485Z",
     "iopub.status.idle": "2024-11-19T17:59:32.995705Z",
     "shell.execute_reply": "2024-11-19T17:59:32.994497Z"
    },
    "papermill": {
     "duration": 2.249877,
     "end_time": "2024-11-19T17:59:32.998341",
     "exception": false,
     "start_time": "2024-11-19T17:59:30.748464",
     "status": "completed"
    },
    "tags": []
   },
   "outputs": [],
   "source": [
    "df_submit = pd.read_csv(submit_csv_path)\n",
    "df_submit = df_submit.merge(item_features, left_on='ItemId', right_index=True, how='left').fillna(0)\n",
    "df_submit = df_submit.merge(user_features, left_on='UserId', right_index=True, how='left').fillna(0)\n",
    "df_submit = df_submit.merge(item_embed_feature, on='ItemId', how='left').fillna(0)\n",
    "df_submit = df_submit.merge(user_embed_feature, on='UserId', how='left').fillna(0)\n",
    "df_submit = df_submit.merge(buy_order_full, on='ItemId', how='left').fillna(0)\n",
    "df_submit = df_submit.merge(buy_order_standard, on='ItemId', how='left').fillna(0)\n",
    "df_submit = df_submit.merge(cart_order_full, on='ItemId', how='left').fillna(0)\n",
    "df_submit = df_submit.merge(cart_order_standard, on='ItemId', how='left').fillna(0)"
   ]
  },
  {
   "cell_type": "code",
   "execution_count": 32,
   "id": "876d19c8",
   "metadata": {
    "execution": {
     "iopub.execute_input": "2024-11-19T17:59:33.034688Z",
     "iopub.status.busy": "2024-11-19T17:59:33.034257Z",
     "iopub.status.idle": "2024-11-19T17:59:35.339102Z",
     "shell.execute_reply": "2024-11-19T17:59:35.337895Z"
    },
    "papermill": {
     "duration": 2.326635,
     "end_time": "2024-11-19T17:59:35.341724",
     "exception": false,
     "start_time": "2024-11-19T17:59:33.015089",
     "status": "completed"
    },
    "tags": []
   },
   "outputs": [],
   "source": [
    "result_df_nostandard  = result_df.copy()"
   ]
  },
  {
   "cell_type": "code",
   "execution_count": 33,
   "id": "0f1474be",
   "metadata": {
    "execution": {
     "iopub.execute_input": "2024-11-19T17:59:35.376942Z",
     "iopub.status.busy": "2024-11-19T17:59:35.376505Z",
     "iopub.status.idle": "2024-11-19T17:59:35.641764Z",
     "shell.execute_reply": "2024-11-19T17:59:35.640603Z"
    },
    "papermill": {
     "duration": 0.285544,
     "end_time": "2024-11-19T17:59:35.644288",
     "exception": false,
     "start_time": "2024-11-19T17:59:35.358744",
     "status": "completed"
    },
    "tags": []
   },
   "outputs": [],
   "source": [
    "for i in ['score_simgcl_dot', 'score_simgcl_cosine',\n",
    "       'score_item_simgcl_dot', 'score_item_simgcl_cosine',\n",
    "       'score_lightgcn_dot', 'score_lightgcn_cosine',\n",
    "       'score_item_lightgcn_dot', 'score_item_lightgcn_cosine',\n",
    "       'score_xsim_dot', 'score_xsim_cosine', 'score_item_xsim_dot',\n",
    "       'score_item_xsim_cosine', 'score_xsim_denoise_dot',\n",
    "       'score_xsim_denoise_cosine', 'score_item_xsim_denoise_dot',\n",
    "       'score_item_xsim_denoise_cosine', 'score_xsim_standard_dot',\n",
    "       'score_xsim_standard_cosine', 'score_item_xsim_standard_dot',\n",
    "       'score_item_xsim_standard_cosine']:\n",
    "    result_df[i] = (result_df[i] - result_df[i].min())/(result_df[i].max()-result_df[i].min())"
   ]
  },
  {
   "cell_type": "code",
   "execution_count": 34,
   "id": "fc35c9d5",
   "metadata": {
    "execution": {
     "iopub.execute_input": "2024-11-19T17:59:35.679920Z",
     "iopub.status.busy": "2024-11-19T17:59:35.679499Z",
     "iopub.status.idle": "2024-11-19T17:59:35.711111Z",
     "shell.execute_reply": "2024-11-19T17:59:35.709850Z"
    },
    "papermill": {
     "duration": 0.052081,
     "end_time": "2024-11-19T17:59:35.713620",
     "exception": false,
     "start_time": "2024-11-19T17:59:35.661539",
     "status": "completed"
    },
    "tags": []
   },
   "outputs": [],
   "source": [
    "for i in ['score_simgcl_dot', 'score_simgcl_cosine',\n",
    "       'score_item_simgcl_dot', 'score_item_simgcl_cosine',\n",
    "       'score_lightgcn_dot', 'score_lightgcn_cosine',\n",
    "       'score_item_lightgcn_dot', 'score_item_lightgcn_cosine',\n",
    "       'score_xsim_dot', 'score_xsim_cosine', 'score_item_xsim_dot',\n",
    "       'score_item_xsim_cosine', 'score_xsim_denoise_dot',\n",
    "       'score_xsim_denoise_cosine', 'score_item_xsim_denoise_dot',\n",
    "       'score_item_xsim_denoise_cosine', 'score_xsim_standard_dot',\n",
    "       'score_xsim_standard_cosine', 'score_item_xsim_standard_dot',\n",
    "       'score_item_xsim_standard_cosine']:\n",
    "    df_submit[i] = (df_submit[i] - df_submit[i].min())/(df_submit[i].max()-df_submit[i].min())"
   ]
  },
  {
   "cell_type": "code",
   "execution_count": 35,
   "id": "e930f8ce",
   "metadata": {
    "execution": {
     "iopub.execute_input": "2024-11-19T17:59:35.749502Z",
     "iopub.status.busy": "2024-11-19T17:59:35.749106Z",
     "iopub.status.idle": "2024-11-19T17:59:37.012709Z",
     "shell.execute_reply": "2024-11-19T17:59:37.011372Z"
    },
    "papermill": {
     "duration": 1.285162,
     "end_time": "2024-11-19T17:59:37.015494",
     "exception": false,
     "start_time": "2024-11-19T17:59:35.730332",
     "status": "completed"
    },
    "tags": []
   },
   "outputs": [],
   "source": [
    "test = result_df[result_df.UserId.isin(test_user_id)]\n",
    "train = result_df.drop(test.index)\n",
    "# infer = df_test_submit.copy()"
   ]
  },
  {
   "cell_type": "code",
   "execution_count": 36,
   "id": "c2e8fa0a",
   "metadata": {
    "execution": {
     "iopub.execute_input": "2024-11-19T17:59:37.053424Z",
     "iopub.status.busy": "2024-11-19T17:59:37.053059Z",
     "iopub.status.idle": "2024-11-19T17:59:37.200529Z",
     "shell.execute_reply": "2024-11-19T17:59:37.199429Z"
    },
    "papermill": {
     "duration": 0.169312,
     "end_time": "2024-11-19T17:59:37.203116",
     "exception": false,
     "start_time": "2024-11-19T17:59:37.033804",
     "status": "completed"
    },
    "tags": []
   },
   "outputs": [],
   "source": [
    "train_baskets = train.groupby(['UserId'])['ItemId'].count().values"
   ]
  },
  {
   "cell_type": "code",
   "execution_count": 37,
   "id": "78fbfa54",
   "metadata": {
    "execution": {
     "iopub.execute_input": "2024-11-19T17:59:37.238902Z",
     "iopub.status.busy": "2024-11-19T17:59:37.238501Z",
     "iopub.status.idle": "2024-11-19T17:59:37.972411Z",
     "shell.execute_reply": "2024-11-19T17:59:37.971233Z"
    },
    "papermill": {
     "duration": 0.754123,
     "end_time": "2024-11-19T17:59:37.974908",
     "exception": false,
     "start_time": "2024-11-19T17:59:37.220785",
     "status": "completed"
    },
    "tags": []
   },
   "outputs": [
    {
     "name": "stdout",
     "output_type": "stream",
     "text": [
      "CPU times: user 333 ms, sys: 396 ms, total: 728 ms\n",
      "Wall time: 727 ms\n"
     ]
    }
   ],
   "source": [
    "%%time\n",
    "# columns_to_use = ['score_simgcl_dot', 'score_simgcl_cosine',\n",
    "#        'score_item_simgcl_dot', 'score_item_simgcl_cosine',\n",
    "#        'score_lightgcn_dot', 'score_lightgcn_cosine',\n",
    "#        'score_item_lightgcn_dot', 'score_item_lightgcn_cosine',\n",
    "#        'score_xsim_dot', 'score_xsim_cosine', 'score_item_xsim_dot',\n",
    "#        'score_item_xsim_cosine', 'score_xsim_denoise_dot',\n",
    "#        'score_xsim_denoise_cosine', 'score_item_xsim_denoise_dot',\n",
    "#        'score_item_xsim_denoise_cosine', 'score_xsim_standard_dot',\n",
    "#        'score_xsim_standard_cosine', 'score_item_xsim_standard_dot',\n",
    "#        'score_item_xsim_standard_cosine', 'item_user_count', 'item_buy_ratio',\n",
    "#        'user_item_count', 'user_buy_ratio']\n",
    "columns_to_use = train.columns[3:]\n",
    "train_X = train[columns_to_use]\n",
    "train_y = train['rating']\n",
    "\n",
    "test_X = test[columns_to_use]"
   ]
  },
  {
   "cell_type": "code",
   "execution_count": 38,
   "id": "81a29a1c",
   "metadata": {
    "execution": {
     "iopub.execute_input": "2024-11-19T17:59:38.012659Z",
     "iopub.status.busy": "2024-11-19T17:59:38.012188Z",
     "iopub.status.idle": "2024-11-19T17:59:39.103286Z",
     "shell.execute_reply": "2024-11-19T17:59:39.102132Z"
    },
    "papermill": {
     "duration": 1.112255,
     "end_time": "2024-11-19T17:59:39.105756",
     "exception": false,
     "start_time": "2024-11-19T17:59:37.993501",
     "status": "completed"
    },
    "tags": []
   },
   "outputs": [],
   "source": [
    "from lightgbm.sklearn import LGBMRanker\n",
    "ranker = LGBMRanker(\n",
    "    objective=\"lambdarank\",\n",
    "    metric=\"ndcg\",\n",
    "    boosting_type=\"dart\",\n",
    "    n_estimators=150,\n",
    "    importance_type='gain',\n",
    "    verbose=10,\n",
    "    learning_rate = 0.05,\n",
    "    # max_depth = 8,\n",
    "    # num_leaves = 10,\n",
    ")"
   ]
  },
  {
   "cell_type": "code",
   "execution_count": 39,
   "id": "36ab945f",
   "metadata": {
    "execution": {
     "iopub.execute_input": "2024-11-19T17:59:39.142136Z",
     "iopub.status.busy": "2024-11-19T17:59:39.141511Z",
     "iopub.status.idle": "2024-11-19T18:01:28.550902Z",
     "shell.execute_reply": "2024-11-19T18:01:28.549766Z"
    },
    "papermill": {
     "duration": 109.430133,
     "end_time": "2024-11-19T18:01:28.553237",
     "exception": false,
     "start_time": "2024-11-19T17:59:39.123104",
     "status": "completed"
    },
    "tags": []
   },
   "outputs": [
    {
     "name": "stdout",
     "output_type": "stream",
     "text": [
      "[LightGBM] [Debug] Dataset::GetMultiBinFromSparseFeatures: sparse rate 0.827417\n",
      "[LightGBM] [Debug] Dataset::GetMultiBinFromAllFeatures: sparse rate 0.010277\n",
      "[LightGBM] [Debug] init for col-wise cost 0.016390 seconds, init for row-wise cost 1.245520 seconds\n",
      "[LightGBM] [Info] Auto-choosing col-wise multi-threading, the overhead of testing was 1.779946 seconds.\n",
      "You can set `force_col_wise=true` to remove the overhead.\n",
      "[LightGBM] [Info] Total Bins 71816\n",
      "[LightGBM] [Info] Number of data points in the train set: 790906, number of used features: 284\n",
      "[LightGBM] [Warning] No further splits with positive gain, best gain: -inf\n",
      "[LightGBM] [Debug] Trained a tree with leaves = 2 and depth = 1\n",
      "[LightGBM] [Warning] No further splits with positive gain, best gain: -inf\n",
      "[LightGBM] [Debug] Trained a tree with leaves = 16 and depth = 6\n",
      "[LightGBM] [Warning] No further splits with positive gain, best gain: -inf\n",
      "[LightGBM] [Debug] Trained a tree with leaves = 16 and depth = 6\n",
      "[LightGBM] [Warning] No further splits with positive gain, best gain: -inf\n",
      "[LightGBM] [Debug] Trained a tree with leaves = 14 and depth = 8\n",
      "[LightGBM] [Warning] No further splits with positive gain, best gain: -inf\n",
      "[LightGBM] [Debug] Trained a tree with leaves = 12 and depth = 7\n",
      "[LightGBM] [Warning] No further splits with positive gain, best gain: -inf\n",
      "[LightGBM] [Debug] Trained a tree with leaves = 15 and depth = 9\n",
      "[LightGBM] [Warning] No further splits with positive gain, best gain: -inf\n",
      "[LightGBM] [Debug] Trained a tree with leaves = 12 and depth = 6\n",
      "[LightGBM] [Warning] No further splits with positive gain, best gain: -inf\n",
      "[LightGBM] [Debug] Trained a tree with leaves = 16 and depth = 10\n",
      "[LightGBM] [Warning] No further splits with positive gain, best gain: -inf\n",
      "[LightGBM] [Debug] Trained a tree with leaves = 14 and depth = 6\n",
      "[LightGBM] [Warning] No further splits with positive gain, best gain: -inf\n",
      "[LightGBM] [Debug] Trained a tree with leaves = 10 and depth = 5\n",
      "[LightGBM] [Warning] No further splits with positive gain, best gain: -inf\n",
      "[LightGBM] [Debug] Trained a tree with leaves = 14 and depth = 7\n",
      "[LightGBM] [Warning] No further splits with positive gain, best gain: -inf\n",
      "[LightGBM] [Debug] Trained a tree with leaves = 12 and depth = 6\n",
      "[LightGBM] [Warning] No further splits with positive gain, best gain: -inf\n",
      "[LightGBM] [Debug] Trained a tree with leaves = 13 and depth = 8\n",
      "[LightGBM] [Warning] No further splits with positive gain, best gain: -inf\n",
      "[LightGBM] [Debug] Trained a tree with leaves = 10 and depth = 5\n",
      "[LightGBM] [Warning] No further splits with positive gain, best gain: -inf\n",
      "[LightGBM] [Debug] Trained a tree with leaves = 12 and depth = 5\n",
      "[LightGBM] [Warning] No further splits with positive gain, best gain: -inf\n",
      "[LightGBM] [Debug] Trained a tree with leaves = 12 and depth = 5\n",
      "[LightGBM] [Warning] No further splits with positive gain, best gain: -inf\n",
      "[LightGBM] [Debug] Trained a tree with leaves = 13 and depth = 6\n",
      "[LightGBM] [Warning] No further splits with positive gain, best gain: -inf\n",
      "[LightGBM] [Debug] Trained a tree with leaves = 12 and depth = 7\n",
      "[LightGBM] [Warning] No further splits with positive gain, best gain: -inf\n",
      "[LightGBM] [Debug] Trained a tree with leaves = 12 and depth = 5\n",
      "[LightGBM] [Warning] No further splits with positive gain, best gain: -inf\n",
      "[LightGBM] [Debug] Trained a tree with leaves = 12 and depth = 7\n",
      "[LightGBM] [Warning] No further splits with positive gain, best gain: -inf\n",
      "[LightGBM] [Debug] Trained a tree with leaves = 10 and depth = 5\n",
      "[LightGBM] [Warning] No further splits with positive gain, best gain: -inf\n",
      "[LightGBM] [Debug] Trained a tree with leaves = 10 and depth = 5\n",
      "[LightGBM] [Warning] No further splits with positive gain, best gain: -inf\n",
      "[LightGBM] [Debug] Trained a tree with leaves = 12 and depth = 5\n",
      "[LightGBM] [Warning] No further splits with positive gain, best gain: -inf\n",
      "[LightGBM] [Debug] Trained a tree with leaves = 12 and depth = 6\n",
      "[LightGBM] [Warning] No further splits with positive gain, best gain: -inf\n",
      "[LightGBM] [Debug] Trained a tree with leaves = 15 and depth = 8\n",
      "[LightGBM] [Warning] No further splits with positive gain, best gain: -inf\n",
      "[LightGBM] [Debug] Trained a tree with leaves = 16 and depth = 7\n",
      "[LightGBM] [Warning] No further splits with positive gain, best gain: -inf\n",
      "[LightGBM] [Debug] Trained a tree with leaves = 13 and depth = 6\n",
      "[LightGBM] [Warning] No further splits with positive gain, best gain: -inf\n",
      "[LightGBM] [Debug] Trained a tree with leaves = 13 and depth = 6\n",
      "[LightGBM] [Warning] No further splits with positive gain, best gain: -inf\n",
      "[LightGBM] [Debug] Trained a tree with leaves = 17 and depth = 8\n",
      "[LightGBM] [Warning] No further splits with positive gain, best gain: -inf\n",
      "[LightGBM] [Debug] Trained a tree with leaves = 15 and depth = 10\n",
      "[LightGBM] [Warning] No further splits with positive gain, best gain: -inf\n",
      "[LightGBM] [Debug] Trained a tree with leaves = 12 and depth = 6\n",
      "[LightGBM] [Warning] No further splits with positive gain, best gain: -inf\n",
      "[LightGBM] [Debug] Trained a tree with leaves = 13 and depth = 6\n",
      "[LightGBM] [Warning] No further splits with positive gain, best gain: -inf\n",
      "[LightGBM] [Debug] Trained a tree with leaves = 16 and depth = 7\n",
      "[LightGBM] [Warning] No further splits with positive gain, best gain: -inf\n",
      "[LightGBM] [Debug] Trained a tree with leaves = 16 and depth = 7\n",
      "[LightGBM] [Warning] No further splits with positive gain, best gain: -inf\n",
      "[LightGBM] [Debug] Trained a tree with leaves = 17 and depth = 7\n",
      "[LightGBM] [Warning] No further splits with positive gain, best gain: -inf\n",
      "[LightGBM] [Debug] Trained a tree with leaves = 12 and depth = 6\n",
      "[LightGBM] [Warning] No further splits with positive gain, best gain: -inf\n",
      "[LightGBM] [Debug] Trained a tree with leaves = 13 and depth = 6\n",
      "[LightGBM] [Warning] No further splits with positive gain, best gain: -inf\n",
      "[LightGBM] [Debug] Trained a tree with leaves = 17 and depth = 6\n",
      "[LightGBM] [Warning] No further splits with positive gain, best gain: -inf\n",
      "[LightGBM] [Debug] Trained a tree with leaves = 16 and depth = 7\n",
      "[LightGBM] [Warning] No further splits with positive gain, best gain: -inf\n",
      "[LightGBM] [Debug] Trained a tree with leaves = 14 and depth = 6\n",
      "[LightGBM] [Warning] No further splits with positive gain, best gain: -inf\n",
      "[LightGBM] [Debug] Trained a tree with leaves = 11 and depth = 5\n",
      "[LightGBM] [Warning] No further splits with positive gain, best gain: -inf\n",
      "[LightGBM] [Debug] Trained a tree with leaves = 10 and depth = 5\n",
      "[LightGBM] [Warning] No further splits with positive gain, best gain: -inf\n",
      "[LightGBM] [Debug] Trained a tree with leaves = 13 and depth = 5\n",
      "[LightGBM] [Warning] No further splits with positive gain, best gain: -inf\n",
      "[LightGBM] [Debug] Trained a tree with leaves = 15 and depth = 6\n",
      "[LightGBM] [Warning] No further splits with positive gain, best gain: -inf\n",
      "[LightGBM] [Debug] Trained a tree with leaves = 13 and depth = 6\n",
      "[LightGBM] [Warning] No further splits with positive gain, best gain: -inf\n",
      "[LightGBM] [Debug] Trained a tree with leaves = 15 and depth = 6\n",
      "[LightGBM] [Warning] No further splits with positive gain, best gain: -inf\n",
      "[LightGBM] [Debug] Trained a tree with leaves = 17 and depth = 7\n",
      "[LightGBM] [Warning] No further splits with positive gain, best gain: -inf\n",
      "[LightGBM] [Debug] Trained a tree with leaves = 16 and depth = 6\n",
      "[LightGBM] [Warning] No further splits with positive gain, best gain: -inf\n",
      "[LightGBM] [Debug] Trained a tree with leaves = 13 and depth = 5\n",
      "[LightGBM] [Warning] No further splits with positive gain, best gain: -inf\n",
      "[LightGBM] [Debug] Trained a tree with leaves = 13 and depth = 6\n",
      "[LightGBM] [Warning] No further splits with positive gain, best gain: -inf\n",
      "[LightGBM] [Debug] Trained a tree with leaves = 16 and depth = 6\n",
      "[LightGBM] [Warning] No further splits with positive gain, best gain: -inf\n",
      "[LightGBM] [Debug] Trained a tree with leaves = 15 and depth = 6\n",
      "[LightGBM] [Warning] No further splits with positive gain, best gain: -inf\n",
      "[LightGBM] [Debug] Trained a tree with leaves = 14 and depth = 7\n",
      "[LightGBM] [Warning] No further splits with positive gain, best gain: -inf\n",
      "[LightGBM] [Debug] Trained a tree with leaves = 13 and depth = 7\n",
      "[LightGBM] [Warning] No further splits with positive gain, best gain: -inf\n",
      "[LightGBM] [Debug] Trained a tree with leaves = 14 and depth = 6\n",
      "[LightGBM] [Warning] No further splits with positive gain, best gain: -inf\n",
      "[LightGBM] [Debug] Trained a tree with leaves = 14 and depth = 5\n",
      "[LightGBM] [Warning] No further splits with positive gain, best gain: -inf\n",
      "[LightGBM] [Debug] Trained a tree with leaves = 12 and depth = 5\n",
      "[LightGBM] [Warning] No further splits with positive gain, best gain: -inf\n",
      "[LightGBM] [Debug] Trained a tree with leaves = 16 and depth = 6\n",
      "[LightGBM] [Warning] No further splits with positive gain, best gain: -inf\n",
      "[LightGBM] [Debug] Trained a tree with leaves = 16 and depth = 8\n",
      "[LightGBM] [Warning] No further splits with positive gain, best gain: -inf\n",
      "[LightGBM] [Debug] Trained a tree with leaves = 14 and depth = 5\n",
      "[LightGBM] [Warning] No further splits with positive gain, best gain: -inf\n",
      "[LightGBM] [Debug] Trained a tree with leaves = 15 and depth = 6\n",
      "[LightGBM] [Warning] No further splits with positive gain, best gain: -inf\n",
      "[LightGBM] [Debug] Trained a tree with leaves = 14 and depth = 6\n",
      "[LightGBM] [Warning] No further splits with positive gain, best gain: -inf\n",
      "[LightGBM] [Debug] Trained a tree with leaves = 14 and depth = 9\n",
      "[LightGBM] [Warning] No further splits with positive gain, best gain: -inf\n",
      "[LightGBM] [Debug] Trained a tree with leaves = 16 and depth = 7\n",
      "[LightGBM] [Warning] No further splits with positive gain, best gain: -inf\n",
      "[LightGBM] [Debug] Trained a tree with leaves = 19 and depth = 7\n",
      "[LightGBM] [Warning] No further splits with positive gain, best gain: -inf\n",
      "[LightGBM] [Debug] Trained a tree with leaves = 15 and depth = 7\n",
      "[LightGBM] [Warning] No further splits with positive gain, best gain: -inf\n",
      "[LightGBM] [Debug] Trained a tree with leaves = 16 and depth = 7\n",
      "[LightGBM] [Warning] No further splits with positive gain, best gain: -inf\n",
      "[LightGBM] [Debug] Trained a tree with leaves = 15 and depth = 7\n",
      "[LightGBM] [Warning] No further splits with positive gain, best gain: -inf\n",
      "[LightGBM] [Debug] Trained a tree with leaves = 12 and depth = 5\n",
      "[LightGBM] [Warning] No further splits with positive gain, best gain: -inf\n",
      "[LightGBM] [Debug] Trained a tree with leaves = 15 and depth = 6\n",
      "[LightGBM] [Warning] No further splits with positive gain, best gain: -inf\n",
      "[LightGBM] [Debug] Trained a tree with leaves = 15 and depth = 7\n",
      "[LightGBM] [Warning] No further splits with positive gain, best gain: -inf\n",
      "[LightGBM] [Debug] Trained a tree with leaves = 11 and depth = 5\n",
      "[LightGBM] [Warning] No further splits with positive gain, best gain: -inf\n",
      "[LightGBM] [Debug] Trained a tree with leaves = 14 and depth = 8\n",
      "[LightGBM] [Warning] No further splits with positive gain, best gain: -inf\n",
      "[LightGBM] [Debug] Trained a tree with leaves = 14 and depth = 5\n",
      "[LightGBM] [Warning] No further splits with positive gain, best gain: -inf\n",
      "[LightGBM] [Debug] Trained a tree with leaves = 9 and depth = 5\n",
      "[LightGBM] [Warning] No further splits with positive gain, best gain: -inf\n",
      "[LightGBM] [Debug] Trained a tree with leaves = 12 and depth = 6\n",
      "[LightGBM] [Warning] No further splits with positive gain, best gain: -inf\n",
      "[LightGBM] [Debug] Trained a tree with leaves = 16 and depth = 7\n",
      "[LightGBM] [Warning] No further splits with positive gain, best gain: -inf\n",
      "[LightGBM] [Debug] Trained a tree with leaves = 15 and depth = 8\n",
      "[LightGBM] [Warning] No further splits with positive gain, best gain: -inf\n",
      "[LightGBM] [Debug] Trained a tree with leaves = 16 and depth = 8\n",
      "[LightGBM] [Warning] No further splits with positive gain, best gain: -inf\n",
      "[LightGBM] [Debug] Trained a tree with leaves = 12 and depth = 6\n",
      "[LightGBM] [Warning] No further splits with positive gain, best gain: -inf\n",
      "[LightGBM] [Debug] Trained a tree with leaves = 10 and depth = 4\n",
      "[LightGBM] [Warning] No further splits with positive gain, best gain: -inf\n",
      "[LightGBM] [Debug] Trained a tree with leaves = 12 and depth = 6\n",
      "[LightGBM] [Warning] No further splits with positive gain, best gain: -inf\n",
      "[LightGBM] [Debug] Trained a tree with leaves = 16 and depth = 6\n",
      "[LightGBM] [Warning] No further splits with positive gain, best gain: -inf\n",
      "[LightGBM] [Debug] Trained a tree with leaves = 13 and depth = 6\n",
      "[LightGBM] [Warning] No further splits with positive gain, best gain: -inf\n",
      "[LightGBM] [Debug] Trained a tree with leaves = 14 and depth = 5\n",
      "[LightGBM] [Warning] No further splits with positive gain, best gain: -inf\n",
      "[LightGBM] [Debug] Trained a tree with leaves = 11 and depth = 6\n",
      "[LightGBM] [Warning] No further splits with positive gain, best gain: -inf\n",
      "[LightGBM] [Debug] Trained a tree with leaves = 14 and depth = 6\n",
      "[LightGBM] [Warning] No further splits with positive gain, best gain: -inf\n",
      "[LightGBM] [Debug] Trained a tree with leaves = 11 and depth = 5\n",
      "[LightGBM] [Warning] No further splits with positive gain, best gain: -inf\n",
      "[LightGBM] [Debug] Trained a tree with leaves = 17 and depth = 6\n",
      "[LightGBM] [Warning] No further splits with positive gain, best gain: -inf\n",
      "[LightGBM] [Debug] Trained a tree with leaves = 14 and depth = 8\n",
      "[LightGBM] [Warning] No further splits with positive gain, best gain: -inf\n",
      "[LightGBM] [Debug] Trained a tree with leaves = 13 and depth = 7\n",
      "[LightGBM] [Warning] No further splits with positive gain, best gain: -inf\n",
      "[LightGBM] [Debug] Trained a tree with leaves = 17 and depth = 7\n",
      "[LightGBM] [Warning] No further splits with positive gain, best gain: -inf\n",
      "[LightGBM] [Debug] Trained a tree with leaves = 17 and depth = 6\n",
      "[LightGBM] [Warning] No further splits with positive gain, best gain: -inf\n",
      "[LightGBM] [Debug] Trained a tree with leaves = 14 and depth = 5\n",
      "[LightGBM] [Warning] No further splits with positive gain, best gain: -inf\n",
      "[LightGBM] [Debug] Trained a tree with leaves = 14 and depth = 6\n",
      "[LightGBM] [Warning] No further splits with positive gain, best gain: -inf\n",
      "[LightGBM] [Debug] Trained a tree with leaves = 16 and depth = 7\n",
      "[LightGBM] [Warning] No further splits with positive gain, best gain: -inf\n",
      "[LightGBM] [Debug] Trained a tree with leaves = 16 and depth = 7\n",
      "[LightGBM] [Warning] No further splits with positive gain, best gain: -inf\n",
      "[LightGBM] [Debug] Trained a tree with leaves = 14 and depth = 8\n",
      "[LightGBM] [Warning] No further splits with positive gain, best gain: -inf\n",
      "[LightGBM] [Debug] Trained a tree with leaves = 15 and depth = 6\n",
      "[LightGBM] [Warning] No further splits with positive gain, best gain: -inf\n",
      "[LightGBM] [Debug] Trained a tree with leaves = 13 and depth = 6\n",
      "[LightGBM] [Warning] No further splits with positive gain, best gain: -inf\n",
      "[LightGBM] [Debug] Trained a tree with leaves = 15 and depth = 6\n",
      "[LightGBM] [Warning] No further splits with positive gain, best gain: -inf\n",
      "[LightGBM] [Debug] Trained a tree with leaves = 16 and depth = 6\n",
      "[LightGBM] [Warning] No further splits with positive gain, best gain: -inf\n",
      "[LightGBM] [Debug] Trained a tree with leaves = 16 and depth = 6\n",
      "[LightGBM] [Warning] No further splits with positive gain, best gain: -inf\n",
      "[LightGBM] [Debug] Trained a tree with leaves = 14 and depth = 9\n",
      "[LightGBM] [Warning] No further splits with positive gain, best gain: -inf\n",
      "[LightGBM] [Debug] Trained a tree with leaves = 13 and depth = 6\n",
      "[LightGBM] [Warning] No further splits with positive gain, best gain: -inf\n",
      "[LightGBM] [Debug] Trained a tree with leaves = 16 and depth = 7\n",
      "[LightGBM] [Warning] No further splits with positive gain, best gain: -inf\n",
      "[LightGBM] [Debug] Trained a tree with leaves = 13 and depth = 5\n",
      "[LightGBM] [Warning] No further splits with positive gain, best gain: -inf\n",
      "[LightGBM] [Debug] Trained a tree with leaves = 14 and depth = 7\n",
      "[LightGBM] [Warning] No further splits with positive gain, best gain: -inf\n",
      "[LightGBM] [Debug] Trained a tree with leaves = 15 and depth = 8\n",
      "[LightGBM] [Warning] No further splits with positive gain, best gain: -inf\n",
      "[LightGBM] [Debug] Trained a tree with leaves = 17 and depth = 7\n",
      "[LightGBM] [Warning] No further splits with positive gain, best gain: -inf\n",
      "[LightGBM] [Debug] Trained a tree with leaves = 16 and depth = 6\n",
      "[LightGBM] [Warning] No further splits with positive gain, best gain: -inf\n",
      "[LightGBM] [Debug] Trained a tree with leaves = 14 and depth = 6\n",
      "[LightGBM] [Warning] No further splits with positive gain, best gain: -inf\n",
      "[LightGBM] [Debug] Trained a tree with leaves = 12 and depth = 6\n",
      "[LightGBM] [Warning] No further splits with positive gain, best gain: -inf\n",
      "[LightGBM] [Debug] Trained a tree with leaves = 13 and depth = 6\n",
      "[LightGBM] [Warning] No further splits with positive gain, best gain: -inf\n",
      "[LightGBM] [Debug] Trained a tree with leaves = 10 and depth = 5\n",
      "[LightGBM] [Warning] No further splits with positive gain, best gain: -inf\n",
      "[LightGBM] [Debug] Trained a tree with leaves = 10 and depth = 6\n",
      "[LightGBM] [Warning] No further splits with positive gain, best gain: -inf\n",
      "[LightGBM] [Debug] Trained a tree with leaves = 16 and depth = 6\n",
      "[LightGBM] [Warning] No further splits with positive gain, best gain: -inf\n",
      "[LightGBM] [Debug] Trained a tree with leaves = 10 and depth = 5\n",
      "[LightGBM] [Warning] No further splits with positive gain, best gain: -inf\n",
      "[LightGBM] [Debug] Trained a tree with leaves = 13 and depth = 6\n",
      "[LightGBM] [Warning] No further splits with positive gain, best gain: -inf\n",
      "[LightGBM] [Debug] Trained a tree with leaves = 13 and depth = 9\n",
      "[LightGBM] [Warning] No further splits with positive gain, best gain: -inf\n",
      "[LightGBM] [Debug] Trained a tree with leaves = 13 and depth = 7\n",
      "[LightGBM] [Warning] No further splits with positive gain, best gain: -inf\n",
      "[LightGBM] [Debug] Trained a tree with leaves = 17 and depth = 7\n",
      "[LightGBM] [Warning] No further splits with positive gain, best gain: -inf\n",
      "[LightGBM] [Debug] Trained a tree with leaves = 12 and depth = 6\n",
      "[LightGBM] [Warning] No further splits with positive gain, best gain: -inf\n",
      "[LightGBM] [Debug] Trained a tree with leaves = 11 and depth = 6\n",
      "[LightGBM] [Warning] No further splits with positive gain, best gain: -inf\n",
      "[LightGBM] [Debug] Trained a tree with leaves = 14 and depth = 6\n",
      "[LightGBM] [Warning] No further splits with positive gain, best gain: -inf\n",
      "[LightGBM] [Debug] Trained a tree with leaves = 14 and depth = 7\n",
      "[LightGBM] [Warning] No further splits with positive gain, best gain: -inf\n",
      "[LightGBM] [Debug] Trained a tree with leaves = 10 and depth = 6\n",
      "[LightGBM] [Warning] No further splits with positive gain, best gain: -inf\n",
      "[LightGBM] [Debug] Trained a tree with leaves = 15 and depth = 6\n",
      "[LightGBM] [Warning] No further splits with positive gain, best gain: -inf\n",
      "[LightGBM] [Debug] Trained a tree with leaves = 9 and depth = 4\n",
      "[LightGBM] [Warning] No further splits with positive gain, best gain: -inf\n",
      "[LightGBM] [Debug] Trained a tree with leaves = 11 and depth = 5\n",
      "[LightGBM] [Warning] No further splits with positive gain, best gain: -inf\n",
      "[LightGBM] [Debug] Trained a tree with leaves = 13 and depth = 6\n",
      "[LightGBM] [Warning] No further splits with positive gain, best gain: -inf\n",
      "[LightGBM] [Debug] Trained a tree with leaves = 9 and depth = 4\n",
      "[LightGBM] [Warning] No further splits with positive gain, best gain: -inf\n",
      "[LightGBM] [Debug] Trained a tree with leaves = 9 and depth = 5\n",
      "[LightGBM] [Warning] No further splits with positive gain, best gain: -inf\n",
      "[LightGBM] [Debug] Trained a tree with leaves = 14 and depth = 6\n",
      "[LightGBM] [Warning] No further splits with positive gain, best gain: -inf\n",
      "[LightGBM] [Debug] Trained a tree with leaves = 9 and depth = 4\n",
      "[LightGBM] [Warning] No further splits with positive gain, best gain: -inf\n",
      "[LightGBM] [Debug] Trained a tree with leaves = 12 and depth = 6\n",
      "[LightGBM] [Warning] No further splits with positive gain, best gain: -inf\n",
      "[LightGBM] [Debug] Trained a tree with leaves = 13 and depth = 8\n",
      "[LightGBM] [Warning] No further splits with positive gain, best gain: -inf\n",
      "[LightGBM] [Debug] Trained a tree with leaves = 9 and depth = 5\n",
      "[LightGBM] [Warning] No further splits with positive gain, best gain: -inf\n",
      "[LightGBM] [Debug] Trained a tree with leaves = 9 and depth = 4\n",
      "[LightGBM] [Warning] No further splits with positive gain, best gain: -inf\n",
      "[LightGBM] [Debug] Trained a tree with leaves = 15 and depth = 6\n",
      "[LightGBM] [Warning] No further splits with positive gain, best gain: -inf\n",
      "[LightGBM] [Debug] Trained a tree with leaves = 14 and depth = 9\n",
      "[LightGBM] [Warning] No further splits with positive gain, best gain: -inf\n",
      "[LightGBM] [Debug] Trained a tree with leaves = 11 and depth = 6\n",
      "[LightGBM] [Warning] No further splits with positive gain, best gain: -inf\n",
      "[LightGBM] [Debug] Trained a tree with leaves = 9 and depth = 4\n",
      "[LightGBM] [Warning] No further splits with positive gain, best gain: -inf\n",
      "[LightGBM] [Debug] Trained a tree with leaves = 14 and depth = 5\n",
      "[LightGBM] [Warning] No further splits with positive gain, best gain: -inf\n",
      "[LightGBM] [Debug] Trained a tree with leaves = 10 and depth = 5\n",
      "[LightGBM] [Warning] No further splits with positive gain, best gain: -inf\n",
      "[LightGBM] [Debug] Trained a tree with leaves = 14 and depth = 6\n",
      "[LightGBM] [Warning] No further splits with positive gain, best gain: -inf\n",
      "[LightGBM] [Debug] Trained a tree with leaves = 12 and depth = 8\n",
      "[LightGBM] [Warning] No further splits with positive gain, best gain: -inf\n",
      "[LightGBM] [Debug] Trained a tree with leaves = 12 and depth = 7\n",
      "[LightGBM] [Warning] No further splits with positive gain, best gain: -inf\n",
      "[LightGBM] [Debug] Trained a tree with leaves = 7 and depth = 4\n",
      "[LightGBM] [Warning] No further splits with positive gain, best gain: -inf\n",
      "[LightGBM] [Debug] Trained a tree with leaves = 9 and depth = 4\n",
      "CPU times: user 3min 29s, sys: 1.74 s, total: 3min 31s\n",
      "Wall time: 1min 49s\n"
     ]
    }
   ],
   "source": [
    "%%time\n",
    "ranker = ranker.fit(\n",
    "    train_X,\n",
    "    train_y,\n",
    "    group=train_baskets\n",
    ")"
   ]
  },
  {
   "cell_type": "code",
   "execution_count": 40,
   "id": "787dc3f0",
   "metadata": {
    "execution": {
     "iopub.execute_input": "2024-11-19T18:01:28.603730Z",
     "iopub.status.busy": "2024-11-19T18:01:28.603316Z",
     "iopub.status.idle": "2024-11-19T18:01:28.608211Z",
     "shell.execute_reply": "2024-11-19T18:01:28.606988Z"
    },
    "papermill": {
     "duration": 0.032711,
     "end_time": "2024-11-19T18:01:28.610366",
     "exception": false,
     "start_time": "2024-11-19T18:01:28.577655",
     "status": "completed"
    },
    "tags": []
   },
   "outputs": [],
   "source": [
    "# import lightgbm as lgb\n",
    "# clf = lgb.LGBMClassifier(class_weight = {0: 0.3, 1:0.7})\n",
    "# clf.fit(train_X, train_y)"
   ]
  },
  {
   "cell_type": "code",
   "execution_count": 41,
   "id": "df94b764",
   "metadata": {
    "execution": {
     "iopub.execute_input": "2024-11-19T18:01:28.661509Z",
     "iopub.status.busy": "2024-11-19T18:01:28.661108Z",
     "iopub.status.idle": "2024-11-19T18:01:28.671352Z",
     "shell.execute_reply": "2024-11-19T18:01:28.670204Z"
    },
    "papermill": {
     "duration": 0.038068,
     "end_time": "2024-11-19T18:01:28.673467",
     "exception": false,
     "start_time": "2024-11-19T18:01:28.635399",
     "status": "completed"
    },
    "tags": []
   },
   "outputs": [
    {
     "name": "stdout",
     "output_type": "stream",
     "text": [
      "score_simgcl_cosine 0.9356504884533833\n",
      "user_item_count 0.06434951154661094\n",
      "score_simgcl_dot 2.3655661275034325e-15\n",
      "dim_ItemId_20 9.050629284897327e-16\n",
      "item_buy_ratio 3.00312108421983e-16\n",
      "dim_ItemId_11 2.1886379623250216e-16\n",
      "score_xsim_denoise_cosine 2.1358094998053093e-16\n",
      "dim_ItemId_91 2.0355088789904715e-16\n",
      "score_xsim_dot 1.609720929318483e-16\n",
      "dim_ItemId_21 9.872232631535667e-17\n",
      "dim_ItemId_37 9.726042995834073e-17\n",
      "score_lightgcn_dot 9.702450537878968e-17\n",
      "dim_ItemId_9 8.353930940505659e-17\n",
      "dim_ItemId_50 5.777153448658463e-17\n",
      "dim_ItemId_10 4.16909395629392e-17\n",
      "dim_ItemId_35 3.885978385709606e-17\n",
      "dim_ItemId_8 3.685202993110934e-17\n",
      "dim_ItemId_102 3.636165200181237e-17\n",
      "score_item_xsim_dot 3.617200921476645e-17\n",
      "dim_ItemId_2 3.2582116397267357e-17\n",
      "dim_ItemId_105 3.1865022391870075e-17\n",
      "dim_ItemId_123 3.130984342782347e-17\n",
      "score_xsim_cosine 2.9366932213165936e-17\n",
      "dim_ItemId_60 2.8016098217365157e-17\n",
      "dim_ItemId_4 2.7405424148993242e-17\n",
      "dim_ItemId_112 2.7183386463620146e-17\n",
      "dim_ItemId_40 2.4703761114109742e-17\n",
      "dim_ItemId_55 2.3982017950930366e-17\n",
      "dim_ItemId_0 2.2839363959967994e-17\n",
      "dim_ItemId_32 2.202052635179709e-17\n",
      "dim_ItemId_46 2.0336599395948658e-17\n",
      "score_item_xsim_denoise_dot 1.9508567641603156e-17\n",
      "dim_ItemId_3 1.789402292194662e-17\n",
      "dim_ItemId_44 1.633961336770586e-17\n",
      "item_user_count 1.601578968439886e-17\n",
      "dim_ItemId_38 1.5506903436056583e-17\n",
      "dim_ItemId_59 1.4961009342448863e-17\n",
      "score_lightgcn_cosine 1.4512276026058737e-17\n",
      "score_item_simgcl_dot 1.4105179569844874e-17\n",
      "dim_ItemId_86 1.321232127030649e-17\n",
      "dim_ItemId_7 1.2546165829505081e-17\n",
      "dim_ItemId_64 1.0149799973220764e-17\n",
      "dim_ItemId_26 1.0103540540543595e-17\n",
      "dim_ItemId_5 9.70105916770834e-18\n",
      "score_item_lightgcn_dot 9.599281146406607e-18\n",
      "dim_ItemId_22 9.289342170652375e-18\n",
      "dim_ItemId_14 9.215323996247647e-18\n",
      "dim_ItemId_83 9.21532123001514e-18\n",
      "dim_ItemId_25 9.067286968012664e-18\n",
      "dim_ItemId_114 8.882232353138436e-18\n"
     ]
    }
   ],
   "source": [
    "cnt = 0\n",
    "feature_important = []\n",
    "for i in ranker.feature_importances_.argsort()[::-1]:\n",
    "    cnt+=1\n",
    "    feature_important.append(columns_to_use[i])\n",
    "    print(columns_to_use[i], ranker.feature_importances_[i]/ranker.feature_importances_.sum())\n",
    "    if cnt == 50:\n",
    "        break"
   ]
  },
  {
   "cell_type": "code",
   "execution_count": 42,
   "id": "a36b5635",
   "metadata": {
    "execution": {
     "iopub.execute_input": "2024-11-19T18:01:28.725020Z",
     "iopub.status.busy": "2024-11-19T18:01:28.724609Z",
     "iopub.status.idle": "2024-11-19T18:01:28.732504Z",
     "shell.execute_reply": "2024-11-19T18:01:28.731529Z"
    },
    "papermill": {
     "duration": 0.03655,
     "end_time": "2024-11-19T18:01:28.734568",
     "exception": false,
     "start_time": "2024-11-19T18:01:28.698018",
     "status": "completed"
    },
    "tags": []
   },
   "outputs": [],
   "source": [
    "import math\n",
    "\n",
    "def calculate_ndcg(predictions: dict, labels: dict, N: int = None) -> float:\n",
    "    \"\"\"\n",
    "    Tính NDCG cho predicted rankings so với ground truth labels\n",
    "    \n",
    "    Args:\n",
    "        predictions (dict): Dictionary chứa predicted rankings của mỗi user\n",
    "        labels (dict): Dictionary chứa ground truth items của mỗi user\n",
    "        N (int): Số lượng items tối đa để xét (NDCG@N)\n",
    "    \n",
    "    Returns:\n",
    "        float: Giá trị NDCG trung bình của tất cả users\n",
    "    \"\"\"\n",
    "    sum_ndcg = 0\n",
    "    \n",
    "    for user_id in predictions:\n",
    "        if user_id not in labels:\n",
    "            continue\n",
    "            \n",
    "        # Tính DCG cho predicted ranking\n",
    "        dcg = 0\n",
    "        for pos, item in enumerate(predictions[user_id][:N]):\n",
    "            # Kiểm tra xem item có trong labels không\n",
    "            if item in labels[user_id]:\n",
    "                dcg += 1.0 / math.log2(pos + 2)\n",
    "        \n",
    "        # Tính IDCG cho ground truth\n",
    "        idcg = 0\n",
    "        for pos in range(min(N, len(labels[user_id]))):\n",
    "            idcg += 1.0 / math.log2(pos + 2)\n",
    "        \n",
    "        # Cộng dồn NDCG của user hiện tại\n",
    "        if idcg != 0:\n",
    "            sum_ndcg += dcg / idcg\n",
    "    \n",
    "    # Tính trung bình NDCG của tất cả users\n",
    "    avg_ndcg = round(sum_ndcg / len(predictions), 5)\n",
    "    \n",
    "    return avg_ndcg"
   ]
  },
  {
   "cell_type": "code",
   "execution_count": 43,
   "id": "1f79bcc6",
   "metadata": {
    "execution": {
     "iopub.execute_input": "2024-11-19T18:01:28.786188Z",
     "iopub.status.busy": "2024-11-19T18:01:28.785779Z",
     "iopub.status.idle": "2024-11-19T18:01:30.609066Z",
     "shell.execute_reply": "2024-11-19T18:01:30.608027Z"
    },
    "papermill": {
     "duration": 1.852718,
     "end_time": "2024-11-19T18:01:30.612113",
     "exception": false,
     "start_time": "2024-11-19T18:01:28.759395",
     "status": "completed"
    },
    "tags": []
   },
   "outputs": [],
   "source": [
    "test['pred'] = ranker.predict(test_X)\n",
    "tmp_test = test \\\n",
    "    .sort_values(['UserId', 'pred'], ascending=False) \\\n",
    "    .groupby('UserId')['ItemId'].apply(list).to_dict()\n",
    "label = test[test.rating != 0].sort_values(['UserId', 'rating'], ascending=False).groupby('UserId')['ItemId'].apply(list).to_dict()\n"
   ]
  },
  {
   "cell_type": "code",
   "execution_count": 44,
   "id": "88683b97",
   "metadata": {
    "execution": {
     "iopub.execute_input": "2024-11-19T18:01:30.671047Z",
     "iopub.status.busy": "2024-11-19T18:01:30.670511Z",
     "iopub.status.idle": "2024-11-19T18:01:30.708060Z",
     "shell.execute_reply": "2024-11-19T18:01:30.706877Z"
    },
    "papermill": {
     "duration": 0.066357,
     "end_time": "2024-11-19T18:01:30.710410",
     "exception": false,
     "start_time": "2024-11-19T18:01:30.644053",
     "status": "completed"
    },
    "tags": []
   },
   "outputs": [
    {
     "data": {
      "text/plain": [
       "0.68835"
      ]
     },
     "execution_count": 44,
     "metadata": {},
     "output_type": "execute_result"
    }
   ],
   "source": [
    "calculate_ndcg(tmp_test, label, 5)"
   ]
  },
  {
   "cell_type": "code",
   "execution_count": 45,
   "id": "50f885a1",
   "metadata": {
    "execution": {
     "iopub.execute_input": "2024-11-19T18:01:30.766423Z",
     "iopub.status.busy": "2024-11-19T18:01:30.765379Z",
     "iopub.status.idle": "2024-11-19T18:01:30.881772Z",
     "shell.execute_reply": "2024-11-19T18:01:30.880527Z"
    },
    "papermill": {
     "duration": 0.148353,
     "end_time": "2024-11-19T18:01:30.884420",
     "exception": false,
     "start_time": "2024-11-19T18:01:30.736067",
     "status": "completed"
    },
    "tags": []
   },
   "outputs": [],
   "source": [
    "columns_to_use = feature_important\n",
    "train_X = train[columns_to_use]\n",
    "train_y = train['rating']\n",
    "\n",
    "test_X = test[columns_to_use]"
   ]
  },
  {
   "cell_type": "code",
   "execution_count": 46,
   "id": "2b23ea6b",
   "metadata": {
    "execution": {
     "iopub.execute_input": "2024-11-19T18:01:30.938608Z",
     "iopub.status.busy": "2024-11-19T18:01:30.938112Z",
     "iopub.status.idle": "2024-11-19T18:02:10.225924Z",
     "shell.execute_reply": "2024-11-19T18:02:10.224639Z"
    },
    "papermill": {
     "duration": 39.317197,
     "end_time": "2024-11-19T18:02:10.228302",
     "exception": false,
     "start_time": "2024-11-19T18:01:30.911105",
     "status": "completed"
    },
    "tags": []
   },
   "outputs": [
    {
     "name": "stdout",
     "output_type": "stream",
     "text": [
      "[LightGBM] [Debug] Dataset::GetMultiBinFromAllFeatures: sparse rate 0.011876\n",
      "[LightGBM] [Debug] init for col-wise cost 0.000010 seconds, init for row-wise cost 0.182148 seconds\n",
      "[LightGBM] [Info] Auto-choosing col-wise multi-threading, the overhead of testing was 0.244226 seconds.\n",
      "You can set `force_col_wise=true` to remove the overhead.\n",
      "[LightGBM] [Info] Total Bins 12563\n",
      "[LightGBM] [Info] Number of data points in the train set: 790906, number of used features: 50\n",
      "[LightGBM] [Warning] No further splits with positive gain, best gain: -inf\n",
      "[LightGBM] [Debug] Trained a tree with leaves = 2 and depth = 1\n",
      "[LightGBM] [Warning] No further splits with positive gain, best gain: -inf\n",
      "[LightGBM] [Debug] Trained a tree with leaves = 16 and depth = 6\n",
      "[LightGBM] [Warning] No further splits with positive gain, best gain: -inf\n",
      "[LightGBM] [Debug] Trained a tree with leaves = 16 and depth = 6\n",
      "[LightGBM] [Warning] No further splits with positive gain, best gain: -inf\n",
      "[LightGBM] [Debug] Trained a tree with leaves = 13 and depth = 6\n",
      "[LightGBM] [Warning] No further splits with positive gain, best gain: -inf\n",
      "[LightGBM] [Debug] Trained a tree with leaves = 12 and depth = 7\n",
      "[LightGBM] [Warning] No further splits with positive gain, best gain: -inf\n",
      "[LightGBM] [Debug] Trained a tree with leaves = 15 and depth = 8\n",
      "[LightGBM] [Warning] No further splits with positive gain, best gain: -inf\n",
      "[LightGBM] [Debug] Trained a tree with leaves = 13 and depth = 7\n",
      "[LightGBM] [Warning] No further splits with positive gain, best gain: -inf\n",
      "[LightGBM] [Debug] Trained a tree with leaves = 17 and depth = 8\n",
      "[LightGBM] [Warning] No further splits with positive gain, best gain: -inf\n",
      "[LightGBM] [Debug] Trained a tree with leaves = 15 and depth = 6\n",
      "[LightGBM] [Warning] No further splits with positive gain, best gain: -inf\n",
      "[LightGBM] [Debug] Trained a tree with leaves = 11 and depth = 5\n",
      "[LightGBM] [Warning] No further splits with positive gain, best gain: -inf\n",
      "[LightGBM] [Debug] Trained a tree with leaves = 13 and depth = 6\n",
      "[LightGBM] [Warning] No further splits with positive gain, best gain: -inf\n",
      "[LightGBM] [Debug] Trained a tree with leaves = 17 and depth = 6\n",
      "[LightGBM] [Warning] No further splits with positive gain, best gain: -inf\n",
      "[LightGBM] [Debug] Trained a tree with leaves = 16 and depth = 6\n",
      "[LightGBM] [Warning] No further splits with positive gain, best gain: -inf\n",
      "[LightGBM] [Debug] Trained a tree with leaves = 13 and depth = 10\n",
      "[LightGBM] [Warning] No further splits with positive gain, best gain: -inf\n",
      "[LightGBM] [Debug] Trained a tree with leaves = 12 and depth = 5\n",
      "[LightGBM] [Warning] No further splits with positive gain, best gain: -inf\n",
      "[LightGBM] [Debug] Trained a tree with leaves = 15 and depth = 6\n",
      "[LightGBM] [Warning] No further splits with positive gain, best gain: -inf\n",
      "[LightGBM] [Debug] Trained a tree with leaves = 17 and depth = 8\n",
      "[LightGBM] [Warning] No further splits with positive gain, best gain: -inf\n",
      "[LightGBM] [Debug] Trained a tree with leaves = 6 and depth = 4\n",
      "[LightGBM] [Warning] No further splits with positive gain, best gain: -inf\n",
      "[LightGBM] [Debug] Trained a tree with leaves = 13 and depth = 6\n",
      "[LightGBM] [Warning] No further splits with positive gain, best gain: -inf\n",
      "[LightGBM] [Debug] Trained a tree with leaves = 12 and depth = 7\n",
      "[LightGBM] [Warning] No further splits with positive gain, best gain: -inf\n",
      "[LightGBM] [Debug] Trained a tree with leaves = 11 and depth = 5\n",
      "[LightGBM] [Warning] No further splits with positive gain, best gain: -inf\n",
      "[LightGBM] [Debug] Trained a tree with leaves = 12 and depth = 6\n",
      "[LightGBM] [Warning] No further splits with positive gain, best gain: -inf\n",
      "[LightGBM] [Debug] Trained a tree with leaves = 10 and depth = 5\n",
      "[LightGBM] [Warning] No further splits with positive gain, best gain: -inf\n",
      "[LightGBM] [Debug] Trained a tree with leaves = 16 and depth = 8\n",
      "[LightGBM] [Warning] No further splits with positive gain, best gain: -inf\n",
      "[LightGBM] [Debug] Trained a tree with leaves = 17 and depth = 7\n",
      "[LightGBM] [Warning] No further splits with positive gain, best gain: -inf\n",
      "[LightGBM] [Debug] Trained a tree with leaves = 13 and depth = 6\n",
      "[LightGBM] [Warning] No further splits with positive gain, best gain: -inf\n",
      "[LightGBM] [Debug] Trained a tree with leaves = 11 and depth = 6\n",
      "[LightGBM] [Warning] No further splits with positive gain, best gain: -inf\n",
      "[LightGBM] [Debug] Trained a tree with leaves = 11 and depth = 5\n",
      "[LightGBM] [Warning] No further splits with positive gain, best gain: -inf\n",
      "[LightGBM] [Debug] Trained a tree with leaves = 18 and depth = 8\n",
      "[LightGBM] [Warning] No further splits with positive gain, best gain: -inf\n",
      "[LightGBM] [Debug] Trained a tree with leaves = 13 and depth = 7\n",
      "[LightGBM] [Warning] No further splits with positive gain, best gain: -inf\n",
      "[LightGBM] [Debug] Trained a tree with leaves = 13 and depth = 6\n",
      "[LightGBM] [Warning] No further splits with positive gain, best gain: -inf\n",
      "[LightGBM] [Debug] Trained a tree with leaves = 14 and depth = 6\n",
      "[LightGBM] [Warning] No further splits with positive gain, best gain: -inf\n",
      "[LightGBM] [Debug] Trained a tree with leaves = 12 and depth = 6\n",
      "[LightGBM] [Warning] No further splits with positive gain, best gain: -inf\n",
      "[LightGBM] [Debug] Trained a tree with leaves = 16 and depth = 6\n",
      "[LightGBM] [Warning] No further splits with positive gain, best gain: -inf\n",
      "[LightGBM] [Debug] Trained a tree with leaves = 15 and depth = 6\n",
      "[LightGBM] [Warning] No further splits with positive gain, best gain: -inf\n",
      "[LightGBM] [Debug] Trained a tree with leaves = 14 and depth = 6\n",
      "[LightGBM] [Warning] No further splits with positive gain, best gain: -inf\n",
      "[LightGBM] [Debug] Trained a tree with leaves = 17 and depth = 6\n",
      "[LightGBM] [Warning] No further splits with positive gain, best gain: -inf\n",
      "[LightGBM] [Debug] Trained a tree with leaves = 17 and depth = 7\n",
      "[LightGBM] [Warning] No further splits with positive gain, best gain: -inf\n",
      "[LightGBM] [Debug] Trained a tree with leaves = 15 and depth = 6\n",
      "[LightGBM] [Warning] No further splits with positive gain, best gain: -inf\n",
      "[LightGBM] [Debug] Trained a tree with leaves = 14 and depth = 7\n",
      "[LightGBM] [Warning] No further splits with positive gain, best gain: -inf\n",
      "[LightGBM] [Debug] Trained a tree with leaves = 10 and depth = 5\n",
      "[LightGBM] [Warning] No further splits with positive gain, best gain: -inf\n",
      "[LightGBM] [Debug] Trained a tree with leaves = 10 and depth = 5\n",
      "[LightGBM] [Warning] No further splits with positive gain, best gain: -inf\n",
      "[LightGBM] [Debug] Trained a tree with leaves = 12 and depth = 6\n",
      "[LightGBM] [Warning] No further splits with positive gain, best gain: -inf\n",
      "[LightGBM] [Debug] Trained a tree with leaves = 14 and depth = 6\n",
      "[LightGBM] [Warning] No further splits with positive gain, best gain: -inf\n",
      "[LightGBM] [Debug] Trained a tree with leaves = 12 and depth = 6\n",
      "[LightGBM] [Warning] No further splits with positive gain, best gain: -inf\n",
      "[LightGBM] [Debug] Trained a tree with leaves = 16 and depth = 7\n",
      "[LightGBM] [Warning] No further splits with positive gain, best gain: -inf\n",
      "[LightGBM] [Debug] Trained a tree with leaves = 14 and depth = 6\n",
      "[LightGBM] [Warning] No further splits with positive gain, best gain: -inf\n",
      "[LightGBM] [Debug] Trained a tree with leaves = 15 and depth = 6\n",
      "[LightGBM] [Warning] No further splits with positive gain, best gain: -inf\n",
      "[LightGBM] [Debug] Trained a tree with leaves = 15 and depth = 7\n",
      "[LightGBM] [Warning] No further splits with positive gain, best gain: -inf\n",
      "[LightGBM] [Debug] Trained a tree with leaves = 12 and depth = 5\n",
      "[LightGBM] [Warning] No further splits with positive gain, best gain: -inf\n",
      "[LightGBM] [Debug] Trained a tree with leaves = 15 and depth = 6\n",
      "[LightGBM] [Warning] No further splits with positive gain, best gain: -inf\n",
      "[LightGBM] [Debug] Trained a tree with leaves = 16 and depth = 8\n",
      "[LightGBM] [Warning] No further splits with positive gain, best gain: -inf\n",
      "[LightGBM] [Debug] Trained a tree with leaves = 12 and depth = 7\n",
      "[LightGBM] [Warning] No further splits with positive gain, best gain: -inf\n",
      "[LightGBM] [Debug] Trained a tree with leaves = 13 and depth = 5\n",
      "[LightGBM] [Warning] No further splits with positive gain, best gain: -inf\n",
      "[LightGBM] [Debug] Trained a tree with leaves = 14 and depth = 8\n",
      "[LightGBM] [Warning] No further splits with positive gain, best gain: -inf\n",
      "[LightGBM] [Debug] Trained a tree with leaves = 17 and depth = 7\n",
      "[LightGBM] [Warning] No further splits with positive gain, best gain: -inf\n",
      "[LightGBM] [Debug] Trained a tree with leaves = 14 and depth = 7\n",
      "[LightGBM] [Warning] No further splits with positive gain, best gain: -inf\n",
      "[LightGBM] [Debug] Trained a tree with leaves = 15 and depth = 6\n",
      "[LightGBM] [Warning] No further splits with positive gain, best gain: -inf\n",
      "[LightGBM] [Debug] Trained a tree with leaves = 17 and depth = 7\n",
      "[LightGBM] [Warning] No further splits with positive gain, best gain: -inf\n",
      "[LightGBM] [Debug] Trained a tree with leaves = 16 and depth = 6\n",
      "[LightGBM] [Warning] No further splits with positive gain, best gain: -inf\n",
      "[LightGBM] [Debug] Trained a tree with leaves = 14 and depth = 7\n",
      "[LightGBM] [Warning] No further splits with positive gain, best gain: -inf\n",
      "[LightGBM] [Debug] Trained a tree with leaves = 16 and depth = 6\n",
      "[LightGBM] [Warning] No further splits with positive gain, best gain: -inf\n",
      "[LightGBM] [Debug] Trained a tree with leaves = 16 and depth = 8\n",
      "[LightGBM] [Warning] No further splits with positive gain, best gain: -inf\n",
      "[LightGBM] [Debug] Trained a tree with leaves = 17 and depth = 6\n",
      "[LightGBM] [Warning] No further splits with positive gain, best gain: -inf\n",
      "[LightGBM] [Debug] Trained a tree with leaves = 14 and depth = 6\n",
      "[LightGBM] [Warning] No further splits with positive gain, best gain: -inf\n",
      "[LightGBM] [Debug] Trained a tree with leaves = 14 and depth = 6\n",
      "[LightGBM] [Warning] No further splits with positive gain, best gain: -inf\n",
      "[LightGBM] [Debug] Trained a tree with leaves = 16 and depth = 7\n",
      "[LightGBM] [Warning] No further splits with positive gain, best gain: -inf\n",
      "[LightGBM] [Debug] Trained a tree with leaves = 11 and depth = 5\n",
      "[LightGBM] [Warning] No further splits with positive gain, best gain: -inf\n",
      "[LightGBM] [Debug] Trained a tree with leaves = 14 and depth = 6\n",
      "[LightGBM] [Warning] No further splits with positive gain, best gain: -inf\n",
      "[LightGBM] [Debug] Trained a tree with leaves = 17 and depth = 7\n",
      "[LightGBM] [Warning] No further splits with positive gain, best gain: -inf\n",
      "[LightGBM] [Debug] Trained a tree with leaves = 15 and depth = 7\n",
      "[LightGBM] [Warning] No further splits with positive gain, best gain: -inf\n",
      "[LightGBM] [Debug] Trained a tree with leaves = 12 and depth = 6\n",
      "[LightGBM] [Warning] No further splits with positive gain, best gain: -inf\n",
      "[LightGBM] [Debug] Trained a tree with leaves = 16 and depth = 7\n",
      "[LightGBM] [Warning] No further splits with positive gain, best gain: -inf\n",
      "[LightGBM] [Debug] Trained a tree with leaves = 12 and depth = 6\n",
      "[LightGBM] [Warning] No further splits with positive gain, best gain: -inf\n",
      "[LightGBM] [Debug] Trained a tree with leaves = 15 and depth = 8\n",
      "[LightGBM] [Warning] No further splits with positive gain, best gain: -inf\n",
      "[LightGBM] [Debug] Trained a tree with leaves = 14 and depth = 6\n",
      "[LightGBM] [Warning] No further splits with positive gain, best gain: -inf\n",
      "[LightGBM] [Debug] Trained a tree with leaves = 13 and depth = 6\n",
      "[LightGBM] [Warning] No further splits with positive gain, best gain: -inf\n",
      "[LightGBM] [Debug] Trained a tree with leaves = 15 and depth = 8\n",
      "[LightGBM] [Warning] No further splits with positive gain, best gain: -inf\n",
      "[LightGBM] [Debug] Trained a tree with leaves = 13 and depth = 6\n",
      "[LightGBM] [Warning] No further splits with positive gain, best gain: -inf\n",
      "[LightGBM] [Debug] Trained a tree with leaves = 16 and depth = 6\n",
      "[LightGBM] [Warning] No further splits with positive gain, best gain: -inf\n",
      "[LightGBM] [Debug] Trained a tree with leaves = 15 and depth = 6\n",
      "[LightGBM] [Warning] No further splits with positive gain, best gain: -inf\n",
      "[LightGBM] [Debug] Trained a tree with leaves = 17 and depth = 6\n",
      "[LightGBM] [Warning] No further splits with positive gain, best gain: -inf\n",
      "[LightGBM] [Debug] Trained a tree with leaves = 15 and depth = 7\n",
      "[LightGBM] [Warning] No further splits with positive gain, best gain: -inf\n",
      "[LightGBM] [Debug] Trained a tree with leaves = 12 and depth = 5\n",
      "[LightGBM] [Warning] No further splits with positive gain, best gain: -inf\n",
      "[LightGBM] [Debug] Trained a tree with leaves = 15 and depth = 6\n",
      "[LightGBM] [Warning] No further splits with positive gain, best gain: -inf\n",
      "[LightGBM] [Debug] Trained a tree with leaves = 12 and depth = 5\n",
      "[LightGBM] [Warning] No further splits with positive gain, best gain: -inf\n",
      "[LightGBM] [Debug] Trained a tree with leaves = 13 and depth = 7\n",
      "[LightGBM] [Warning] No further splits with positive gain, best gain: -inf\n",
      "[LightGBM] [Debug] Trained a tree with leaves = 14 and depth = 6\n",
      "[LightGBM] [Warning] No further splits with positive gain, best gain: -inf\n",
      "[LightGBM] [Debug] Trained a tree with leaves = 16 and depth = 7\n",
      "[LightGBM] [Warning] No further splits with positive gain, best gain: -inf\n",
      "[LightGBM] [Debug] Trained a tree with leaves = 14 and depth = 8\n",
      "[LightGBM] [Warning] No further splits with positive gain, best gain: -inf\n",
      "[LightGBM] [Debug] Trained a tree with leaves = 12 and depth = 8\n",
      "[LightGBM] [Warning] No further splits with positive gain, best gain: -inf\n",
      "[LightGBM] [Debug] Trained a tree with leaves = 16 and depth = 8\n",
      "[LightGBM] [Warning] No further splits with positive gain, best gain: -inf\n",
      "[LightGBM] [Debug] Trained a tree with leaves = 19 and depth = 7\n",
      "[LightGBM] [Warning] No further splits with positive gain, best gain: -inf\n",
      "[LightGBM] [Debug] Trained a tree with leaves = 16 and depth = 7\n",
      "[LightGBM] [Warning] No further splits with positive gain, best gain: -inf\n",
      "[LightGBM] [Debug] Trained a tree with leaves = 11 and depth = 6\n",
      "[LightGBM] [Warning] No further splits with positive gain, best gain: -inf\n",
      "[LightGBM] [Debug] Trained a tree with leaves = 15 and depth = 6\n",
      "[LightGBM] [Warning] No further splits with positive gain, best gain: -inf\n",
      "[LightGBM] [Debug] Trained a tree with leaves = 16 and depth = 8\n",
      "[LightGBM] [Warning] No further splits with positive gain, best gain: -inf\n",
      "[LightGBM] [Debug] Trained a tree with leaves = 15 and depth = 8\n",
      "[LightGBM] [Warning] No further splits with positive gain, best gain: -inf\n",
      "[LightGBM] [Debug] Trained a tree with leaves = 13 and depth = 6\n",
      "[LightGBM] [Warning] No further splits with positive gain, best gain: -inf\n",
      "[LightGBM] [Debug] Trained a tree with leaves = 14 and depth = 7\n",
      "[LightGBM] [Warning] No further splits with positive gain, best gain: -inf\n",
      "[LightGBM] [Debug] Trained a tree with leaves = 15 and depth = 6\n",
      "[LightGBM] [Warning] No further splits with positive gain, best gain: -inf\n",
      "[LightGBM] [Debug] Trained a tree with leaves = 16 and depth = 7\n",
      "[LightGBM] [Warning] No further splits with positive gain, best gain: -inf\n",
      "[LightGBM] [Debug] Trained a tree with leaves = 14 and depth = 6\n",
      "[LightGBM] [Warning] No further splits with positive gain, best gain: -inf\n",
      "[LightGBM] [Debug] Trained a tree with leaves = 13 and depth = 7\n",
      "[LightGBM] [Warning] No further splits with positive gain, best gain: -inf\n",
      "[LightGBM] [Debug] Trained a tree with leaves = 17 and depth = 8\n",
      "[LightGBM] [Warning] No further splits with positive gain, best gain: -inf\n",
      "[LightGBM] [Debug] Trained a tree with leaves = 13 and depth = 5\n",
      "[LightGBM] [Warning] No further splits with positive gain, best gain: -inf\n",
      "[LightGBM] [Debug] Trained a tree with leaves = 11 and depth = 5\n",
      "[LightGBM] [Warning] No further splits with positive gain, best gain: -inf\n",
      "[LightGBM] [Debug] Trained a tree with leaves = 13 and depth = 5\n",
      "[LightGBM] [Warning] No further splits with positive gain, best gain: -inf\n",
      "[LightGBM] [Debug] Trained a tree with leaves = 13 and depth = 6\n",
      "[LightGBM] [Warning] No further splits with positive gain, best gain: -inf\n",
      "[LightGBM] [Debug] Trained a tree with leaves = 14 and depth = 6\n",
      "[LightGBM] [Warning] No further splits with positive gain, best gain: -inf\n",
      "[LightGBM] [Debug] Trained a tree with leaves = 15 and depth = 6\n",
      "[LightGBM] [Warning] No further splits with positive gain, best gain: -inf\n",
      "[LightGBM] [Debug] Trained a tree with leaves = 15 and depth = 6\n",
      "[LightGBM] [Warning] No further splits with positive gain, best gain: -inf\n",
      "[LightGBM] [Debug] Trained a tree with leaves = 12 and depth = 5\n",
      "[LightGBM] [Warning] No further splits with positive gain, best gain: -inf\n",
      "[LightGBM] [Debug] Trained a tree with leaves = 15 and depth = 6\n",
      "[LightGBM] [Warning] No further splits with positive gain, best gain: -inf\n",
      "[LightGBM] [Debug] Trained a tree with leaves = 12 and depth = 6\n",
      "[LightGBM] [Warning] No further splits with positive gain, best gain: -inf\n",
      "[LightGBM] [Debug] Trained a tree with leaves = 10 and depth = 4\n",
      "[LightGBM] [Warning] No further splits with positive gain, best gain: -inf\n",
      "[LightGBM] [Debug] Trained a tree with leaves = 15 and depth = 6\n",
      "[LightGBM] [Warning] No further splits with positive gain, best gain: -inf\n",
      "[LightGBM] [Debug] Trained a tree with leaves = 9 and depth = 5\n",
      "[LightGBM] [Warning] No further splits with positive gain, best gain: -inf\n",
      "[LightGBM] [Debug] Trained a tree with leaves = 13 and depth = 5\n",
      "[LightGBM] [Warning] No further splits with positive gain, best gain: -inf\n",
      "[LightGBM] [Debug] Trained a tree with leaves = 15 and depth = 8\n",
      "[LightGBM] [Warning] No further splits with positive gain, best gain: -inf\n",
      "[LightGBM] [Debug] Trained a tree with leaves = 13 and depth = 7\n",
      "[LightGBM] [Warning] No further splits with positive gain, best gain: -inf\n",
      "[LightGBM] [Debug] Trained a tree with leaves = 15 and depth = 8\n",
      "[LightGBM] [Warning] No further splits with positive gain, best gain: -inf\n",
      "[LightGBM] [Debug] Trained a tree with leaves = 12 and depth = 6\n",
      "[LightGBM] [Warning] No further splits with positive gain, best gain: -inf\n",
      "[LightGBM] [Debug] Trained a tree with leaves = 11 and depth = 7\n",
      "[LightGBM] [Warning] No further splits with positive gain, best gain: -inf\n",
      "[LightGBM] [Debug] Trained a tree with leaves = 14 and depth = 8\n",
      "[LightGBM] [Warning] No further splits with positive gain, best gain: -inf\n",
      "[LightGBM] [Debug] Trained a tree with leaves = 14 and depth = 6\n",
      "[LightGBM] [Warning] No further splits with positive gain, best gain: -inf\n",
      "[LightGBM] [Debug] Trained a tree with leaves = 9 and depth = 6\n",
      "[LightGBM] [Warning] No further splits with positive gain, best gain: -inf\n",
      "[LightGBM] [Debug] Trained a tree with leaves = 16 and depth = 8\n",
      "[LightGBM] [Warning] No further splits with positive gain, best gain: -inf\n",
      "[LightGBM] [Debug] Trained a tree with leaves = 9 and depth = 5\n",
      "[LightGBM] [Warning] No further splits with positive gain, best gain: -inf\n",
      "[LightGBM] [Debug] Trained a tree with leaves = 10 and depth = 5\n",
      "[LightGBM] [Warning] No further splits with positive gain, best gain: -inf\n",
      "[LightGBM] [Debug] Trained a tree with leaves = 15 and depth = 6\n",
      "[LightGBM] [Warning] No further splits with positive gain, best gain: -inf\n",
      "[LightGBM] [Debug] Trained a tree with leaves = 9 and depth = 6\n",
      "[LightGBM] [Warning] No further splits with positive gain, best gain: -inf\n",
      "[LightGBM] [Debug] Trained a tree with leaves = 10 and depth = 5\n",
      "[LightGBM] [Warning] No further splits with positive gain, best gain: -inf\n",
      "[LightGBM] [Debug] Trained a tree with leaves = 15 and depth = 6\n",
      "[LightGBM] [Warning] No further splits with positive gain, best gain: -inf\n",
      "[LightGBM] [Debug] Trained a tree with leaves = 10 and depth = 6\n",
      "[LightGBM] [Warning] No further splits with positive gain, best gain: -inf\n",
      "[LightGBM] [Debug] Trained a tree with leaves = 13 and depth = 7\n",
      "[LightGBM] [Warning] No further splits with positive gain, best gain: -inf\n",
      "[LightGBM] [Debug] Trained a tree with leaves = 15 and depth = 7\n",
      "[LightGBM] [Warning] No further splits with positive gain, best gain: -inf\n",
      "[LightGBM] [Debug] Trained a tree with leaves = 10 and depth = 6\n",
      "[LightGBM] [Warning] No further splits with positive gain, best gain: -inf\n",
      "[LightGBM] [Debug] Trained a tree with leaves = 9 and depth = 4\n",
      "[LightGBM] [Warning] No further splits with positive gain, best gain: -inf\n",
      "[LightGBM] [Debug] Trained a tree with leaves = 13 and depth = 6\n",
      "[LightGBM] [Warning] No further splits with positive gain, best gain: -inf\n",
      "[LightGBM] [Debug] Trained a tree with leaves = 13 and depth = 6\n",
      "[LightGBM] [Warning] No further splits with positive gain, best gain: -inf\n",
      "[LightGBM] [Debug] Trained a tree with leaves = 16 and depth = 7\n",
      "[LightGBM] [Warning] No further splits with positive gain, best gain: -inf\n",
      "[LightGBM] [Debug] Trained a tree with leaves = 9 and depth = 5\n",
      "[LightGBM] [Warning] No further splits with positive gain, best gain: -inf\n",
      "[LightGBM] [Debug] Trained a tree with leaves = 16 and depth = 7\n",
      "[LightGBM] [Warning] No further splits with positive gain, best gain: -inf\n",
      "[LightGBM] [Debug] Trained a tree with leaves = 9 and depth = 4\n",
      "[LightGBM] [Warning] No further splits with positive gain, best gain: -inf\n",
      "[LightGBM] [Debug] Trained a tree with leaves = 13 and depth = 6\n",
      "[LightGBM] [Warning] No further splits with positive gain, best gain: -inf\n",
      "[LightGBM] [Debug] Trained a tree with leaves = 14 and depth = 8\n",
      "[LightGBM] [Warning] No further splits with positive gain, best gain: -inf\n",
      "[LightGBM] [Debug] Trained a tree with leaves = 13 and depth = 6\n",
      "[LightGBM] [Warning] No further splits with positive gain, best gain: -inf\n",
      "[LightGBM] [Debug] Trained a tree with leaves = 7 and depth = 4\n",
      "[LightGBM] [Warning] No further splits with positive gain, best gain: -inf\n",
      "[LightGBM] [Debug] Trained a tree with leaves = 9 and depth = 5\n",
      "CPU times: user 1min 17s, sys: 204 ms, total: 1min 17s\n",
      "Wall time: 39.3 s\n"
     ]
    }
   ],
   "source": [
    "%%time\n",
    "from lightgbm.sklearn import LGBMRanker\n",
    "ranker = LGBMRanker(\n",
    "    objective=\"lambdarank\",\n",
    "    metric=\"ndcg\",\n",
    "    boosting_type=\"dart\",\n",
    "    n_estimators=150,\n",
    "    importance_type='gain',\n",
    "    verbose=10,\n",
    "    learning_rate = 0.05,\n",
    "    # max_depth = 8,\n",
    "    # num_leaves = 10,\n",
    ")\n",
    "ranker = ranker.fit(\n",
    "    train_X,\n",
    "    train_y,\n",
    "    group=train_baskets\n",
    ")"
   ]
  },
  {
   "cell_type": "code",
   "execution_count": 47,
   "id": "6788837e",
   "metadata": {
    "execution": {
     "iopub.execute_input": "2024-11-19T18:02:10.293148Z",
     "iopub.status.busy": "2024-11-19T18:02:10.292752Z",
     "iopub.status.idle": "2024-11-19T18:02:10.297379Z",
     "shell.execute_reply": "2024-11-19T18:02:10.296375Z"
    },
    "papermill": {
     "duration": 0.03899,
     "end_time": "2024-11-19T18:02:10.299472",
     "exception": false,
     "start_time": "2024-11-19T18:02:10.260482",
     "status": "completed"
    },
    "tags": []
   },
   "outputs": [],
   "source": [
    "# for i in clf.feature_importances_.argsort()[::-1]:\n",
    "#     print(columns_to_use[i], clf.feature_importances_[i]/clf.feature_importances_.sum(), clf.feature_importances_[i])"
   ]
  },
  {
   "cell_type": "code",
   "execution_count": 48,
   "id": "c433a780",
   "metadata": {
    "execution": {
     "iopub.execute_input": "2024-11-19T18:02:10.362654Z",
     "iopub.status.busy": "2024-11-19T18:02:10.362184Z",
     "iopub.status.idle": "2024-11-19T18:02:11.762776Z",
     "shell.execute_reply": "2024-11-19T18:02:11.761579Z"
    },
    "papermill": {
     "duration": 1.434775,
     "end_time": "2024-11-19T18:02:11.765263",
     "exception": false,
     "start_time": "2024-11-19T18:02:10.330488",
     "status": "completed"
    },
    "tags": []
   },
   "outputs": [],
   "source": [
    "test['pred'] = ranker.predict(test_X)\n",
    "tmp_test = test \\\n",
    "    .sort_values(['UserId', 'pred'], ascending=False) \\\n",
    "    .groupby('UserId')['ItemId'].apply(list).to_dict()\n",
    "label = test[test.rating != 0].sort_values(['UserId', 'rating'], ascending=False).groupby('UserId')['ItemId'].apply(list).to_dict()\n"
   ]
  },
  {
   "cell_type": "code",
   "execution_count": 49,
   "id": "2f3af13d",
   "metadata": {
    "execution": {
     "iopub.execute_input": "2024-11-19T18:02:11.828589Z",
     "iopub.status.busy": "2024-11-19T18:02:11.828195Z",
     "iopub.status.idle": "2024-11-19T18:02:11.862106Z",
     "shell.execute_reply": "2024-11-19T18:02:11.861042Z"
    },
    "papermill": {
     "duration": 0.068271,
     "end_time": "2024-11-19T18:02:11.864466",
     "exception": false,
     "start_time": "2024-11-19T18:02:11.796195",
     "status": "completed"
    },
    "tags": []
   },
   "outputs": [
    {
     "data": {
      "text/plain": [
       "0.5877"
      ]
     },
     "execution_count": 49,
     "metadata": {},
     "output_type": "execute_result"
    }
   ],
   "source": [
    "calculate_ndcg(tmp_test, label, 5)"
   ]
  },
  {
   "cell_type": "code",
   "execution_count": 50,
   "id": "7a7aeb25",
   "metadata": {
    "execution": {
     "iopub.execute_input": "2024-11-19T18:02:11.987127Z",
     "iopub.status.busy": "2024-11-19T18:02:11.986694Z",
     "iopub.status.idle": "2024-11-19T18:02:12.290654Z",
     "shell.execute_reply": "2024-11-19T18:02:12.289494Z"
    },
    "papermill": {
     "duration": 0.397688,
     "end_time": "2024-11-19T18:02:12.292970",
     "exception": false,
     "start_time": "2024-11-19T18:02:11.895282",
     "status": "completed"
    },
    "tags": []
   },
   "outputs": [],
   "source": [
    "df_submit['pred'] = ranker.predict(df_submit[columns_to_use])\n",
    "# test['pred'] = clf.predict_proba(test_X)[:,1]"
   ]
  },
  {
   "cell_type": "code",
   "execution_count": 51,
   "id": "4e0469d8",
   "metadata": {
    "execution": {
     "iopub.execute_input": "2024-11-19T18:02:12.357220Z",
     "iopub.status.busy": "2024-11-19T18:02:12.356348Z",
     "iopub.status.idle": "2024-11-19T18:02:12.579163Z",
     "shell.execute_reply": "2024-11-19T18:02:12.578003Z"
    },
    "papermill": {
     "duration": 0.257358,
     "end_time": "2024-11-19T18:02:12.581664",
     "exception": false,
     "start_time": "2024-11-19T18:02:12.324306",
     "status": "completed"
    },
    "tags": []
   },
   "outputs": [],
   "source": [
    "tmp_submit = df_submit \\\n",
    "    .sort_values(['UserId', 'pred'], ascending=False) \\\n",
    "    .groupby('UserId')['ItemId'].apply(list).to_dict()"
   ]
  },
  {
   "cell_type": "code",
   "execution_count": 52,
   "id": "2be79894",
   "metadata": {
    "execution": {
     "iopub.execute_input": "2024-11-19T18:02:12.646653Z",
     "iopub.status.busy": "2024-11-19T18:02:12.646233Z",
     "iopub.status.idle": "2024-11-19T18:02:14.692388Z",
     "shell.execute_reply": "2024-11-19T18:02:14.691363Z"
    },
    "papermill": {
     "duration": 2.081799,
     "end_time": "2024-11-19T18:02:14.694700",
     "exception": false,
     "start_time": "2024-11-19T18:02:12.612901",
     "status": "completed"
    },
    "tags": []
   },
   "outputs": [],
   "source": [
    "submit = pd.read_csv('/kaggle/input/vhac-recsys/test_set_private.csv', names = ['user_id']+[f'item_id_{i}' for i in range(1, 1001)])"
   ]
  },
  {
   "cell_type": "code",
   "execution_count": 53,
   "id": "13ab1b42",
   "metadata": {
    "execution": {
     "iopub.execute_input": "2024-11-19T18:02:14.758123Z",
     "iopub.status.busy": "2024-11-19T18:02:14.757736Z",
     "iopub.status.idle": "2024-11-19T18:02:14.762744Z",
     "shell.execute_reply": "2024-11-19T18:02:14.761643Z"
    },
    "papermill": {
     "duration": 0.039168,
     "end_time": "2024-11-19T18:02:14.764853",
     "exception": false,
     "start_time": "2024-11-19T18:02:14.725685",
     "status": "completed"
    },
    "tags": []
   },
   "outputs": [],
   "source": [
    "import warnings\n",
    "warnings.filterwarnings('ignore')"
   ]
  },
  {
   "cell_type": "code",
   "execution_count": 54,
   "id": "8f016d58",
   "metadata": {
    "execution": {
     "iopub.execute_input": "2024-11-19T18:02:14.828720Z",
     "iopub.status.busy": "2024-11-19T18:02:14.828317Z",
     "iopub.status.idle": "2024-11-19T18:02:18.337417Z",
     "shell.execute_reply": "2024-11-19T18:02:18.336209Z"
    },
    "papermill": {
     "duration": 3.543815,
     "end_time": "2024-11-19T18:02:18.339905",
     "exception": false,
     "start_time": "2024-11-19T18:02:14.796090",
     "status": "completed"
    },
    "tags": []
   },
   "outputs": [],
   "source": [
    "for i in range(len(submit)):\n",
    "    uid = submit.loc[i, 'user_id']\n",
    "    list_item =  tmp_submit[uid] \n",
    "    for j in range(len(list_item)):\n",
    "        submit.loc[i, f'item_id_{j+1}'] = list_item[j]"
   ]
  },
  {
   "cell_type": "code",
   "execution_count": 55,
   "id": "93274c3f",
   "metadata": {
    "execution": {
     "iopub.execute_input": "2024-11-19T18:02:18.406037Z",
     "iopub.status.busy": "2024-11-19T18:02:18.405515Z",
     "iopub.status.idle": "2024-11-19T18:02:20.977684Z",
     "shell.execute_reply": "2024-11-19T18:02:20.976485Z"
    },
    "papermill": {
     "duration": 2.608019,
     "end_time": "2024-11-19T18:02:20.980173",
     "exception": false,
     "start_time": "2024-11-19T18:02:18.372154",
     "status": "completed"
    },
    "tags": []
   },
   "outputs": [],
   "source": [
    "submit.to_csv('predict.csv', header = None, index = None)"
   ]
  },
  {
   "cell_type": "code",
   "execution_count": 56,
   "id": "ce9c3e3b",
   "metadata": {
    "execution": {
     "iopub.execute_input": "2024-11-19T18:02:21.054625Z",
     "iopub.status.busy": "2024-11-19T18:02:21.054153Z",
     "iopub.status.idle": "2024-11-19T18:02:21.090759Z",
     "shell.execute_reply": "2024-11-19T18:02:21.089324Z"
    },
    "papermill": {
     "duration": 0.07778,
     "end_time": "2024-11-19T18:02:21.093261",
     "exception": false,
     "start_time": "2024-11-19T18:02:21.015481",
     "status": "completed"
    },
    "tags": []
   },
   "outputs": [
    {
     "data": {
      "text/html": [
       "<div>\n",
       "<style scoped>\n",
       "    .dataframe tbody tr th:only-of-type {\n",
       "        vertical-align: middle;\n",
       "    }\n",
       "\n",
       "    .dataframe tbody tr th {\n",
       "        vertical-align: top;\n",
       "    }\n",
       "\n",
       "    .dataframe thead th {\n",
       "        text-align: right;\n",
       "    }\n",
       "</style>\n",
       "<table border=\"1\" class=\"dataframe\">\n",
       "  <thead>\n",
       "    <tr style=\"text-align: right;\">\n",
       "      <th></th>\n",
       "      <th>user_id</th>\n",
       "      <th>item_id_1</th>\n",
       "      <th>item_id_2</th>\n",
       "      <th>item_id_3</th>\n",
       "      <th>item_id_4</th>\n",
       "      <th>item_id_5</th>\n",
       "      <th>item_id_6</th>\n",
       "      <th>item_id_7</th>\n",
       "      <th>item_id_8</th>\n",
       "      <th>item_id_9</th>\n",
       "      <th>...</th>\n",
       "      <th>item_id_991</th>\n",
       "      <th>item_id_992</th>\n",
       "      <th>item_id_993</th>\n",
       "      <th>item_id_994</th>\n",
       "      <th>item_id_995</th>\n",
       "      <th>item_id_996</th>\n",
       "      <th>item_id_997</th>\n",
       "      <th>item_id_998</th>\n",
       "      <th>item_id_999</th>\n",
       "      <th>item_id_1000</th>\n",
       "    </tr>\n",
       "  </thead>\n",
       "  <tbody>\n",
       "    <tr>\n",
       "      <th>0</th>\n",
       "      <td>0a9Fr9I8Gr</td>\n",
       "      <td>Rw50zQ6IiC</td>\n",
       "      <td>sLoTA2aPEl</td>\n",
       "      <td>5I3jXuSXJC</td>\n",
       "      <td>ZXR0UOYMC5</td>\n",
       "      <td>4nfx37EgS2</td>\n",
       "      <td>h6s6cG6xcZ</td>\n",
       "      <td>TiKwggguXm</td>\n",
       "      <td>6pPEL58mZO</td>\n",
       "      <td>PRanViElTN</td>\n",
       "      <td>...</td>\n",
       "      <td>Z8xiRnRjZD</td>\n",
       "      <td>5MwdFYt8z0</td>\n",
       "      <td>IzLVUKs7uQ</td>\n",
       "      <td>Ic5BpxKXZg</td>\n",
       "      <td>F9jblvzWuK</td>\n",
       "      <td>xvKZji6pWJ</td>\n",
       "      <td>arvytMaCpS</td>\n",
       "      <td>XC7SvTAElR</td>\n",
       "      <td>oWsTKxTtvA</td>\n",
       "      <td>iLKSmk2T06</td>\n",
       "    </tr>\n",
       "    <tr>\n",
       "      <th>1</th>\n",
       "      <td>Jg3UwpR1cA</td>\n",
       "      <td>Y9CejSQQoa</td>\n",
       "      <td>IFADrTRXqz</td>\n",
       "      <td>9P4pCVzEhe</td>\n",
       "      <td>nzXfQ59ZOp</td>\n",
       "      <td>dYzjsJalSw</td>\n",
       "      <td>btJqToDrNx</td>\n",
       "      <td>5g0f4SiT73</td>\n",
       "      <td>imJxX0LSMe</td>\n",
       "      <td>Pyze1t4kzV</td>\n",
       "      <td>...</td>\n",
       "      <td>84YaBhvrnw</td>\n",
       "      <td>uUg3iZKEDz</td>\n",
       "      <td>VS9vm70j8u</td>\n",
       "      <td>mb8iada716</td>\n",
       "      <td>W4LaO2AnPF</td>\n",
       "      <td>oH6lYVrH2Z</td>\n",
       "      <td>RdMLs1XP8z</td>\n",
       "      <td>cjhX33aANo</td>\n",
       "      <td>JVR40qZevF</td>\n",
       "      <td>m5tbhqzC7m</td>\n",
       "    </tr>\n",
       "    <tr>\n",
       "      <th>2</th>\n",
       "      <td>k0mNOjn7pv</td>\n",
       "      <td>tej89WKt6t</td>\n",
       "      <td>0iC5hrr8pF</td>\n",
       "      <td>KCSRaARC9s</td>\n",
       "      <td>1i0eG8FdZX</td>\n",
       "      <td>osGyK5E0G3</td>\n",
       "      <td>wbKXQYFoKH</td>\n",
       "      <td>i1D3Eq2Pb7</td>\n",
       "      <td>cGAltvZgDp</td>\n",
       "      <td>UokCuNyD2b</td>\n",
       "      <td>...</td>\n",
       "      <td>LcT9aU6sDk</td>\n",
       "      <td>erjkmeJrO2</td>\n",
       "      <td>DtAWzeNoqo</td>\n",
       "      <td>9C1LcSgNrd</td>\n",
       "      <td>RfaOiwln47</td>\n",
       "      <td>EjaSqbgfWm</td>\n",
       "      <td>5MmscAd5ND</td>\n",
       "      <td>4CDZjAxiJ3</td>\n",
       "      <td>iPzOhrroRk</td>\n",
       "      <td>Or6J4bnaJo</td>\n",
       "    </tr>\n",
       "    <tr>\n",
       "      <th>3</th>\n",
       "      <td>Uw0zXc8Sr8</td>\n",
       "      <td>9H1pnwbhUi</td>\n",
       "      <td>iiw3cObpDv</td>\n",
       "      <td>HydOLulMTb</td>\n",
       "      <td>U3fKcoE1Ft</td>\n",
       "      <td>S41d9ELmhC</td>\n",
       "      <td>4hALWkoqeJ</td>\n",
       "      <td>dyVIXkivM9</td>\n",
       "      <td>7f7LkOKsAr</td>\n",
       "      <td>Daytgu5kmV</td>\n",
       "      <td>...</td>\n",
       "      <td>UmYJDzVAm1</td>\n",
       "      <td>6c9wVM3C7n</td>\n",
       "      <td>yy78DDyFwz</td>\n",
       "      <td>JBWS6uOW6t</td>\n",
       "      <td>uFtLv6hcKO</td>\n",
       "      <td>Z8p8xxx0cx</td>\n",
       "      <td>Py42KZCHJP</td>\n",
       "      <td>ewfqfR6fiC</td>\n",
       "      <td>rdZDIeJ1ia</td>\n",
       "      <td>OgmtWQ39sq</td>\n",
       "    </tr>\n",
       "    <tr>\n",
       "      <th>4</th>\n",
       "      <td>vLDKNL74C4</td>\n",
       "      <td>1E0dDrSxY9</td>\n",
       "      <td>CkcNFCUlTC</td>\n",
       "      <td>UAwDMDYT41</td>\n",
       "      <td>iEWXEiSBg5</td>\n",
       "      <td>U3cH0WiMF6</td>\n",
       "      <td>Mu7TTk6ZXo</td>\n",
       "      <td>PPx7lWosOF</td>\n",
       "      <td>gQCGJIJOaM</td>\n",
       "      <td>uzts0Vtcry</td>\n",
       "      <td>...</td>\n",
       "      <td>MUWZaAPDNT</td>\n",
       "      <td>rnp6yH6OD5</td>\n",
       "      <td>45KRQI5RJi</td>\n",
       "      <td>iPRCkgoeGJ</td>\n",
       "      <td>6PtfgezcfB</td>\n",
       "      <td>w83nfFLEQF</td>\n",
       "      <td>aD2c2V2wYx</td>\n",
       "      <td>Cu2tQGKjrm</td>\n",
       "      <td>Ec3YhNEIRi</td>\n",
       "      <td>ax59cfAF2Y</td>\n",
       "    </tr>\n",
       "    <tr>\n",
       "      <th>...</th>\n",
       "      <td>...</td>\n",
       "      <td>...</td>\n",
       "      <td>...</td>\n",
       "      <td>...</td>\n",
       "      <td>...</td>\n",
       "      <td>...</td>\n",
       "      <td>...</td>\n",
       "      <td>...</td>\n",
       "      <td>...</td>\n",
       "      <td>...</td>\n",
       "      <td>...</td>\n",
       "      <td>...</td>\n",
       "      <td>...</td>\n",
       "      <td>...</td>\n",
       "      <td>...</td>\n",
       "      <td>...</td>\n",
       "      <td>...</td>\n",
       "      <td>...</td>\n",
       "      <td>...</td>\n",
       "      <td>...</td>\n",
       "      <td>...</td>\n",
       "    </tr>\n",
       "    <tr>\n",
       "      <th>4220</th>\n",
       "      <td>SIFzQe6gnn</td>\n",
       "      <td>32FfxVfh3i</td>\n",
       "      <td>1Qkjg4RArI</td>\n",
       "      <td>l6DuJC6Rg2</td>\n",
       "      <td>0krwZa3Mav</td>\n",
       "      <td>BndaktM5jy</td>\n",
       "      <td>4Pm47rVPdy</td>\n",
       "      <td>2BQ2BW84WZ</td>\n",
       "      <td>8f9Vtw6DqP</td>\n",
       "      <td>Bc5My2qvfP</td>\n",
       "      <td>...</td>\n",
       "      <td>h43ef0UCse</td>\n",
       "      <td>9BC1n9G6rS</td>\n",
       "      <td>0dVp4MRu5T</td>\n",
       "      <td>GoxXzgB7Q0</td>\n",
       "      <td>kavQ1mOVNr</td>\n",
       "      <td>1hIY7i8r8j</td>\n",
       "      <td>eqHobu9Yqj</td>\n",
       "      <td>TvY4Mry9Jq</td>\n",
       "      <td>FMbHiyRS9j</td>\n",
       "      <td>Z8DZIlk6Ba</td>\n",
       "    </tr>\n",
       "    <tr>\n",
       "      <th>4221</th>\n",
       "      <td>fa6Y1KVdoh</td>\n",
       "      <td>LTEBOO65ld</td>\n",
       "      <td>S6L5JSHYt2</td>\n",
       "      <td>iZTRkUermn</td>\n",
       "      <td>P2KWvsEWBQ</td>\n",
       "      <td>AgS4FFBg8m</td>\n",
       "      <td>IE0SF6BTEB</td>\n",
       "      <td>lBocTTcnRM</td>\n",
       "      <td>Cqqm8eQ1If</td>\n",
       "      <td>tzT4slvIwR</td>\n",
       "      <td>...</td>\n",
       "      <td>1QvXK4H6Ru</td>\n",
       "      <td>Uwjz8m0YcC</td>\n",
       "      <td>JoLVkDxS44</td>\n",
       "      <td>yRVWYuvtq2</td>\n",
       "      <td>eev7RsNa8P</td>\n",
       "      <td>IkDPzM03Sx</td>\n",
       "      <td>XaNw8hYLjk</td>\n",
       "      <td>ghisamesER</td>\n",
       "      <td>spcaQOLgxo</td>\n",
       "      <td>0vVahjHuuC</td>\n",
       "    </tr>\n",
       "    <tr>\n",
       "      <th>4222</th>\n",
       "      <td>xO9WRD2Zbm</td>\n",
       "      <td>qi8qLmgATK</td>\n",
       "      <td>ORXXF0IEnF</td>\n",
       "      <td>X2wn0fgqwH</td>\n",
       "      <td>sAoRKO6PLe</td>\n",
       "      <td>Sm9S0hzVpj</td>\n",
       "      <td>ooHfH960JX</td>\n",
       "      <td>Ibp0sHM5hA</td>\n",
       "      <td>dch1WQaq9W</td>\n",
       "      <td>sIzsew97rH</td>\n",
       "      <td>...</td>\n",
       "      <td>pN9jbu8oeI</td>\n",
       "      <td>ypiaxbYwUe</td>\n",
       "      <td>BFmzhNkgLt</td>\n",
       "      <td>KpiEA8pmw2</td>\n",
       "      <td>r7hfGuks2f</td>\n",
       "      <td>wprAMV2BLw</td>\n",
       "      <td>dOVqOXbGkT</td>\n",
       "      <td>bvXtJiSFJ5</td>\n",
       "      <td>yOhu2oTbSY</td>\n",
       "      <td>WbFJZJVHki</td>\n",
       "    </tr>\n",
       "    <tr>\n",
       "      <th>4223</th>\n",
       "      <td>EW403CecBe</td>\n",
       "      <td>kGYz42FXiw</td>\n",
       "      <td>WDebBQgFr8</td>\n",
       "      <td>Arsr663fsf</td>\n",
       "      <td>7da2Fx22If</td>\n",
       "      <td>OOgoguexmz</td>\n",
       "      <td>PTK1h7YWXy</td>\n",
       "      <td>STAdwcSAM1</td>\n",
       "      <td>U0f51ZmLvM</td>\n",
       "      <td>gUQQbWny7I</td>\n",
       "      <td>...</td>\n",
       "      <td>V1tG3CjHuq</td>\n",
       "      <td>VmKW4GjvGO</td>\n",
       "      <td>5mA1Md73xj</td>\n",
       "      <td>lAxFxvgOKQ</td>\n",
       "      <td>pvGUb7hgvt</td>\n",
       "      <td>Q7b1WBHm3R</td>\n",
       "      <td>8JeVX81aZq</td>\n",
       "      <td>k9F8pVYcuc</td>\n",
       "      <td>UqCFYQNiAh</td>\n",
       "      <td>nE2BeBrwMw</td>\n",
       "    </tr>\n",
       "    <tr>\n",
       "      <th>4224</th>\n",
       "      <td>Y4zCkSuqwM</td>\n",
       "      <td>1SFpvQOKzB</td>\n",
       "      <td>dMEaOT1gCz</td>\n",
       "      <td>TC5qnt5zdS</td>\n",
       "      <td>HJPUDh860g</td>\n",
       "      <td>pim5qKFVYa</td>\n",
       "      <td>xyRJhet0lW</td>\n",
       "      <td>iEfy9h6Nzm</td>\n",
       "      <td>TqlOP4qXJM</td>\n",
       "      <td>gUtFF1ibyp</td>\n",
       "      <td>...</td>\n",
       "      <td>S69SDJHAxz</td>\n",
       "      <td>imPBIpdS2y</td>\n",
       "      <td>9qYMqLYXd3</td>\n",
       "      <td>YZEOkPeyqG</td>\n",
       "      <td>PRHZvjkfa4</td>\n",
       "      <td>X5AxItAQSC</td>\n",
       "      <td>8zwhsscAM4</td>\n",
       "      <td>X3aTjr6j1P</td>\n",
       "      <td>sSLNJG2mIp</td>\n",
       "      <td>s6Xxj549Td</td>\n",
       "    </tr>\n",
       "  </tbody>\n",
       "</table>\n",
       "<p>4225 rows × 1001 columns</p>\n",
       "</div>"
      ],
      "text/plain": [
       "         user_id   item_id_1   item_id_2   item_id_3   item_id_4   item_id_5  \\\n",
       "0     0a9Fr9I8Gr  Rw50zQ6IiC  sLoTA2aPEl  5I3jXuSXJC  ZXR0UOYMC5  4nfx37EgS2   \n",
       "1     Jg3UwpR1cA  Y9CejSQQoa  IFADrTRXqz  9P4pCVzEhe  nzXfQ59ZOp  dYzjsJalSw   \n",
       "2     k0mNOjn7pv  tej89WKt6t  0iC5hrr8pF  KCSRaARC9s  1i0eG8FdZX  osGyK5E0G3   \n",
       "3     Uw0zXc8Sr8  9H1pnwbhUi  iiw3cObpDv  HydOLulMTb  U3fKcoE1Ft  S41d9ELmhC   \n",
       "4     vLDKNL74C4  1E0dDrSxY9  CkcNFCUlTC  UAwDMDYT41  iEWXEiSBg5  U3cH0WiMF6   \n",
       "...          ...         ...         ...         ...         ...         ...   \n",
       "4220  SIFzQe6gnn  32FfxVfh3i  1Qkjg4RArI  l6DuJC6Rg2  0krwZa3Mav  BndaktM5jy   \n",
       "4221  fa6Y1KVdoh  LTEBOO65ld  S6L5JSHYt2  iZTRkUermn  P2KWvsEWBQ  AgS4FFBg8m   \n",
       "4222  xO9WRD2Zbm  qi8qLmgATK  ORXXF0IEnF  X2wn0fgqwH  sAoRKO6PLe  Sm9S0hzVpj   \n",
       "4223  EW403CecBe  kGYz42FXiw  WDebBQgFr8  Arsr663fsf  7da2Fx22If  OOgoguexmz   \n",
       "4224  Y4zCkSuqwM  1SFpvQOKzB  dMEaOT1gCz  TC5qnt5zdS  HJPUDh860g  pim5qKFVYa   \n",
       "\n",
       "       item_id_6   item_id_7   item_id_8   item_id_9  ... item_id_991  \\\n",
       "0     h6s6cG6xcZ  TiKwggguXm  6pPEL58mZO  PRanViElTN  ...  Z8xiRnRjZD   \n",
       "1     btJqToDrNx  5g0f4SiT73  imJxX0LSMe  Pyze1t4kzV  ...  84YaBhvrnw   \n",
       "2     wbKXQYFoKH  i1D3Eq2Pb7  cGAltvZgDp  UokCuNyD2b  ...  LcT9aU6sDk   \n",
       "3     4hALWkoqeJ  dyVIXkivM9  7f7LkOKsAr  Daytgu5kmV  ...  UmYJDzVAm1   \n",
       "4     Mu7TTk6ZXo  PPx7lWosOF  gQCGJIJOaM  uzts0Vtcry  ...  MUWZaAPDNT   \n",
       "...          ...         ...         ...         ...  ...         ...   \n",
       "4220  4Pm47rVPdy  2BQ2BW84WZ  8f9Vtw6DqP  Bc5My2qvfP  ...  h43ef0UCse   \n",
       "4221  IE0SF6BTEB  lBocTTcnRM  Cqqm8eQ1If  tzT4slvIwR  ...  1QvXK4H6Ru   \n",
       "4222  ooHfH960JX  Ibp0sHM5hA  dch1WQaq9W  sIzsew97rH  ...  pN9jbu8oeI   \n",
       "4223  PTK1h7YWXy  STAdwcSAM1  U0f51ZmLvM  gUQQbWny7I  ...  V1tG3CjHuq   \n",
       "4224  xyRJhet0lW  iEfy9h6Nzm  TqlOP4qXJM  gUtFF1ibyp  ...  S69SDJHAxz   \n",
       "\n",
       "     item_id_992 item_id_993 item_id_994 item_id_995 item_id_996 item_id_997  \\\n",
       "0     5MwdFYt8z0  IzLVUKs7uQ  Ic5BpxKXZg  F9jblvzWuK  xvKZji6pWJ  arvytMaCpS   \n",
       "1     uUg3iZKEDz  VS9vm70j8u  mb8iada716  W4LaO2AnPF  oH6lYVrH2Z  RdMLs1XP8z   \n",
       "2     erjkmeJrO2  DtAWzeNoqo  9C1LcSgNrd  RfaOiwln47  EjaSqbgfWm  5MmscAd5ND   \n",
       "3     6c9wVM3C7n  yy78DDyFwz  JBWS6uOW6t  uFtLv6hcKO  Z8p8xxx0cx  Py42KZCHJP   \n",
       "4     rnp6yH6OD5  45KRQI5RJi  iPRCkgoeGJ  6PtfgezcfB  w83nfFLEQF  aD2c2V2wYx   \n",
       "...          ...         ...         ...         ...         ...         ...   \n",
       "4220  9BC1n9G6rS  0dVp4MRu5T  GoxXzgB7Q0  kavQ1mOVNr  1hIY7i8r8j  eqHobu9Yqj   \n",
       "4221  Uwjz8m0YcC  JoLVkDxS44  yRVWYuvtq2  eev7RsNa8P  IkDPzM03Sx  XaNw8hYLjk   \n",
       "4222  ypiaxbYwUe  BFmzhNkgLt  KpiEA8pmw2  r7hfGuks2f  wprAMV2BLw  dOVqOXbGkT   \n",
       "4223  VmKW4GjvGO  5mA1Md73xj  lAxFxvgOKQ  pvGUb7hgvt  Q7b1WBHm3R  8JeVX81aZq   \n",
       "4224  imPBIpdS2y  9qYMqLYXd3  YZEOkPeyqG  PRHZvjkfa4  X5AxItAQSC  8zwhsscAM4   \n",
       "\n",
       "     item_id_998 item_id_999 item_id_1000  \n",
       "0     XC7SvTAElR  oWsTKxTtvA   iLKSmk2T06  \n",
       "1     cjhX33aANo  JVR40qZevF   m5tbhqzC7m  \n",
       "2     4CDZjAxiJ3  iPzOhrroRk   Or6J4bnaJo  \n",
       "3     ewfqfR6fiC  rdZDIeJ1ia   OgmtWQ39sq  \n",
       "4     Cu2tQGKjrm  Ec3YhNEIRi   ax59cfAF2Y  \n",
       "...          ...         ...          ...  \n",
       "4220  TvY4Mry9Jq  FMbHiyRS9j   Z8DZIlk6Ba  \n",
       "4221  ghisamesER  spcaQOLgxo   0vVahjHuuC  \n",
       "4222  bvXtJiSFJ5  yOhu2oTbSY   WbFJZJVHki  \n",
       "4223  k9F8pVYcuc  UqCFYQNiAh   nE2BeBrwMw  \n",
       "4224  X3aTjr6j1P  sSLNJG2mIp   s6Xxj549Td  \n",
       "\n",
       "[4225 rows x 1001 columns]"
      ]
     },
     "execution_count": 56,
     "metadata": {},
     "output_type": "execute_result"
    }
   ],
   "source": [
    "submit"
   ]
  }
 ],
 "metadata": {
  "kaggle": {
   "accelerator": "none",
   "dataSources": [
    {
     "databundleVersionId": 10213328,
     "datasetId": 6119502,
     "sourceId": 9950831,
     "sourceType": "datasetVersion"
    },
    {
     "databundleVersionId": 10216535,
     "datasetId": 6115971,
     "sourceId": 9953703,
     "sourceType": "datasetVersion"
    },
    {
     "databundleVersionId": 10216706,
     "datasetId": 6049052,
     "sourceId": 9953859,
     "sourceType": "datasetVersion"
    },
    {
     "databundleVersionId": 10210382,
     "datasetId": 5965973,
     "sourceId": 9948179,
     "sourceType": "datasetVersion"
    },
    {
     "databundleVersionId": 10194161,
     "datasetId": 6047721,
     "sourceId": 9933751,
     "sourceType": "datasetVersion"
    },
    {
     "databundleVersionId": 10213534,
     "datasetId": 6076061,
     "sourceId": 9951016,
     "sourceType": "datasetVersion"
    }
   ],
   "dockerImageVersionId": 30787,
   "isGpuEnabled": false,
   "isInternetEnabled": true,
   "language": "python",
   "sourceType": "notebook"
  },
  "kernelspec": {
   "display_name": "Python 3 (ipykernel)",
   "language": "python",
   "name": "python3"
  },
  "language_info": {
   "codemirror_mode": {
    "name": "ipython",
    "version": 3
   },
   "file_extension": ".py",
   "mimetype": "text/x-python",
   "name": "python",
   "nbconvert_exporter": "python",
   "pygments_lexer": "ipython3",
   "version": "3.12.7"
  },
  "papermill": {
   "default_parameters": {},
   "duration": 502.073867,
   "end_time": "2024-11-19T18:02:23.760664",
   "environment_variables": {},
   "exception": null,
   "input_path": "__notebook__.ipynb",
   "output_path": "__notebook__.ipynb",
   "parameters": {},
   "start_time": "2024-11-19T17:54:01.686797",
   "version": "2.6.0"
  }
 },
 "nbformat": 4,
 "nbformat_minor": 5
}
