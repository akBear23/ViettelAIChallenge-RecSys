{
 "cells": [
  {
   "cell_type": "code",
   "execution_count": null,
   "id": "9915949e-6d30-4e6e-9df8-d34b50236219",
   "metadata": {},
   "outputs": [],
   "source": [
    "vae_checkpoint=\"runs/vae_h100_full_power\""
   ]
  },
  {
   "cell_type": "markdown",
   "id": "528c1a76-09c4-4f4d-906b-02664212c8e6",
   "metadata": {},
   "source": [
    "# Get User Latent Space"
   ]
  },
  {
   "cell_type": "code",
   "execution_count": 55,
   "id": "d0f7a81a-d937-46c0-9da7-4b764c39fe83",
   "metadata": {},
   "outputs": [],
   "source": [
    "id2item_df = pd.read_csv(f\"{vae_checkpoint}/unique_sid.txt\", header=None).rename(columns={0: \"ItemId\"}).reset_index()"
   ]
  },
  {
   "cell_type": "code",
   "execution_count": 56,
   "id": "8e5bc482-5b9d-4328-9680-bf8d30ba2efc",
   "metadata": {},
   "outputs": [],
   "source": [
    "test_tr = df.copy(deep=True)\n",
    "test_tr = test_tr.merge(id2item_df, how=\"inner\", on=\"ItemId\").rename(columns={\"index\": \"sid\"})\n",
    "user_test = pd.DataFrame(test_tr[\"UserId\"].unique(), columns=[\"UserId\"]).reset_index().rename(columns={\"index\" : \"uid\"})\n",
    "test_tr = pd.merge(test_tr, user_test, on=\"UserId\")\n",
    "test_tr[[\"uid\", \"sid\"]].to_csv(f\"{vae_checkpoint}/userset_latent.csv\", index=False)"
   ]
  },
  {
   "cell_type": "code",
   "execution_count": 57,
   "id": "60b0ca38-98c1-4f7c-bcf4-c9866f5c20c1",
   "metadata": {},
   "outputs": [],
   "source": [
    "import os\n",
    "os.environ[\"CUDA_VISIBLE_DEVICES\"]= \"0,1\""
   ]
  },
  {
   "cell_type": "code",
   "execution_count": null,
   "id": "e2ebe439-bac8-4261-8f18-5d6df0fc65ca",
   "metadata": {},
   "outputs": [],
   "source": [
    "!python recvae/infer.py --return-latent --hidden-dim 3072 --latent-dim 2048 --dataset $vae_checkpoint --infer_data $vae_checkpoint/userset_latent.csv --model_path $vae_checkpoint/model.pt "
   ]
  },
  {
   "cell_type": "code",
   "execution_count": 60,
   "id": "3b960422-d337-4811-b11e-975e7221208a",
   "metadata": {},
   "outputs": [],
   "source": [
    "import pickle\n",
    "with open(f\"{vae_checkpoint}/result_csp.pkl\", \"rb\") as f:\n",
    "    result = pickle.load(f)\n",
    "\n",
    "id2profile = dict(user_test.values)\n",
    "profile2id = {value: key for key, value in id2profile.items()}\n",
    "id2item = dict(id2item_df.values)\n",
    "item2id = {value: key for key, value in id2item.items()}"
   ]
  },
  {
   "cell_type": "code",
   "execution_count": 83,
   "id": "ada4d342-e9b2-4d9a-a219-82400540c4c9",
   "metadata": {},
   "outputs": [
    {
     "data": {
      "application/vnd.jupyter.widget-view+json": {
       "model_id": "a578b8a8a8df4cf99bb32b10827c1eb6",
       "version_major": 2,
       "version_minor": 0
      },
      "text/plain": [
       "  0%|          | 0/36748 [00:00<?, ?it/s]"
      ]
     },
     "metadata": {},
     "output_type": "display_data"
    }
   ],
   "source": [
    "from tqdm.notebook import tqdm\n",
    "full_score = {}\n",
    "for index, matrix in tqdm(enumerate(result), total=len(result)):\n",
    "    user_item = {}\n",
    "    for i in (np.argsort(matrix)[::-1][:20]):\n",
    "        user_item[id2item[i]] = float(matrix[i])\n",
    "\n",
    "    full_score[id2profile[index]] = user_item\n",
    "    "
   ]
  },
  {
   "cell_type": "code",
   "execution_count": 84,
   "id": "859efa70-433b-42ed-a30a-2e55d324bde1",
   "metadata": {},
   "outputs": [],
   "source": [
    "import pickle\n",
    "with open(f\"{vae_checkpoint}/user_item_score.pkl\", \"wb\") as f:\n",
    "    pickle.dump(full_score, f)"
   ]
  },
  {
   "cell_type": "code",
   "execution_count": null,
   "id": "d3e2a6e5-40ae-44d5-9b01-60b0f234358c",
   "metadata": {},
   "outputs": [],
   "source": [
    "import pickle\n",
    "with open(f\"{vae_checkpoint}/result_latent.pkl\", \"rb\") as f:\n",
    "    result = pickle.load(f)\n",
    "\n",
    "id2profile = dict(user_test.values)\n",
    "profile2id = {value: key for key, value in id2profile.items()}"
   ]
  },
  {
   "cell_type": "code",
   "execution_count": null,
   "id": "ade1e591-cf86-4f9b-b0c8-73e8404f13ef",
   "metadata": {},
   "outputs": [],
   "source": [
    "import pickle\n",
    "emb_user = dict([(k, v) for k, v in zip(profile2id.keys(), result)])\n",
    "with open(f\"{vae_checkpoint}/user_embedding.pkl\", \"wb\") as f:\n",
    "    pickle.dump(emb_user, f)"
   ]
  },
  {
   "cell_type": "code",
   "execution_count": null,
   "id": "459a8d66-6129-4b18-bcc0-f4973fa6b920",
   "metadata": {},
   "outputs": [],
   "source": [
    "import os\n",
    "os.environ[\"CUDA_VISIBLE_DEVICES\"]= \"1\"\n",
    "\n",
    "# from sklearn.manifold import TSNE\n",
    "from cuml import TSNE\n",
    "\n",
    "tsne = TSNE(n_components=2, random_state=42, n_neighbors=90)\n",
    "X_tsne = tsne.fit_transform(result)\n",
    "tsne.kl_divergence_"
   ]
  },
  {
   "cell_type": "code",
   "execution_count": null,
   "id": "8410418a-d56a-4fd2-b588-bfcec253825c",
   "metadata": {},
   "outputs": [],
   "source": [
    "import plotly.express as px\n",
    "\n",
    "fig = px.scatter(x=X_tsne[:, 0], y=X_tsne[:, 1], color = soft_clusters.argmax(axis=1)\n",
    "                # color=X_tsne[:, 2]\n",
    "                )\n",
    "fig.update_layout(\n",
    "    title=\"User Latent Space\",\n",
    "    xaxis_title=\"x\",\n",
    "    yaxis_title=\"y\",\n",
    ")\n",
    "fig.show()"
   ]
  },
  {
   "cell_type": "markdown",
   "id": "c3198882-7750-414d-9f1a-d56c01845504",
   "metadata": {},
   "source": [
    "# Get Item Latent Space"
   ]
  },
  {
   "cell_type": "code",
   "execution_count": null,
   "id": "cd1476c0-802b-4c6c-b6fc-339680902954",
   "metadata": {},
   "outputs": [],
   "source": [
    "id2item_df = pd.read_csv(f\"{vae_checkpoint}/unique_sid.txt\", header=None).rename(columns={0: \"ItemId\"}).reset_index()"
   ]
  },
  {
   "cell_type": "code",
   "execution_count": null,
   "id": "b7573d86-fbe2-45f6-b6c6-1366ee264044",
   "metadata": {},
   "outputs": [],
   "source": [
    "id2item = dict(id2item_df.values)\n",
    "item2id = {value: key for key, value in id2item.items()}"
   ]
  },
  {
   "cell_type": "code",
   "execution_count": null,
   "id": "eadfce78-a56f-477b-a52a-1f11d3a5ba11",
   "metadata": {},
   "outputs": [],
   "source": [
    "id2item_df[\"uid\"] = id2item_df[\"index\"]\n",
    "id2item_df[\"sid\"] = id2item_df[\"index\"]"
   ]
  },
  {
   "cell_type": "code",
   "execution_count": null,
   "id": "f343b648-3ce4-45b9-be07-751f5e963197",
   "metadata": {},
   "outputs": [],
   "source": [
    "id2item_df[[\"uid\", \"sid\"]].to_csv(f\"{vae_checkpoint}/itemset_latent.csv\", index=False)"
   ]
  },
  {
   "cell_type": "code",
   "execution_count": null,
   "id": "774bb9d1-bfe0-4f8e-89fb-14d693a342a9",
   "metadata": {},
   "outputs": [],
   "source": [
    "import os \n",
    "os.environ[\"CUDA_VISIBLE_DEVICES\"]= \"0,1\""
   ]
  },
  {
   "cell_type": "code",
   "execution_count": null,
   "id": "6f783451-885f-4ecb-8e3d-8b5c0a6f5129",
   "metadata": {},
   "outputs": [],
   "source": [
    "!python recvae/infer.py --return-latent --hidden-dim 3072 --latent-dim 2048 --dataset $vae_checkpoint --infer_data $vae_checkpoint/itemset_latent.csv --model_path $vae_checkpoint/model.pt "
   ]
  },
  {
   "cell_type": "code",
   "execution_count": null,
   "id": "428d5d5a-579f-4a9b-b7aa-24a208230417",
   "metadata": {},
   "outputs": [],
   "source": [
    "import pickle\n",
    "with open(f\"{vae_checkpoint}/result_latent.pkl\", \"rb\") as f:\n",
    "    result = pickle.load(f)"
   ]
  },
  {
   "cell_type": "code",
   "execution_count": null,
   "id": "4fe03a7c-f613-4cb5-bd5e-1a116dfc3c3b",
   "metadata": {},
   "outputs": [],
   "source": [
    "import pickle\n",
    "emb_item = dict([(k, v) for k, v in zip(item2id.keys(), result)])\n",
    "with open(f\"{vae_checkpoint}/item_embedding.pkl\", \"wb\") as f:\n",
    "    pickle.dump(emb_item, f)"
   ]
  },
  {
   "cell_type": "code",
   "execution_count": null,
   "id": "1ba2c7ca-8b54-4cbf-bee3-b3d5417df782",
   "metadata": {},
   "outputs": [],
   "source": [
    "from sklearn.manifold import TSNE\n",
    "from cuml import TSNE\n",
    "\n",
    "import os \n",
    "os.environ[\"CUDA_VISIBLE_DEVICES\"]= \"1\"\n",
    "\n",
    "tsne = TSNE(n_components=2, random_state=42)\n",
    "X_tsne = tsne.fit_transform(result)\n",
    "tsne.kl_divergence_"
   ]
  },
  {
   "cell_type": "code",
   "execution_count": null,
   "id": "65de81da-bcb1-4435-bc5e-0db0cd18230f",
   "metadata": {},
   "outputs": [],
   "source": [
    "import plotly.express as px\n",
    "\n",
    "fig = px.scatter(x=X_tsne[:, 0], y=X_tsne[:, 1])\n",
    "fig.update_layout(\n",
    "    title=\"Item Latent Space\",\n",
    "    xaxis_title=\"x\",\n",
    "    yaxis_title=\"y\",\n",
    ")\n",
    "fig.show()"
   ]
  },
  {
   "cell_type": "code",
   "execution_count": null,
   "id": "bb8a87c7-5359-40de-ac47-c7516faf924b",
   "metadata": {},
   "outputs": [],
   "source": []
  }
 ],
 "metadata": {
  "kernelspec": {
   "display_name": "rapidsai",
   "language": "python",
   "name": "rapidsai"
  },
  "language_info": {
   "codemirror_mode": {
    "name": "ipython",
    "version": 3
   },
   "file_extension": ".py",
   "mimetype": "text/x-python",
   "name": "python",
   "nbconvert_exporter": "python",
   "pygments_lexer": "ipython3",
   "version": "3.11.10"
  }
 },
 "nbformat": 4,
 "nbformat_minor": 5
}
