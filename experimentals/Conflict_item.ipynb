{
 "cells": [
  {
   "cell_type": "code",
   "execution_count": 1,
   "id": "c6965ea2-6d02-4d8e-96dc-83bcc4c85ba2",
   "metadata": {},
   "outputs": [
    {
     "name": "stderr",
     "output_type": "stream",
     "text": [
      "/tmp/ipykernel_23404/464803147.py:2: DtypeWarning: Columns (965,966,967,968,969,970,971,972,973,974,975,976,977,978,979,980,981,982,983,984,985,986,987,988,989,990,991,992,993,994,995,996,997,998,999,1000) have mixed types. Specify dtype option on import or set low_memory=False.\n",
      "  recvae = pd.read_csv(\"submission/predict_RecVAE.csv\", header=None)\n"
     ]
    }
   ],
   "source": [
    "import pandas as pd\n",
    "recvae = pd.read_csv(\"submission/predict_RecVAE.csv\", header=None)\n",
    "als = pd.read_csv(\"submission/predict_ALS.csv\", header=None)\n",
    "lightgcn = pd.read_csv(\"submission/predict_LightGCN.csv\", header=None)\n",
    "sar = pd.read_csv(\"submission/predict_SAR.csv\", header=None)\n",
    "xsimgcl = pd.read_csv(\"submission/predict_XSimGCL.csv\", header=None)\n",
    "cl4rec = pd.read_csv(\"submission/predict_CL4Rec.csv\", header=None)"
   ]
  },
  {
   "cell_type": "code",
   "execution_count": 2,
   "id": "697460e1-494d-4643-8823-02b03d98b5a3",
   "metadata": {},
   "outputs": [
    {
     "name": "stderr",
     "output_type": "stream",
     "text": [
      "/tmp/ipykernel_23404/774754908.py:11: DtypeWarning: Columns (965,966,967,968,969,970,971,972,973,974,975,976,977,978,979,980,981,982,983,984,985,986,987,988,989,990,991,992,993,994,995,996,997,998,999,1000) have mixed types. Specify dtype option on import or set low_memory=False.\n",
      "  df = pd.read_csv(file_path, header=None)[[0,1,2,3]]\n"
     ]
    },
    {
     "name": "stdout",
     "output_type": "stream",
     "text": [
      "Tổng số người dùng: 2817\n",
      "Số người dùng có độ đồng thuận cao: 427\n",
      "Số người dùng có độ đồng thuận thấp: 1156\n",
      "\n",
      "Ví dụ về người dùng có độ đồng thuận cao:\n",
      "User NcVPv81tzp: 0.600\n",
      "User F1PQozhklt: 0.600\n",
      "User bs2VMaU4pt: 0.530\n",
      "User Ea1H5XClBM: 0.600\n",
      "User XdXjiurCzj: 0.520\n",
      "\n",
      "Ví dụ về người dùng có độ đồng thuận thấp:\n",
      "User ljMBWT9UXW: 0.000\n",
      "User WZXCQtOWJt: 0.180\n",
      "User xlB2rvpQKu: 0.060\n",
      "User ih5TXNF0Wb: 0.240\n",
      "User 4btbKDKvSl: 0.130\n"
     ]
    }
   ],
   "source": [
    "import pandas as pd\n",
    "import numpy as np\n",
    "from collections import defaultdict\n",
    "\n",
    "def load_and_process_recommendations(file_paths):\n",
    "    \"\"\"\n",
    "    Đọc và xử lý các file khuyến nghị từ nhiều mô hình\n",
    "    \"\"\"\n",
    "    model_predictions = {}\n",
    "    for model_name, file_path in file_paths.items():\n",
    "        df = pd.read_csv(file_path, header=None)[[0,1,2,3]]\n",
    "        # Chuyển đổi DataFrame thành dictionary với key là user_id và value là list các khuyến nghị\n",
    "        predictions = {str(row[0]): list(row[1:]) for _, row in df.iterrows()}\n",
    "        model_predictions[model_name] = predictions\n",
    "    return model_predictions\n",
    "\n",
    "def calculate_jaccard_similarity(set1, set2):\n",
    "    \"\"\"\n",
    "    Tính toán độ tương đồng Jaccard giữa hai tập hợp\n",
    "    \"\"\"\n",
    "    intersection = len(set(set1) & set(set2))\n",
    "    union = len(set(set1) | set(set2))\n",
    "    return intersection / union if union != 0 else 0\n",
    "\n",
    "def analyze_model_agreement(model_predictions):\n",
    "    \"\"\"\n",
    "    Phân tích độ đồng thuận giữa các mô hình\n",
    "    \"\"\"\n",
    "    user_similarities = defaultdict(list)\n",
    "    model_names = list(model_predictions.keys())\n",
    "    \n",
    "    # Với mỗi người dùng, tính toán độ tương đồng giữa các cặp mô hình\n",
    "    for user_id in model_predictions[model_names[0]].keys():\n",
    "        similarities = []\n",
    "        # So sánh từng cặp mô hình\n",
    "        for i in range(len(model_names)):\n",
    "            for j in range(i+1, len(model_names)):\n",
    "                model1, model2 = model_names[i], model_names[j]\n",
    "                recs1 = model_predictions[model1][user_id]\n",
    "                recs2 = model_predictions[model2][user_id]\n",
    "                similarity = calculate_jaccard_similarity(recs1, recs2)\n",
    "                similarities.append(similarity)\n",
    "        \n",
    "        # Tính trung bình độ tương đồng cho người dùng này\n",
    "        avg_similarity = np.mean(similarities)\n",
    "        user_similarities[user_id] = avg_similarity\n",
    "    \n",
    "    return user_similarities\n",
    "\n",
    "def get_extreme_cases(user_similarities, threshold_high=0.5, threshold_low=0.25):\n",
    "    \"\"\"\n",
    "    Lấy ra các trường hợp có độ đồng thuận cao và thấp\n",
    "    \"\"\"\n",
    "    high_agreement = {k: v for k, v in user_similarities.items() if v >= threshold_high}\n",
    "    low_agreement = {k: v for k, v in user_similarities.items() if v <= threshold_low}\n",
    "    \n",
    "    return high_agreement, low_agreement\n",
    "\n",
    "def analyze_recommendations():\n",
    "    # Định nghĩa đường dẫn đến các file\n",
    "    file_paths = {\n",
    "        'RecVAE': \"submission/predict_RecVAE.csv\",\n",
    "        'ALS': \"submission/predict_ALS.csv\",\n",
    "        'LightGCN': \"submission/predict_LightGCN.csv\",\n",
    "        'SAR': \"submission/predict_SAR.csv\",\n",
    "        'XSimGCL': \"submission/predict_XSimGCL.csv\"\n",
    "    }\n",
    "    \n",
    "    # Đọc và xử lý dữ liệu\n",
    "    model_predictions = load_and_process_recommendations(file_paths)\n",
    "    \n",
    "    # Phân tích độ đồng thuận\n",
    "    user_similarities = analyze_model_agreement(model_predictions)\n",
    "    \n",
    "    # Lấy ra các trường hợp đặc biệt\n",
    "    high_agreement, low_agreement = get_extreme_cases(user_similarities)\n",
    "    \n",
    "    # In kết quả phân tích\n",
    "    print(f\"Tổng số người dùng: {len(user_similarities)}\")\n",
    "    print(f\"Số người dùng có độ đồng thuận cao: {len(high_agreement)}\")\n",
    "    print(f\"Số người dùng có độ đồng thuận thấp: {len(low_agreement)}\")\n",
    "    \n",
    "    # In ra một vài ví dụ\n",
    "    print(\"\\nVí dụ về người dùng có độ đồng thuận cao:\")\n",
    "    for user_id, similarity in list(high_agreement.items())[:5]:\n",
    "        print(f\"User {user_id}: {similarity:.3f}\")\n",
    "        \n",
    "    print(\"\\nVí dụ về người dùng có độ đồng thuận thấp:\")\n",
    "    for user_id, similarity in list(low_agreement.items())[:5]:\n",
    "        print(f\"User {user_id}: {similarity:.3f}\")\n",
    "        \n",
    "    return high_agreement, low_agreement, user_similarities\n",
    "\n",
    "# Chạy phân tích\n",
    "high_agreement, low_agreement, user_similarities = analyze_recommendations()"
   ]
  },
  {
   "cell_type": "code",
   "execution_count": 5,
   "id": "a9307abe-5b6f-4afa-8815-f6628b2d3050",
   "metadata": {},
   "outputs": [],
   "source": [
    "user_id = low_agreement.keys()"
   ]
  },
  {
   "cell_type": "code",
   "execution_count": 6,
   "id": "c0e7658a-e867-4a67-8769-df25de3fed3f",
   "metadata": {},
   "outputs": [
    {
     "name": "stderr",
     "output_type": "stream",
     "text": [
      "/tmp/ipykernel_23404/3414659978.py:1: DtypeWarning: Columns (965,966,967,968,969,970,971,972,973,974,975,976,977,978,979,980,981,982,983,984,985,986,987,988,989,990,991,992,993,994,995,996,997,998,999,1000) have mixed types. Specify dtype option on import or set low_memory=False.\n",
      "  recvae = pd.read_csv(\"submission/predict_RecVAE.csv\", names = ['user_id'] + [f'item_id_{i}' for i in range(1,1001)])\n"
     ]
    }
   ],
   "source": [
    "recvae = pd.read_csv(\"submission/predict_RecVAE.csv\", names = ['user_id'] + [f'item_id_{i}' for i in range(1,1001)])\n",
    "als = pd.read_csv(\"submission/predict_ALS.csv\", names = ['user_id'] + [f'item_id_{i}' for i in range(1,1001)])\n",
    "lightgcn = pd.read_csv(\"submission/predict_LightGCN.csv\", names = ['user_id'] + [f'item_id_{i}' for i in range(1,1001)])\n",
    "sar = pd.read_csv(\"submission/predict_SAR.csv\", names = ['user_id'] + [f'item_id_{i}' for i in range(1,1001)])\n",
    "xsimgcl = pd.read_csv(\"submission/predict_XSimGCL.csv\", names = ['user_id'] + [f'item_id_{i}' for i in range(1,1001)])\n",
    "cl4rec = pd.read_csv(\"submission/predict_CL4Rec.csv\", names = ['user_id'] + [f'item_id_{i}' for i in range(1,1001)])"
   ]
  },
  {
   "cell_type": "code",
   "execution_count": 35,
   "id": "1ac8ed7e-08f7-4c8f-b422-3804b5324e8d",
   "metadata": {},
   "outputs": [
    {
     "ename": "FileNotFoundError",
     "evalue": "[Errno 2] No such file or directory: 'submission/predict_XSimGCL_falsedata.csv'",
     "output_type": "error",
     "traceback": [
      "\u001b[0;31m---------------------------------------------------------------------------\u001b[0m",
      "\u001b[0;31mFileNotFoundError\u001b[0m                         Traceback (most recent call last)",
      "Cell \u001b[0;32mIn[35], line 1\u001b[0m\n\u001b[0;32m----> 1\u001b[0m xsimgcl \u001b[38;5;241m=\u001b[39m \u001b[43mpd\u001b[49m\u001b[38;5;241;43m.\u001b[39;49m\u001b[43mread_csv\u001b[49m\u001b[43m(\u001b[49m\u001b[38;5;124;43m\"\u001b[39;49m\u001b[38;5;124;43msubmission/predict_XSimGCL_falsedata.csv\u001b[39;49m\u001b[38;5;124;43m\"\u001b[39;49m\u001b[43m,\u001b[49m\u001b[43m \u001b[49m\u001b[43mnames\u001b[49m\u001b[43m \u001b[49m\u001b[38;5;241;43m=\u001b[39;49m\u001b[43m \u001b[49m\u001b[43m[\u001b[49m\u001b[38;5;124;43m'\u001b[39;49m\u001b[38;5;124;43muser_id\u001b[39;49m\u001b[38;5;124;43m'\u001b[39;49m\u001b[43m]\u001b[49m\u001b[43m \u001b[49m\u001b[38;5;241;43m+\u001b[39;49m\u001b[43m \u001b[49m\u001b[43m[\u001b[49m\u001b[38;5;124;43mf\u001b[39;49m\u001b[38;5;124;43m'\u001b[39;49m\u001b[38;5;124;43mitem_id_\u001b[39;49m\u001b[38;5;132;43;01m{\u001b[39;49;00m\u001b[43mi\u001b[49m\u001b[38;5;132;43;01m}\u001b[39;49;00m\u001b[38;5;124;43m'\u001b[39;49m\u001b[43m \u001b[49m\u001b[38;5;28;43;01mfor\u001b[39;49;00m\u001b[43m \u001b[49m\u001b[43mi\u001b[49m\u001b[43m \u001b[49m\u001b[38;5;129;43;01min\u001b[39;49;00m\u001b[43m \u001b[49m\u001b[38;5;28;43mrange\u001b[39;49m\u001b[43m(\u001b[49m\u001b[38;5;241;43m1\u001b[39;49m\u001b[43m,\u001b[49m\u001b[38;5;241;43m1001\u001b[39;49m\u001b[43m)\u001b[49m\u001b[43m]\u001b[49m\u001b[43m)\u001b[49m\n",
      "File \u001b[0;32m/opt/conda/lib/python3.12/site-packages/pandas/io/parsers/readers.py:1026\u001b[0m, in \u001b[0;36mread_csv\u001b[0;34m(filepath_or_buffer, sep, delimiter, header, names, index_col, usecols, dtype, engine, converters, true_values, false_values, skipinitialspace, skiprows, skipfooter, nrows, na_values, keep_default_na, na_filter, verbose, skip_blank_lines, parse_dates, infer_datetime_format, keep_date_col, date_parser, date_format, dayfirst, cache_dates, iterator, chunksize, compression, thousands, decimal, lineterminator, quotechar, quoting, doublequote, escapechar, comment, encoding, encoding_errors, dialect, on_bad_lines, delim_whitespace, low_memory, memory_map, float_precision, storage_options, dtype_backend)\u001b[0m\n\u001b[1;32m   1013\u001b[0m kwds_defaults \u001b[38;5;241m=\u001b[39m _refine_defaults_read(\n\u001b[1;32m   1014\u001b[0m     dialect,\n\u001b[1;32m   1015\u001b[0m     delimiter,\n\u001b[0;32m   (...)\u001b[0m\n\u001b[1;32m   1022\u001b[0m     dtype_backend\u001b[38;5;241m=\u001b[39mdtype_backend,\n\u001b[1;32m   1023\u001b[0m )\n\u001b[1;32m   1024\u001b[0m kwds\u001b[38;5;241m.\u001b[39mupdate(kwds_defaults)\n\u001b[0;32m-> 1026\u001b[0m \u001b[38;5;28;01mreturn\u001b[39;00m \u001b[43m_read\u001b[49m\u001b[43m(\u001b[49m\u001b[43mfilepath_or_buffer\u001b[49m\u001b[43m,\u001b[49m\u001b[43m \u001b[49m\u001b[43mkwds\u001b[49m\u001b[43m)\u001b[49m\n",
      "File \u001b[0;32m/opt/conda/lib/python3.12/site-packages/pandas/io/parsers/readers.py:620\u001b[0m, in \u001b[0;36m_read\u001b[0;34m(filepath_or_buffer, kwds)\u001b[0m\n\u001b[1;32m    617\u001b[0m _validate_names(kwds\u001b[38;5;241m.\u001b[39mget(\u001b[38;5;124m\"\u001b[39m\u001b[38;5;124mnames\u001b[39m\u001b[38;5;124m\"\u001b[39m, \u001b[38;5;28;01mNone\u001b[39;00m))\n\u001b[1;32m    619\u001b[0m \u001b[38;5;66;03m# Create the parser.\u001b[39;00m\n\u001b[0;32m--> 620\u001b[0m parser \u001b[38;5;241m=\u001b[39m \u001b[43mTextFileReader\u001b[49m\u001b[43m(\u001b[49m\u001b[43mfilepath_or_buffer\u001b[49m\u001b[43m,\u001b[49m\u001b[43m \u001b[49m\u001b[38;5;241;43m*\u001b[39;49m\u001b[38;5;241;43m*\u001b[39;49m\u001b[43mkwds\u001b[49m\u001b[43m)\u001b[49m\n\u001b[1;32m    622\u001b[0m \u001b[38;5;28;01mif\u001b[39;00m chunksize \u001b[38;5;129;01mor\u001b[39;00m iterator:\n\u001b[1;32m    623\u001b[0m     \u001b[38;5;28;01mreturn\u001b[39;00m parser\n",
      "File \u001b[0;32m/opt/conda/lib/python3.12/site-packages/pandas/io/parsers/readers.py:1620\u001b[0m, in \u001b[0;36mTextFileReader.__init__\u001b[0;34m(self, f, engine, **kwds)\u001b[0m\n\u001b[1;32m   1617\u001b[0m     \u001b[38;5;28mself\u001b[39m\u001b[38;5;241m.\u001b[39moptions[\u001b[38;5;124m\"\u001b[39m\u001b[38;5;124mhas_index_names\u001b[39m\u001b[38;5;124m\"\u001b[39m] \u001b[38;5;241m=\u001b[39m kwds[\u001b[38;5;124m\"\u001b[39m\u001b[38;5;124mhas_index_names\u001b[39m\u001b[38;5;124m\"\u001b[39m]\n\u001b[1;32m   1619\u001b[0m \u001b[38;5;28mself\u001b[39m\u001b[38;5;241m.\u001b[39mhandles: IOHandles \u001b[38;5;241m|\u001b[39m \u001b[38;5;28;01mNone\u001b[39;00m \u001b[38;5;241m=\u001b[39m \u001b[38;5;28;01mNone\u001b[39;00m\n\u001b[0;32m-> 1620\u001b[0m \u001b[38;5;28mself\u001b[39m\u001b[38;5;241m.\u001b[39m_engine \u001b[38;5;241m=\u001b[39m \u001b[38;5;28;43mself\u001b[39;49m\u001b[38;5;241;43m.\u001b[39;49m\u001b[43m_make_engine\u001b[49m\u001b[43m(\u001b[49m\u001b[43mf\u001b[49m\u001b[43m,\u001b[49m\u001b[43m \u001b[49m\u001b[38;5;28;43mself\u001b[39;49m\u001b[38;5;241;43m.\u001b[39;49m\u001b[43mengine\u001b[49m\u001b[43m)\u001b[49m\n",
      "File \u001b[0;32m/opt/conda/lib/python3.12/site-packages/pandas/io/parsers/readers.py:1880\u001b[0m, in \u001b[0;36mTextFileReader._make_engine\u001b[0;34m(self, f, engine)\u001b[0m\n\u001b[1;32m   1878\u001b[0m     \u001b[38;5;28;01mif\u001b[39;00m \u001b[38;5;124m\"\u001b[39m\u001b[38;5;124mb\u001b[39m\u001b[38;5;124m\"\u001b[39m \u001b[38;5;129;01mnot\u001b[39;00m \u001b[38;5;129;01min\u001b[39;00m mode:\n\u001b[1;32m   1879\u001b[0m         mode \u001b[38;5;241m+\u001b[39m\u001b[38;5;241m=\u001b[39m \u001b[38;5;124m\"\u001b[39m\u001b[38;5;124mb\u001b[39m\u001b[38;5;124m\"\u001b[39m\n\u001b[0;32m-> 1880\u001b[0m \u001b[38;5;28mself\u001b[39m\u001b[38;5;241m.\u001b[39mhandles \u001b[38;5;241m=\u001b[39m \u001b[43mget_handle\u001b[49m\u001b[43m(\u001b[49m\n\u001b[1;32m   1881\u001b[0m \u001b[43m    \u001b[49m\u001b[43mf\u001b[49m\u001b[43m,\u001b[49m\n\u001b[1;32m   1882\u001b[0m \u001b[43m    \u001b[49m\u001b[43mmode\u001b[49m\u001b[43m,\u001b[49m\n\u001b[1;32m   1883\u001b[0m \u001b[43m    \u001b[49m\u001b[43mencoding\u001b[49m\u001b[38;5;241;43m=\u001b[39;49m\u001b[38;5;28;43mself\u001b[39;49m\u001b[38;5;241;43m.\u001b[39;49m\u001b[43moptions\u001b[49m\u001b[38;5;241;43m.\u001b[39;49m\u001b[43mget\u001b[49m\u001b[43m(\u001b[49m\u001b[38;5;124;43m\"\u001b[39;49m\u001b[38;5;124;43mencoding\u001b[39;49m\u001b[38;5;124;43m\"\u001b[39;49m\u001b[43m,\u001b[49m\u001b[43m \u001b[49m\u001b[38;5;28;43;01mNone\u001b[39;49;00m\u001b[43m)\u001b[49m\u001b[43m,\u001b[49m\n\u001b[1;32m   1884\u001b[0m \u001b[43m    \u001b[49m\u001b[43mcompression\u001b[49m\u001b[38;5;241;43m=\u001b[39;49m\u001b[38;5;28;43mself\u001b[39;49m\u001b[38;5;241;43m.\u001b[39;49m\u001b[43moptions\u001b[49m\u001b[38;5;241;43m.\u001b[39;49m\u001b[43mget\u001b[49m\u001b[43m(\u001b[49m\u001b[38;5;124;43m\"\u001b[39;49m\u001b[38;5;124;43mcompression\u001b[39;49m\u001b[38;5;124;43m\"\u001b[39;49m\u001b[43m,\u001b[49m\u001b[43m \u001b[49m\u001b[38;5;28;43;01mNone\u001b[39;49;00m\u001b[43m)\u001b[49m\u001b[43m,\u001b[49m\n\u001b[1;32m   1885\u001b[0m \u001b[43m    \u001b[49m\u001b[43mmemory_map\u001b[49m\u001b[38;5;241;43m=\u001b[39;49m\u001b[38;5;28;43mself\u001b[39;49m\u001b[38;5;241;43m.\u001b[39;49m\u001b[43moptions\u001b[49m\u001b[38;5;241;43m.\u001b[39;49m\u001b[43mget\u001b[49m\u001b[43m(\u001b[49m\u001b[38;5;124;43m\"\u001b[39;49m\u001b[38;5;124;43mmemory_map\u001b[39;49m\u001b[38;5;124;43m\"\u001b[39;49m\u001b[43m,\u001b[49m\u001b[43m \u001b[49m\u001b[38;5;28;43;01mFalse\u001b[39;49;00m\u001b[43m)\u001b[49m\u001b[43m,\u001b[49m\n\u001b[1;32m   1886\u001b[0m \u001b[43m    \u001b[49m\u001b[43mis_text\u001b[49m\u001b[38;5;241;43m=\u001b[39;49m\u001b[43mis_text\u001b[49m\u001b[43m,\u001b[49m\n\u001b[1;32m   1887\u001b[0m \u001b[43m    \u001b[49m\u001b[43merrors\u001b[49m\u001b[38;5;241;43m=\u001b[39;49m\u001b[38;5;28;43mself\u001b[39;49m\u001b[38;5;241;43m.\u001b[39;49m\u001b[43moptions\u001b[49m\u001b[38;5;241;43m.\u001b[39;49m\u001b[43mget\u001b[49m\u001b[43m(\u001b[49m\u001b[38;5;124;43m\"\u001b[39;49m\u001b[38;5;124;43mencoding_errors\u001b[39;49m\u001b[38;5;124;43m\"\u001b[39;49m\u001b[43m,\u001b[49m\u001b[43m \u001b[49m\u001b[38;5;124;43m\"\u001b[39;49m\u001b[38;5;124;43mstrict\u001b[39;49m\u001b[38;5;124;43m\"\u001b[39;49m\u001b[43m)\u001b[49m\u001b[43m,\u001b[49m\n\u001b[1;32m   1888\u001b[0m \u001b[43m    \u001b[49m\u001b[43mstorage_options\u001b[49m\u001b[38;5;241;43m=\u001b[39;49m\u001b[38;5;28;43mself\u001b[39;49m\u001b[38;5;241;43m.\u001b[39;49m\u001b[43moptions\u001b[49m\u001b[38;5;241;43m.\u001b[39;49m\u001b[43mget\u001b[49m\u001b[43m(\u001b[49m\u001b[38;5;124;43m\"\u001b[39;49m\u001b[38;5;124;43mstorage_options\u001b[39;49m\u001b[38;5;124;43m\"\u001b[39;49m\u001b[43m,\u001b[49m\u001b[43m \u001b[49m\u001b[38;5;28;43;01mNone\u001b[39;49;00m\u001b[43m)\u001b[49m\u001b[43m,\u001b[49m\n\u001b[1;32m   1889\u001b[0m \u001b[43m\u001b[49m\u001b[43m)\u001b[49m\n\u001b[1;32m   1890\u001b[0m \u001b[38;5;28;01massert\u001b[39;00m \u001b[38;5;28mself\u001b[39m\u001b[38;5;241m.\u001b[39mhandles \u001b[38;5;129;01mis\u001b[39;00m \u001b[38;5;129;01mnot\u001b[39;00m \u001b[38;5;28;01mNone\u001b[39;00m\n\u001b[1;32m   1891\u001b[0m f \u001b[38;5;241m=\u001b[39m \u001b[38;5;28mself\u001b[39m\u001b[38;5;241m.\u001b[39mhandles\u001b[38;5;241m.\u001b[39mhandle\n",
      "File \u001b[0;32m/opt/conda/lib/python3.12/site-packages/pandas/io/common.py:873\u001b[0m, in \u001b[0;36mget_handle\u001b[0;34m(path_or_buf, mode, encoding, compression, memory_map, is_text, errors, storage_options)\u001b[0m\n\u001b[1;32m    868\u001b[0m \u001b[38;5;28;01melif\u001b[39;00m \u001b[38;5;28misinstance\u001b[39m(handle, \u001b[38;5;28mstr\u001b[39m):\n\u001b[1;32m    869\u001b[0m     \u001b[38;5;66;03m# Check whether the filename is to be opened in binary mode.\u001b[39;00m\n\u001b[1;32m    870\u001b[0m     \u001b[38;5;66;03m# Binary mode does not support 'encoding' and 'newline'.\u001b[39;00m\n\u001b[1;32m    871\u001b[0m     \u001b[38;5;28;01mif\u001b[39;00m ioargs\u001b[38;5;241m.\u001b[39mencoding \u001b[38;5;129;01mand\u001b[39;00m \u001b[38;5;124m\"\u001b[39m\u001b[38;5;124mb\u001b[39m\u001b[38;5;124m\"\u001b[39m \u001b[38;5;129;01mnot\u001b[39;00m \u001b[38;5;129;01min\u001b[39;00m ioargs\u001b[38;5;241m.\u001b[39mmode:\n\u001b[1;32m    872\u001b[0m         \u001b[38;5;66;03m# Encoding\u001b[39;00m\n\u001b[0;32m--> 873\u001b[0m         handle \u001b[38;5;241m=\u001b[39m \u001b[38;5;28;43mopen\u001b[39;49m\u001b[43m(\u001b[49m\n\u001b[1;32m    874\u001b[0m \u001b[43m            \u001b[49m\u001b[43mhandle\u001b[49m\u001b[43m,\u001b[49m\n\u001b[1;32m    875\u001b[0m \u001b[43m            \u001b[49m\u001b[43mioargs\u001b[49m\u001b[38;5;241;43m.\u001b[39;49m\u001b[43mmode\u001b[49m\u001b[43m,\u001b[49m\n\u001b[1;32m    876\u001b[0m \u001b[43m            \u001b[49m\u001b[43mencoding\u001b[49m\u001b[38;5;241;43m=\u001b[39;49m\u001b[43mioargs\u001b[49m\u001b[38;5;241;43m.\u001b[39;49m\u001b[43mencoding\u001b[49m\u001b[43m,\u001b[49m\n\u001b[1;32m    877\u001b[0m \u001b[43m            \u001b[49m\u001b[43merrors\u001b[49m\u001b[38;5;241;43m=\u001b[39;49m\u001b[43merrors\u001b[49m\u001b[43m,\u001b[49m\n\u001b[1;32m    878\u001b[0m \u001b[43m            \u001b[49m\u001b[43mnewline\u001b[49m\u001b[38;5;241;43m=\u001b[39;49m\u001b[38;5;124;43m\"\u001b[39;49m\u001b[38;5;124;43m\"\u001b[39;49m\u001b[43m,\u001b[49m\n\u001b[1;32m    879\u001b[0m \u001b[43m        \u001b[49m\u001b[43m)\u001b[49m\n\u001b[1;32m    880\u001b[0m     \u001b[38;5;28;01melse\u001b[39;00m:\n\u001b[1;32m    881\u001b[0m         \u001b[38;5;66;03m# Binary mode\u001b[39;00m\n\u001b[1;32m    882\u001b[0m         handle \u001b[38;5;241m=\u001b[39m \u001b[38;5;28mopen\u001b[39m(handle, ioargs\u001b[38;5;241m.\u001b[39mmode)\n",
      "\u001b[0;31mFileNotFoundError\u001b[0m: [Errno 2] No such file or directory: 'submission/predict_XSimGCL_falsedata.csv'"
     ]
    }
   ],
   "source": [
    "xsimgcl = pd.read_csv(\"submission/predict_XSimGCL_falsedata.csv\", names = ['user_id'] + [f'item_id_{i}' for i in range(1,1001)])"
   ]
  },
  {
   "cell_type": "code",
   "execution_count": 18,
   "id": "a79b0c06-2187-47d6-98ee-050fe1af061b",
   "metadata": {},
   "outputs": [],
   "source": [
    "for i in range(1,1001):\n",
    "    xsimgcl.loc[~xsimgcl.user_id.isin(user_id), f'item_id_{i}'] = \"0\""
   ]
  },
  {
   "cell_type": "code",
   "execution_count": 19,
   "id": "8574f8be-cf68-46f6-a665-e47866a3eeca",
   "metadata": {},
   "outputs": [],
   "source": [
    "xsimgcl.to_csv('test_submit/predict.csv', index = None, header = None)"
   ]
  },
  {
   "cell_type": "code",
   "execution_count": 20,
   "id": "3b62103f-b130-472f-b1ef-4e90864eabbe",
   "metadata": {},
   "outputs": [
    {
     "data": {
      "text/html": [
       "<div>\n",
       "<style scoped>\n",
       "    .dataframe tbody tr th:only-of-type {\n",
       "        vertical-align: middle;\n",
       "    }\n",
       "\n",
       "    .dataframe tbody tr th {\n",
       "        vertical-align: top;\n",
       "    }\n",
       "\n",
       "    .dataframe thead th {\n",
       "        text-align: right;\n",
       "    }\n",
       "</style>\n",
       "<table border=\"1\" class=\"dataframe\">\n",
       "  <thead>\n",
       "    <tr style=\"text-align: right;\">\n",
       "      <th></th>\n",
       "      <th>UserId</th>\n",
       "      <th>ItemId</th>\n",
       "      <th>Click</th>\n",
       "      <th>Purchase</th>\n",
       "    </tr>\n",
       "  </thead>\n",
       "  <tbody>\n",
       "    <tr>\n",
       "      <th>0</th>\n",
       "      <td>tyviMi4b8Q</td>\n",
       "      <td>tyviMi4b8Q</td>\n",
       "      <td>1</td>\n",
       "      <td>0</td>\n",
       "    </tr>\n",
       "    <tr>\n",
       "      <th>1</th>\n",
       "      <td>tyviMi4b8Q</td>\n",
       "      <td>t3fB9Nq1VY</td>\n",
       "      <td>1</td>\n",
       "      <td>0</td>\n",
       "    </tr>\n",
       "    <tr>\n",
       "      <th>2</th>\n",
       "      <td>tyviMi4b8Q</td>\n",
       "      <td>X7ZdDwPBKM</td>\n",
       "      <td>1</td>\n",
       "      <td>0</td>\n",
       "    </tr>\n",
       "    <tr>\n",
       "      <th>3</th>\n",
       "      <td>tyviMi4b8Q</td>\n",
       "      <td>r4bieaZn66</td>\n",
       "      <td>1</td>\n",
       "      <td>0</td>\n",
       "    </tr>\n",
       "    <tr>\n",
       "      <th>4</th>\n",
       "      <td>tyviMi4b8Q</td>\n",
       "      <td>cRl2I3cVGB</td>\n",
       "      <td>1</td>\n",
       "      <td>0</td>\n",
       "    </tr>\n",
       "  </tbody>\n",
       "</table>\n",
       "</div>"
      ],
      "text/plain": [
       "       UserId      ItemId  Click  Purchase\n",
       "0  tyviMi4b8Q  tyviMi4b8Q      1         0\n",
       "1  tyviMi4b8Q  t3fB9Nq1VY      1         0\n",
       "2  tyviMi4b8Q  X7ZdDwPBKM      1         0\n",
       "3  tyviMi4b8Q  r4bieaZn66      1         0\n",
       "4  tyviMi4b8Q  cRl2I3cVGB      1         0"
      ]
     },
     "execution_count": 20,
     "metadata": {},
     "output_type": "execute_result"
    }
   ],
   "source": [
    "data = pd.read_csv('data/training_set.csv')\n",
    "data.head()"
   ]
  },
  {
   "cell_type": "code",
   "execution_count": 30,
   "id": "67903930-c78a-4919-aad2-8dc9f5341168",
   "metadata": {},
   "outputs": [],
   "source": [
    "item_react = data[data.UserId.isin(low_agreement.keys())]['ItemId'].unique()"
   ]
  },
  {
   "cell_type": "code",
   "execution_count": 34,
   "id": "11fd5434-d6bc-4033-af05-e2f37cf52730",
   "metadata": {},
   "outputs": [
    {
     "data": {
      "text/html": [
       "<div>\n",
       "<style scoped>\n",
       "    .dataframe tbody tr th:only-of-type {\n",
       "        vertical-align: middle;\n",
       "    }\n",
       "\n",
       "    .dataframe tbody tr th {\n",
       "        vertical-align: top;\n",
       "    }\n",
       "\n",
       "    .dataframe thead th {\n",
       "        text-align: right;\n",
       "    }\n",
       "</style>\n",
       "<table border=\"1\" class=\"dataframe\">\n",
       "  <thead>\n",
       "    <tr style=\"text-align: right;\">\n",
       "      <th></th>\n",
       "      <th>UserId</th>\n",
       "      <th>ItemId</th>\n",
       "      <th>Click</th>\n",
       "      <th>Purchase</th>\n",
       "    </tr>\n",
       "  </thead>\n",
       "  <tbody>\n",
       "    <tr>\n",
       "      <th>3</th>\n",
       "      <td>tyviMi4b8Q</td>\n",
       "      <td>r4bieaZn66</td>\n",
       "      <td>1</td>\n",
       "      <td>0</td>\n",
       "    </tr>\n",
       "    <tr>\n",
       "      <th>5</th>\n",
       "      <td>tyviMi4b8Q</td>\n",
       "      <td>0N6lG60HQq</td>\n",
       "      <td>1</td>\n",
       "      <td>0</td>\n",
       "    </tr>\n",
       "    <tr>\n",
       "      <th>8</th>\n",
       "      <td>tyviMi4b8Q</td>\n",
       "      <td>NOxmzBDWzA</td>\n",
       "      <td>1</td>\n",
       "      <td>0</td>\n",
       "    </tr>\n",
       "    <tr>\n",
       "      <th>9</th>\n",
       "      <td>tyviMi4b8Q</td>\n",
       "      <td>lvSijpy1MJ</td>\n",
       "      <td>1</td>\n",
       "      <td>0</td>\n",
       "    </tr>\n",
       "    <tr>\n",
       "      <th>10</th>\n",
       "      <td>tyviMi4b8Q</td>\n",
       "      <td>qrgmRqBJAa</td>\n",
       "      <td>1</td>\n",
       "      <td>0</td>\n",
       "    </tr>\n",
       "    <tr>\n",
       "      <th>...</th>\n",
       "      <td>...</td>\n",
       "      <td>...</td>\n",
       "      <td>...</td>\n",
       "      <td>...</td>\n",
       "    </tr>\n",
       "    <tr>\n",
       "      <th>389914</th>\n",
       "      <td>Uo2X1ah0bf</td>\n",
       "      <td>hRapAMLApl</td>\n",
       "      <td>1</td>\n",
       "      <td>0</td>\n",
       "    </tr>\n",
       "    <tr>\n",
       "      <th>389915</th>\n",
       "      <td>Uo2X1ah0bf</td>\n",
       "      <td>6S3euGhLbW</td>\n",
       "      <td>1</td>\n",
       "      <td>0</td>\n",
       "    </tr>\n",
       "    <tr>\n",
       "      <th>389917</th>\n",
       "      <td>Uo2X1ah0bf</td>\n",
       "      <td>M1M2Wkp92o</td>\n",
       "      <td>1</td>\n",
       "      <td>0</td>\n",
       "    </tr>\n",
       "    <tr>\n",
       "      <th>389920</th>\n",
       "      <td>16jkTS9Vj2</td>\n",
       "      <td>ZBmAO23TI8</td>\n",
       "      <td>1</td>\n",
       "      <td>0</td>\n",
       "    </tr>\n",
       "    <tr>\n",
       "      <th>389921</th>\n",
       "      <td>16jkTS9Vj2</td>\n",
       "      <td>h9tLDUYcw6</td>\n",
       "      <td>1</td>\n",
       "      <td>0</td>\n",
       "    </tr>\n",
       "  </tbody>\n",
       "</table>\n",
       "<p>217503 rows × 4 columns</p>\n",
       "</div>"
      ],
      "text/plain": [
       "            UserId      ItemId  Click  Purchase\n",
       "3       tyviMi4b8Q  r4bieaZn66      1         0\n",
       "5       tyviMi4b8Q  0N6lG60HQq      1         0\n",
       "8       tyviMi4b8Q  NOxmzBDWzA      1         0\n",
       "9       tyviMi4b8Q  lvSijpy1MJ      1         0\n",
       "10      tyviMi4b8Q  qrgmRqBJAa      1         0\n",
       "...            ...         ...    ...       ...\n",
       "389914  Uo2X1ah0bf  hRapAMLApl      1         0\n",
       "389915  Uo2X1ah0bf  6S3euGhLbW      1         0\n",
       "389917  Uo2X1ah0bf  M1M2Wkp92o      1         0\n",
       "389920  16jkTS9Vj2  ZBmAO23TI8      1         0\n",
       "389921  16jkTS9Vj2  h9tLDUYcw6      1         0\n",
       "\n",
       "[217503 rows x 4 columns]"
      ]
     },
     "execution_count": 34,
     "metadata": {},
     "output_type": "execute_result"
    }
   ],
   "source": [
    "data[data.ItemId.isin(item_react)]"
   ]
  },
  {
   "cell_type": "code",
   "execution_count": 29,
   "id": "45b341cd-2e14-4117-8756-2118dad463ab",
   "metadata": {},
   "outputs": [
    {
     "data": {
      "text/plain": [
       "count    19783.000000\n",
       "mean        10.994440\n",
       "std         15.276635\n",
       "min          1.000000\n",
       "25%          3.000000\n",
       "50%          6.000000\n",
       "75%         13.000000\n",
       "max        318.000000\n",
       "Name: Click, dtype: float64"
      ]
     },
     "execution_count": 29,
     "metadata": {},
     "output_type": "execute_result"
    }
   ],
   "source": [
    "data[data.ItemId.isin(item_react)].groupby('ItemId')['Click'].sum().describe()"
   ]
  }
 ],
 "metadata": {
  "kernelspec": {
   "display_name": "Python 3 (ipykernel)",
   "language": "python",
   "name": "python3"
  },
  "language_info": {
   "codemirror_mode": {
    "name": "ipython",
    "version": 3
   },
   "file_extension": ".py",
   "mimetype": "text/x-python",
   "name": "python",
   "nbconvert_exporter": "python",
   "pygments_lexer": "ipython3",
   "version": "3.12.7"
  }
 },
 "nbformat": 4,
 "nbformat_minor": 5
}
