{
 "cells": [
  {
   "cell_type": "code",
   "execution_count": 2,
   "id": "01c7d96d-28be-4403-9d0a-c42b8be78b47",
   "metadata": {},
   "outputs": [
    {
     "name": "stdout",
     "output_type": "stream",
     "text": [
      "RAPIDS cuDF version 24.10.01\n",
      "Cardinality of items is zzyfHckCgU\n"
     ]
    }
   ],
   "source": [
    "import cudf\n",
    "print('RAPIDS cuDF version',cudf.__version__)\n",
    "\n",
    "train = cudf.read_csv('data/training_set.csv')\n",
    "test = cudf.read_csv('data/public_testset.csv')\n",
    "\n",
    "train_pairs = train[[\"UserId\", \"ItemId\"]].rename(columns={\"UserId\": \"session\", \"ItemId\": \"aid\"})\n",
    "# # train_pairs = cudf.concat([train, test])[['session', 'aid']]\n",
    "# # del train, test\n",
    "\n",
    "train_pairs['aid_next'] = train_pairs.groupby('session').aid.shift(-1)\n",
    "train_pairs = train_pairs[['aid', 'aid_next']].dropna().reset_index(drop=True)\n",
    "\n",
    "cardinality_aids = max(train_pairs['aid'].max(), train_pairs['aid_next'].max())\n",
    "print('Cardinality of items is',cardinality_aids)"
   ]
  },
  {
   "cell_type": "code",
   "execution_count": 1,
   "id": "bb39a129-9b28-4578-90b4-988be3c8e7a5",
   "metadata": {},
   "outputs": [
    {
     "name": "stderr",
     "output_type": "stream",
     "text": [
      "/opt/conda/envs/rapids-24.10/lib/python3.10/site-packages/merlin/dtypes/mappings/tf.py:52: UserWarning: Tensorflow dtype mappings did not load successfully due to an error: No module named 'tensorflow'\n",
      "  warn(f\"Tensorflow dtype mappings did not load successfully due to an error: {exc.msg}\")\n",
      "/opt/conda/envs/rapids-24.10/lib/python3.10/site-packages/merlin/dtypes/mappings/triton.py:53: UserWarning: Triton dtype mappings did not load successfully due to an error: No module named 'tritonclient'\n",
      "  warn(f\"Triton dtype mappings did not load successfully due to an error: {exc.msg}\")\n",
      "/opt/conda/envs/rapids-24.10/lib/python3.10/site-packages/merlin/loader/torch.py:24: FutureWarning: In the future `np.bool` will be defined as the corresponding NumPy scalar.\n",
      "  np.bool: torch.bool,\n"
     ]
    },
    {
     "ename": "AttributeError",
     "evalue": "module 'numpy' has no attribute 'bool'.\n`np.bool` was a deprecated alias for the builtin `bool`. To avoid this error in existing code, use `bool` by itself. Doing this will not modify any behavior and is safe. If you specifically wanted the numpy scalar type, use `np.bool_` here.\nThe aliases was originally deprecated in NumPy 1.20; for more details and guidance see the original release note at:\n    https://numpy.org/devdocs/release/1.20.0-notes.html#deprecations",
     "output_type": "error",
     "traceback": [
      "\u001b[0;31m---------------------------------------------------------------------------\u001b[0m",
      "\u001b[0;31mAttributeError\u001b[0m                            Traceback (most recent call last)",
      "Cell \u001b[0;32mIn[1], line 1\u001b[0m\n\u001b[0;32m----> 1\u001b[0m \u001b[38;5;28;01mfrom\u001b[39;00m \u001b[38;5;21;01mmerlin\u001b[39;00m\u001b[38;5;21;01m.\u001b[39;00m\u001b[38;5;21;01mloader\u001b[39;00m\u001b[38;5;21;01m.\u001b[39;00m\u001b[38;5;21;01mtorch\u001b[39;00m \u001b[38;5;28;01mimport\u001b[39;00m Loader \n\u001b[1;32m      3\u001b[0m train_pairs\u001b[38;5;241m.\u001b[39mto_pandas()\u001b[38;5;241m.\u001b[39mto_parquet(\u001b[38;5;124m'\u001b[39m\u001b[38;5;124mtrain_pairs.parquet\u001b[39m\u001b[38;5;124m'\u001b[39m) \u001b[38;5;66;03m# TRAIN WITH ALL DATA\u001b[39;00m\n\u001b[1;32m      4\u001b[0m train_pairs[\u001b[38;5;241m-\u001b[39m\u001b[38;5;241m10_000_000\u001b[39m:]\u001b[38;5;241m.\u001b[39mto_pandas()\u001b[38;5;241m.\u001b[39mto_parquet(\u001b[38;5;124m'\u001b[39m\u001b[38;5;124mvalid_pairs.parquet\u001b[39m\u001b[38;5;124m'\u001b[39m)\n",
      "File \u001b[0;32m/opt/conda/envs/rapids-24.10/lib/python3.10/site-packages/merlin/loader/torch.py:24\u001b[0m\n\u001b[1;32m     20\u001b[0m \u001b[38;5;28;01mfrom\u001b[39;00m \u001b[38;5;21;01mmerlin\u001b[39;00m\u001b[38;5;21;01m.\u001b[39;00m\u001b[38;5;21;01mcore\u001b[39;00m\u001b[38;5;21;01m.\u001b[39;00m\u001b[38;5;21;01mdispatch\u001b[39;00m \u001b[38;5;28;01mimport\u001b[39;00m HAS_GPU\n\u001b[1;32m     21\u001b[0m \u001b[38;5;28;01mfrom\u001b[39;00m \u001b[38;5;21;01mmerlin\u001b[39;00m\u001b[38;5;21;01m.\u001b[39;00m\u001b[38;5;21;01mloader\u001b[39;00m\u001b[38;5;21;01m.\u001b[39;00m\u001b[38;5;21;01mloader_base\u001b[39;00m \u001b[38;5;28;01mimport\u001b[39;00m LoaderBase\n\u001b[1;32m     23\u001b[0m numpy_to_torch_dtype_dict \u001b[38;5;241m=\u001b[39m {\n\u001b[0;32m---> 24\u001b[0m     \u001b[43mnp\u001b[49m\u001b[38;5;241;43m.\u001b[39;49m\u001b[43mbool\u001b[49m: torch\u001b[38;5;241m.\u001b[39mbool,\n\u001b[1;32m     25\u001b[0m     np\u001b[38;5;241m.\u001b[39muint8: torch\u001b[38;5;241m.\u001b[39muint8,\n\u001b[1;32m     26\u001b[0m     np\u001b[38;5;241m.\u001b[39mint8: torch\u001b[38;5;241m.\u001b[39mint8,\n\u001b[1;32m     27\u001b[0m     np\u001b[38;5;241m.\u001b[39mint16: torch\u001b[38;5;241m.\u001b[39mint16,\n\u001b[1;32m     28\u001b[0m     np\u001b[38;5;241m.\u001b[39mint32: torch\u001b[38;5;241m.\u001b[39mint32,\n\u001b[1;32m     29\u001b[0m     np\u001b[38;5;241m.\u001b[39mint64: torch\u001b[38;5;241m.\u001b[39mint64,\n\u001b[1;32m     30\u001b[0m     np\u001b[38;5;241m.\u001b[39mfloat16: torch\u001b[38;5;241m.\u001b[39mfloat16,\n\u001b[1;32m     31\u001b[0m     np\u001b[38;5;241m.\u001b[39mfloat32: torch\u001b[38;5;241m.\u001b[39mfloat32,\n\u001b[1;32m     32\u001b[0m     np\u001b[38;5;241m.\u001b[39mfloat64: torch\u001b[38;5;241m.\u001b[39mfloat64,\n\u001b[1;32m     33\u001b[0m     np\u001b[38;5;241m.\u001b[39mcomplex64: torch\u001b[38;5;241m.\u001b[39mcomplex64,\n\u001b[1;32m     34\u001b[0m     np\u001b[38;5;241m.\u001b[39mcomplex128: torch\u001b[38;5;241m.\u001b[39mcomplex128,\n\u001b[1;32m     35\u001b[0m }\n\u001b[1;32m     37\u001b[0m torch_to_numpy_dtype_dict \u001b[38;5;241m=\u001b[39m {v: k \u001b[38;5;28;01mfor\u001b[39;00m k, v \u001b[38;5;129;01min\u001b[39;00m numpy_to_torch_dtype_dict\u001b[38;5;241m.\u001b[39mitems()}\n\u001b[1;32m     40\u001b[0m \u001b[38;5;28;01mclass\u001b[39;00m \u001b[38;5;21;01mLoader\u001b[39;00m(torch\u001b[38;5;241m.\u001b[39mutils\u001b[38;5;241m.\u001b[39mdata\u001b[38;5;241m.\u001b[39mIterableDataset, LoaderBase):\n",
      "File \u001b[0;32m/opt/conda/envs/rapids-24.10/lib/python3.10/site-packages/numpy/__init__.py:324\u001b[0m, in \u001b[0;36m__getattr__\u001b[0;34m(attr)\u001b[0m\n\u001b[1;32m    319\u001b[0m     warnings\u001b[38;5;241m.\u001b[39mwarn(\n\u001b[1;32m    320\u001b[0m         \u001b[38;5;124mf\u001b[39m\u001b[38;5;124m\"\u001b[39m\u001b[38;5;124mIn the future `np.\u001b[39m\u001b[38;5;132;01m{\u001b[39;00mattr\u001b[38;5;132;01m}\u001b[39;00m\u001b[38;5;124m` will be defined as the \u001b[39m\u001b[38;5;124m\"\u001b[39m\n\u001b[1;32m    321\u001b[0m         \u001b[38;5;124m\"\u001b[39m\u001b[38;5;124mcorresponding NumPy scalar.\u001b[39m\u001b[38;5;124m\"\u001b[39m, \u001b[38;5;167;01mFutureWarning\u001b[39;00m, stacklevel\u001b[38;5;241m=\u001b[39m\u001b[38;5;241m2\u001b[39m)\n\u001b[1;32m    323\u001b[0m \u001b[38;5;28;01mif\u001b[39;00m attr \u001b[38;5;129;01min\u001b[39;00m __former_attrs__:\n\u001b[0;32m--> 324\u001b[0m     \u001b[38;5;28;01mraise\u001b[39;00m \u001b[38;5;167;01mAttributeError\u001b[39;00m(__former_attrs__[attr])\n\u001b[1;32m    326\u001b[0m \u001b[38;5;28;01mif\u001b[39;00m attr \u001b[38;5;241m==\u001b[39m \u001b[38;5;124m'\u001b[39m\u001b[38;5;124mtesting\u001b[39m\u001b[38;5;124m'\u001b[39m:\n\u001b[1;32m    327\u001b[0m     \u001b[38;5;28;01mimport\u001b[39;00m \u001b[38;5;21;01mnumpy\u001b[39;00m\u001b[38;5;21;01m.\u001b[39;00m\u001b[38;5;21;01mtesting\u001b[39;00m \u001b[38;5;28;01mas\u001b[39;00m \u001b[38;5;21;01mtesting\u001b[39;00m\n",
      "\u001b[0;31mAttributeError\u001b[0m: module 'numpy' has no attribute 'bool'.\n`np.bool` was a deprecated alias for the builtin `bool`. To avoid this error in existing code, use `bool` by itself. Doing this will not modify any behavior and is safe. If you specifically wanted the numpy scalar type, use `np.bool_` here.\nThe aliases was originally deprecated in NumPy 1.20; for more details and guidance see the original release note at:\n    https://numpy.org/devdocs/release/1.20.0-notes.html#deprecations"
     ]
    }
   ],
   "source": [
    "from merlin.loader.torch import Loader \n",
    "\n",
    "train_pairs.to_pandas().to_parquet('train_pairs.parquet') # TRAIN WITH ALL DATA\n",
    "train_pairs[-10_000_000:].to_pandas().to_parquet('valid_pairs.parquet')\n",
    "\n",
    "# from merlin.loader.torch import Loader| \n",
    "from merlin.io import Dataset\n",
    "\n",
    "train_ds = Dataset('train_pairs.parquet')\n",
    "train_dl_merlin = Loader(train_ds, 65536, True)"
   ]
  },
  {
   "cell_type": "code",
   "execution_count": 2,
   "id": "5cda6f4f-8586-48f1-b482-da2a85336930",
   "metadata": {},
   "outputs": [],
   "source": [
    "from cudf.core.column import build_column"
   ]
  },
  {
   "cell_type": "code",
   "execution_count": null,
   "id": "48b771d5-b0ee-4755-aa9a-04b9e844fcf6",
   "metadata": {},
   "outputs": [],
   "source": []
  }
 ],
 "metadata": {
  "kernelspec": {
   "display_name": "rapidsai",
   "language": "python",
   "name": "rapidsai"
  },
  "language_info": {
   "codemirror_mode": {
    "name": "ipython",
    "version": 3
   },
   "file_extension": ".py",
   "mimetype": "text/x-python",
   "name": "python",
   "nbconvert_exporter": "python",
   "pygments_lexer": "ipython3",
   "version": "3.11.10"
  }
 },
 "nbformat": 4,
 "nbformat_minor": 5
}
