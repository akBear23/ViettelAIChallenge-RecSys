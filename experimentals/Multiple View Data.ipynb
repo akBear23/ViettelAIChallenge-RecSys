{
 "cells": [
  {
   "cell_type": "code",
   "execution_count": 48,
   "id": "7cff35c5-a06b-424c-b7f3-6163dda48a50",
   "metadata": {},
   "outputs": [],
   "source": [
    "import pandas as pd"
   ]
  },
  {
   "cell_type": "code",
   "execution_count": 113,
   "id": "1265b101-550a-40d6-ab07-1e7af609235b",
   "metadata": {},
   "outputs": [],
   "source": [
    "df = pd.read_csv(\"data/training_set.csv\")"
   ]
  },
  {
   "cell_type": "code",
   "execution_count": 114,
   "id": "d1deab4a-c24a-417a-9a75-6759b5e68265",
   "metadata": {},
   "outputs": [],
   "source": [
    "user_list = df.groupby('UserId')['ItemId'].nunique()\n",
    "user_list_denoise = user_list[(user_list<=50000)].index.to_list()"
   ]
  },
  {
   "cell_type": "code",
   "execution_count": 115,
   "id": "9d67e90c-248a-4fb6-9be4-c8587b344474",
   "metadata": {},
   "outputs": [],
   "source": [
    "test = pd.read_csv('data/public_testset.csv', names=['user_id'] + [f'item_id_{i}' for i in range(1,1001)])\n",
    "test_user_id = test['user_id'].values"
   ]
  },
  {
   "cell_type": "code",
   "execution_count": 116,
   "id": "5c811272-da6c-42d8-bb1d-82951ca02a83",
   "metadata": {},
   "outputs": [],
   "source": [
    "final_user_list = []\n",
    "final_user_list.extend(user_list_denoise)\n",
    "final_user_list.extend(test_user_id)\n",
    "user_list_denoise = list(set(final_user_list))"
   ]
  },
  {
   "cell_type": "code",
   "execution_count": 117,
   "id": "82c54300-9aec-44b8-be87-8a6a06b140a4",
   "metadata": {},
   "outputs": [],
   "source": [
    "df = df[df.UserId.isin(user_list_denoise)]"
   ]
  },
  {
   "cell_type": "code",
   "execution_count": 118,
   "id": "fd3311c2-6ebe-4bfa-8385-9225126515d9",
   "metadata": {},
   "outputs": [],
   "source": [
    "df[\"rating\"] = df[\"Click\"] + df[\"Purchase\"] * 5"
   ]
  },
  {
   "cell_type": "code",
   "execution_count": 119,
   "id": "42356554-7ef1-441f-920f-1f9f3c4f9510",
   "metadata": {},
   "outputs": [
    {
     "data": {
      "text/plain": [
       "(389923, 5)"
      ]
     },
     "execution_count": 119,
     "metadata": {},
     "output_type": "execute_result"
    }
   ],
   "source": [
    "df.shape"
   ]
  },
  {
   "cell_type": "code",
   "execution_count": 56,
   "id": "53ddcbf1-2031-4700-97d4-7e95c8b002cd",
   "metadata": {},
   "outputs": [],
   "source": [
    "df = df[df[\"rating\"] >= 0.5]"
   ]
  },
  {
   "cell_type": "code",
   "execution_count": 57,
   "id": "025501d1-8099-4c0b-958a-496d2ea33e8e",
   "metadata": {},
   "outputs": [
    {
     "data": {
      "text/plain": [
       "(389923, 5)"
      ]
     },
     "execution_count": 57,
     "metadata": {},
     "output_type": "execute_result"
    }
   ],
   "source": [
    "df.shape"
   ]
  },
  {
   "cell_type": "code",
   "execution_count": 58,
   "id": "85f80330-6a7a-46e3-8da0-95ca2e991e04",
   "metadata": {},
   "outputs": [],
   "source": [
    "def sliding_window(data: list, n=1, stride=1):\n",
    "    if len(data) < n:\n",
    "        yield data\n",
    "    else:\n",
    "        for i in range(0, len(data) - n + 1, stride):\n",
    "            yield data[i:i+n]"
   ]
  },
  {
   "cell_type": "code",
   "execution_count": 59,
   "id": "2f631aca-db79-442b-a7d0-ba25603a385e",
   "metadata": {},
   "outputs": [],
   "source": [
    "window_slicing = df.groupby(\"UserId\").agg({\"ItemId\": list})\n",
    "window_slicing[\"ItemId\"] = window_slicing[\"ItemId\"].apply(lambda x : [i for i in sliding_window(x, n=50, stride=10)])\n",
    "window_slicing = window_slicing.explode(\"ItemId\").reset_index().reset_index()\n",
    "window_slicing = window_slicing.rename(columns={\"UserId\" : \"TrueUser\"})\n",
    "window_slicing = window_slicing.rename(columns={\"index\": \"UserId\"})\n",
    "window_slicing = window_slicing.explode(\"ItemId\")\n",
    "# window_slicing[\"rating\"] = window_slicing[\"Click\"] + window_slicing[\"Purchase\"] * 5"
   ]
  },
  {
   "cell_type": "code",
   "execution_count": 60,
   "id": "97653ca2-f691-42dd-b7ef-d92d49927f2d",
   "metadata": {},
   "outputs": [],
   "source": [
    "# Merge df and window_slicing on 'UserId' and 'ItemId'\n",
    "merged_df = window_slicing.merge(df[['UserId', 'ItemId', 'rating']], \n",
    "                                 left_on=['TrueUser', 'ItemId'], \n",
    "                                 right_on=['UserId', 'ItemId'], \n",
    "                                 how='left')\n",
    "\n",
    "# Assign the 'rating' column from the merged DataFrame to window_slicing\n",
    "window_slicing['rating'] = merged_df['rating']\n"
   ]
  },
  {
   "cell_type": "code",
   "execution_count": 61,
   "id": "7a870709-5c9d-41dc-9a3d-328e731a35d1",
   "metadata": {},
   "outputs": [
    {
     "data": {
      "text/html": [
       "<div>\n",
       "<style scoped>\n",
       "    .dataframe tbody tr th:only-of-type {\n",
       "        vertical-align: middle;\n",
       "    }\n",
       "\n",
       "    .dataframe tbody tr th {\n",
       "        vertical-align: top;\n",
       "    }\n",
       "\n",
       "    .dataframe thead th {\n",
       "        text-align: right;\n",
       "    }\n",
       "</style>\n",
       "<table border=\"1\" class=\"dataframe\">\n",
       "  <thead>\n",
       "    <tr style=\"text-align: right;\">\n",
       "      <th></th>\n",
       "      <th>UserId</th>\n",
       "      <th>TrueUser</th>\n",
       "      <th>ItemId</th>\n",
       "      <th>rating</th>\n",
       "    </tr>\n",
       "  </thead>\n",
       "  <tbody>\n",
       "    <tr>\n",
       "      <th>0</th>\n",
       "      <td>0</td>\n",
       "      <td>00CqJFh8ey</td>\n",
       "      <td>WCJ3v3bGfi</td>\n",
       "      <td>1</td>\n",
       "    </tr>\n",
       "    <tr>\n",
       "      <th>0</th>\n",
       "      <td>0</td>\n",
       "      <td>00CqJFh8ey</td>\n",
       "      <td>ERHK6OW0BA</td>\n",
       "      <td>1</td>\n",
       "    </tr>\n",
       "    <tr>\n",
       "      <th>0</th>\n",
       "      <td>0</td>\n",
       "      <td>00CqJFh8ey</td>\n",
       "      <td>v5DrRkI5jd</td>\n",
       "      <td>1</td>\n",
       "    </tr>\n",
       "    <tr>\n",
       "      <th>0</th>\n",
       "      <td>0</td>\n",
       "      <td>00CqJFh8ey</td>\n",
       "      <td>7o8G2oZDME</td>\n",
       "      <td>1</td>\n",
       "    </tr>\n",
       "    <tr>\n",
       "      <th>0</th>\n",
       "      <td>0</td>\n",
       "      <td>00CqJFh8ey</td>\n",
       "      <td>d6qTUg1iUa</td>\n",
       "      <td>1</td>\n",
       "    </tr>\n",
       "    <tr>\n",
       "      <th>...</th>\n",
       "      <td>...</td>\n",
       "      <td>...</td>\n",
       "      <td>...</td>\n",
       "      <td>...</td>\n",
       "    </tr>\n",
       "    <tr>\n",
       "      <th>43361</th>\n",
       "      <td>43361</td>\n",
       "      <td>zzyfHckCgU</td>\n",
       "      <td>IOqkRNQPUV</td>\n",
       "      <td>1</td>\n",
       "    </tr>\n",
       "    <tr>\n",
       "      <th>43361</th>\n",
       "      <td>43361</td>\n",
       "      <td>zzyfHckCgU</td>\n",
       "      <td>ZkBDQumm61</td>\n",
       "      <td>1</td>\n",
       "    </tr>\n",
       "    <tr>\n",
       "      <th>43361</th>\n",
       "      <td>43361</td>\n",
       "      <td>zzyfHckCgU</td>\n",
       "      <td>BRpJjYD0XK</td>\n",
       "      <td>1</td>\n",
       "    </tr>\n",
       "    <tr>\n",
       "      <th>43361</th>\n",
       "      <td>43361</td>\n",
       "      <td>zzyfHckCgU</td>\n",
       "      <td>K0oduAO6B2</td>\n",
       "      <td>1</td>\n",
       "    </tr>\n",
       "    <tr>\n",
       "      <th>43361</th>\n",
       "      <td>43361</td>\n",
       "      <td>zzyfHckCgU</td>\n",
       "      <td>9nsLo4azDp</td>\n",
       "      <td>1</td>\n",
       "    </tr>\n",
       "  </tbody>\n",
       "</table>\n",
       "<p>652525 rows × 4 columns</p>\n",
       "</div>"
      ],
      "text/plain": [
       "       UserId    TrueUser      ItemId  rating\n",
       "0           0  00CqJFh8ey  WCJ3v3bGfi       1\n",
       "0           0  00CqJFh8ey  ERHK6OW0BA       1\n",
       "0           0  00CqJFh8ey  v5DrRkI5jd       1\n",
       "0           0  00CqJFh8ey  7o8G2oZDME       1\n",
       "0           0  00CqJFh8ey  d6qTUg1iUa       1\n",
       "...       ...         ...         ...     ...\n",
       "43361   43361  zzyfHckCgU  IOqkRNQPUV       1\n",
       "43361   43361  zzyfHckCgU  ZkBDQumm61       1\n",
       "43361   43361  zzyfHckCgU  BRpJjYD0XK       1\n",
       "43361   43361  zzyfHckCgU  K0oduAO6B2       1\n",
       "43361   43361  zzyfHckCgU  9nsLo4azDp       1\n",
       "\n",
       "[652525 rows x 4 columns]"
      ]
     },
     "execution_count": 61,
     "metadata": {},
     "output_type": "execute_result"
    }
   ],
   "source": [
    "window_slicing"
   ]
  },
  {
   "cell_type": "code",
   "execution_count": 62,
   "id": "dfa5dd3a-c1ae-4ce1-a3ab-e1c57e21a81b",
   "metadata": {},
   "outputs": [],
   "source": [
    "window_slicing50 = window_slicing.copy(deep=True)"
   ]
  },
  {
   "cell_type": "code",
   "execution_count": 63,
   "id": "7841cda2-7916-4402-8394-cc87f543497e",
   "metadata": {},
   "outputs": [],
   "source": [
    "window_slicing = df.groupby(\"UserId\").agg({\"ItemId\": list})\n",
    "window_slicing[\"ItemId\"] = window_slicing[\"ItemId\"].apply(lambda x : [i for i in sliding_window(x, n=20, stride=10)])\n",
    "window_slicing = window_slicing.explode(\"ItemId\").reset_index().reset_index()\n",
    "window_slicing = window_slicing.rename(columns={\"UserId\" : \"TrueUser\"})\n",
    "window_slicing = window_slicing.rename(columns={\"index\": \"UserId\"})\n",
    "window_slicing = window_slicing.explode(\"ItemId\")\n",
    "# window_slicing[\"rating\"] = 1"
   ]
  },
  {
   "cell_type": "code",
   "execution_count": 64,
   "id": "86a30c0a-afc6-49d8-866d-8acf5222d4ef",
   "metadata": {},
   "outputs": [],
   "source": [
    "# Merge df and window_slicing on 'UserId' and 'ItemId'\n",
    "merged_df = window_slicing.merge(df[['UserId', 'ItemId', 'rating']], \n",
    "                                 left_on=['TrueUser', 'ItemId'], \n",
    "                                 right_on=['UserId', 'ItemId'], \n",
    "                                 how='left')\n",
    "\n",
    "# Assign the 'rating' column from the merged DataFrame to window_slicing\n",
    "window_slicing['rating'] = merged_df['rating']\n"
   ]
  },
  {
   "cell_type": "code",
   "execution_count": 65,
   "id": "d4f95c98-3155-44de-9ee8-2d1a37092182",
   "metadata": {},
   "outputs": [],
   "source": [
    "window_slicing20 = window_slicing.copy(deep=True)"
   ]
  },
  {
   "cell_type": "code",
   "execution_count": 76,
   "id": "802e411f-4044-4f6b-9abf-a78ed7f16cd1",
   "metadata": {},
   "outputs": [
    {
     "data": {
      "text/plain": [
       "array([1, 6])"
      ]
     },
     "execution_count": 76,
     "metadata": {},
     "output_type": "execute_result"
    }
   ],
   "source": [
    "window_slicing20['rating'].unique()"
   ]
  },
  {
   "cell_type": "code",
   "execution_count": 96,
   "id": "543c22d7-7848-4a1f-85b1-1db4bd63e0aa",
   "metadata": {},
   "outputs": [],
   "source": [
    "from more_itertools import locate\n",
    "sessions = []\n",
    "session_id = 0\n",
    "for _, i in df.groupby(\"UserId\").agg({\"ItemId\": list, \"Purchase\": list}).reset_index().iterrows():\n",
    "    userid = i[\"UserId\"]\n",
    "    for l in (list(locate(i.Purchase))):\n",
    "        start = max(0, l-10)\n",
    "        end = min(len(i[\"ItemId\"]), l+10)\n",
    "        sessions.append((userid, session_id, i[\"ItemId\"][start:end]))\n",
    "\n",
    "        # sessions.append((userid, session_id, i[\"ItemId\"][l-10:l+10]))\n",
    "        session_id+=1\n",
    "\n",
    "sessions_df = pd.DataFrame(sessions, columns = [\"TrueUser\", \"UserId\", \"ItemId\"])\n",
    "sessions_df = sessions_df.explode(\"ItemId\")\n",
    "# sessions_df[\"rating\"] = 1"
   ]
  },
  {
   "cell_type": "code",
   "execution_count": 97,
   "id": "022d6515-9e4e-46cb-a292-d45484c35617",
   "metadata": {},
   "outputs": [],
   "source": [
    "# Merge df and window_slicing on 'UserId' and 'ItemId'\n",
    "merged_df = sessions_df.merge(df[['UserId', 'ItemId', 'rating']], \n",
    "                                 left_on=['TrueUser', 'ItemId'], \n",
    "                                 right_on=['UserId', 'ItemId'], \n",
    "                                 how='left')\n",
    "\n",
    "# Assign the 'rating' column from the merged DataFrame to window_slicing\n",
    "sessions_df['rating'] = merged_df['rating']\n"
   ]
  },
  {
   "cell_type": "code",
   "execution_count": 99,
   "id": "98fab97e-cdc1-426e-9e1b-0ebf5a4fc1d9",
   "metadata": {},
   "outputs": [],
   "source": [
    "raw_df = df.copy(deep=True)\n",
    "raw_df[\"TrueUser\"] = raw_df[\"UserId\"]"
   ]
  },
  {
   "cell_type": "code",
   "execution_count": 87,
   "id": "439b8a61-d392-4b5f-9740-67d57708fa81",
   "metadata": {},
   "outputs": [],
   "source": [
    "# items_less_than_3_users = df[\"ItemId\"].value_counts()\n",
    "# items_less_than_3_users = items_less_than_3_users[items_less_than_3_users >= 3]\n",
    "# items_less_than_3_users = df.merge(items_less_than_3_users, on=\"ItemId\", how=\"inner\")\n",
    "# items_less_than_3_users[\"TrueUser\"] = items_less_than_3_users[\"UserId\"]"
   ]
  },
  {
   "cell_type": "code",
   "execution_count": 127,
   "id": "56c33ed7-7d99-4eac-9664-0d230f7c0c3c",
   "metadata": {},
   "outputs": [
    {
     "data": {
      "text/html": [
       "<div>\n",
       "<style scoped>\n",
       "    .dataframe tbody tr th:only-of-type {\n",
       "        vertical-align: middle;\n",
       "    }\n",
       "\n",
       "    .dataframe tbody tr th {\n",
       "        vertical-align: top;\n",
       "    }\n",
       "\n",
       "    .dataframe thead th {\n",
       "        text-align: right;\n",
       "    }\n",
       "</style>\n",
       "<table border=\"1\" class=\"dataframe\">\n",
       "  <thead>\n",
       "    <tr style=\"text-align: right;\">\n",
       "      <th></th>\n",
       "      <th>UserId</th>\n",
       "      <th>ItemId</th>\n",
       "      <th>Click</th>\n",
       "      <th>Purchase</th>\n",
       "      <th>rating</th>\n",
       "      <th>TrueUser</th>\n",
       "    </tr>\n",
       "  </thead>\n",
       "  <tbody>\n",
       "    <tr>\n",
       "      <th>0</th>\n",
       "      <td>tyviMi4b8Q</td>\n",
       "      <td>tyviMi4b8Q</td>\n",
       "      <td>1</td>\n",
       "      <td>0</td>\n",
       "      <td>1</td>\n",
       "      <td>tyviMi4b8Q</td>\n",
       "    </tr>\n",
       "    <tr>\n",
       "      <th>1</th>\n",
       "      <td>tyviMi4b8Q</td>\n",
       "      <td>t3fB9Nq1VY</td>\n",
       "      <td>1</td>\n",
       "      <td>0</td>\n",
       "      <td>1</td>\n",
       "      <td>tyviMi4b8Q</td>\n",
       "    </tr>\n",
       "    <tr>\n",
       "      <th>2</th>\n",
       "      <td>tyviMi4b8Q</td>\n",
       "      <td>X7ZdDwPBKM</td>\n",
       "      <td>1</td>\n",
       "      <td>0</td>\n",
       "      <td>1</td>\n",
       "      <td>tyviMi4b8Q</td>\n",
       "    </tr>\n",
       "    <tr>\n",
       "      <th>3</th>\n",
       "      <td>tyviMi4b8Q</td>\n",
       "      <td>r4bieaZn66</td>\n",
       "      <td>1</td>\n",
       "      <td>0</td>\n",
       "      <td>1</td>\n",
       "      <td>tyviMi4b8Q</td>\n",
       "    </tr>\n",
       "    <tr>\n",
       "      <th>4</th>\n",
       "      <td>tyviMi4b8Q</td>\n",
       "      <td>cRl2I3cVGB</td>\n",
       "      <td>1</td>\n",
       "      <td>0</td>\n",
       "      <td>1</td>\n",
       "      <td>tyviMi4b8Q</td>\n",
       "    </tr>\n",
       "    <tr>\n",
       "      <th>...</th>\n",
       "      <td>...</td>\n",
       "      <td>...</td>\n",
       "      <td>...</td>\n",
       "      <td>...</td>\n",
       "      <td>...</td>\n",
       "      <td>...</td>\n",
       "    </tr>\n",
       "    <tr>\n",
       "      <th>389918</th>\n",
       "      <td>16jkTS9Vj2</td>\n",
       "      <td>5wWKMYcpiw</td>\n",
       "      <td>1</td>\n",
       "      <td>0</td>\n",
       "      <td>1</td>\n",
       "      <td>16jkTS9Vj2</td>\n",
       "    </tr>\n",
       "    <tr>\n",
       "      <th>389919</th>\n",
       "      <td>16jkTS9Vj2</td>\n",
       "      <td>lHTwXgiMo7</td>\n",
       "      <td>1</td>\n",
       "      <td>0</td>\n",
       "      <td>1</td>\n",
       "      <td>16jkTS9Vj2</td>\n",
       "    </tr>\n",
       "    <tr>\n",
       "      <th>389920</th>\n",
       "      <td>16jkTS9Vj2</td>\n",
       "      <td>ZBmAO23TI8</td>\n",
       "      <td>1</td>\n",
       "      <td>0</td>\n",
       "      <td>1</td>\n",
       "      <td>16jkTS9Vj2</td>\n",
       "    </tr>\n",
       "    <tr>\n",
       "      <th>389921</th>\n",
       "      <td>16jkTS9Vj2</td>\n",
       "      <td>h9tLDUYcw6</td>\n",
       "      <td>1</td>\n",
       "      <td>0</td>\n",
       "      <td>1</td>\n",
       "      <td>16jkTS9Vj2</td>\n",
       "    </tr>\n",
       "    <tr>\n",
       "      <th>389922</th>\n",
       "      <td>16jkTS9Vj2</td>\n",
       "      <td>IidvQKwM1B</td>\n",
       "      <td>1</td>\n",
       "      <td>0</td>\n",
       "      <td>1</td>\n",
       "      <td>16jkTS9Vj2</td>\n",
       "    </tr>\n",
       "  </tbody>\n",
       "</table>\n",
       "<p>389923 rows × 6 columns</p>\n",
       "</div>"
      ],
      "text/plain": [
       "            UserId      ItemId  Click  Purchase  rating    TrueUser\n",
       "0       tyviMi4b8Q  tyviMi4b8Q      1         0       1  tyviMi4b8Q\n",
       "1       tyviMi4b8Q  t3fB9Nq1VY      1         0       1  tyviMi4b8Q\n",
       "2       tyviMi4b8Q  X7ZdDwPBKM      1         0       1  tyviMi4b8Q\n",
       "3       tyviMi4b8Q  r4bieaZn66      1         0       1  tyviMi4b8Q\n",
       "4       tyviMi4b8Q  cRl2I3cVGB      1         0       1  tyviMi4b8Q\n",
       "...            ...         ...    ...       ...     ...         ...\n",
       "389918  16jkTS9Vj2  5wWKMYcpiw      1         0       1  16jkTS9Vj2\n",
       "389919  16jkTS9Vj2  lHTwXgiMo7      1         0       1  16jkTS9Vj2\n",
       "389920  16jkTS9Vj2  ZBmAO23TI8      1         0       1  16jkTS9Vj2\n",
       "389921  16jkTS9Vj2  h9tLDUYcw6      1         0       1  16jkTS9Vj2\n",
       "389922  16jkTS9Vj2  IidvQKwM1B      1         0       1  16jkTS9Vj2\n",
       "\n",
       "[389923 rows x 6 columns]"
      ]
     },
     "execution_count": 127,
     "metadata": {},
     "output_type": "execute_result"
    }
   ],
   "source": [
    "raw_df"
   ]
  },
  {
   "cell_type": "code",
   "execution_count": 110,
   "id": "a9a6a151-1e18-497d-860b-34188fe7b777",
   "metadata": {},
   "outputs": [],
   "source": [
    "def get_var_name(var):\n",
    "    for name, value in globals().items():\n",
    "        if value is var:\n",
    "            return name\n",
    "\n",
    "def data_condat(*data_list):\n",
    "    full = []\n",
    "    for data in data_list:\n",
    "        f = data.groupby(\"UserId\").agg({\"ItemId\": list, \"TrueUser\": \"max\"})\n",
    "        f[\"origin\"] = get_var_name(data)\n",
    "        full.append(f)\n",
    "\n",
    "\n",
    "    full_df = pd.concat(full, ignore_index=True)\n",
    "    full_df = full_df.drop_duplicates(subset=\"ItemId\")\n",
    "    full_df = full_df.reset_index().rename(columns={\"index\": \"UserId\"})\n",
    "    full_df = full_df.explode(\"ItemId\")\n",
    "\n",
    "    return full_df"
   ]
  },
  {
   "cell_type": "code",
   "execution_count": 128,
   "id": "b0348040-7adc-445e-bff3-282c79167afd",
   "metadata": {},
   "outputs": [],
   "source": [
    "df_all = data_condat(window_slicing20, window_slicing50, sessions_df)"
   ]
  },
  {
   "cell_type": "code",
   "execution_count": 129,
   "id": "91940f58-b7c4-40dd-be24-bb1380ce58d8",
   "metadata": {},
   "outputs": [
    {
     "data": {
      "text/html": [
       "<div>\n",
       "<style scoped>\n",
       "    .dataframe tbody tr th:only-of-type {\n",
       "        vertical-align: middle;\n",
       "    }\n",
       "\n",
       "    .dataframe tbody tr th {\n",
       "        vertical-align: top;\n",
       "    }\n",
       "\n",
       "    .dataframe thead th {\n",
       "        text-align: right;\n",
       "    }\n",
       "</style>\n",
       "<table border=\"1\" class=\"dataframe\">\n",
       "  <thead>\n",
       "    <tr style=\"text-align: right;\">\n",
       "      <th></th>\n",
       "      <th>UserId</th>\n",
       "      <th>ItemId</th>\n",
       "      <th>TrueUser</th>\n",
       "      <th>origin</th>\n",
       "    </tr>\n",
       "  </thead>\n",
       "  <tbody>\n",
       "    <tr>\n",
       "      <th>0</th>\n",
       "      <td>0</td>\n",
       "      <td>WCJ3v3bGfi</td>\n",
       "      <td>00CqJFh8ey</td>\n",
       "      <td>window_slicing20</td>\n",
       "    </tr>\n",
       "    <tr>\n",
       "      <th>0</th>\n",
       "      <td>0</td>\n",
       "      <td>ERHK6OW0BA</td>\n",
       "      <td>00CqJFh8ey</td>\n",
       "      <td>window_slicing20</td>\n",
       "    </tr>\n",
       "    <tr>\n",
       "      <th>0</th>\n",
       "      <td>0</td>\n",
       "      <td>v5DrRkI5jd</td>\n",
       "      <td>00CqJFh8ey</td>\n",
       "      <td>window_slicing20</td>\n",
       "    </tr>\n",
       "    <tr>\n",
       "      <th>0</th>\n",
       "      <td>0</td>\n",
       "      <td>7o8G2oZDME</td>\n",
       "      <td>00CqJFh8ey</td>\n",
       "      <td>window_slicing20</td>\n",
       "    </tr>\n",
       "    <tr>\n",
       "      <th>0</th>\n",
       "      <td>0</td>\n",
       "      <td>d6qTUg1iUa</td>\n",
       "      <td>00CqJFh8ey</td>\n",
       "      <td>window_slicing20</td>\n",
       "    </tr>\n",
       "    <tr>\n",
       "      <th>...</th>\n",
       "      <td>...</td>\n",
       "      <td>...</td>\n",
       "      <td>...</td>\n",
       "      <td>...</td>\n",
       "    </tr>\n",
       "    <tr>\n",
       "      <th>66378</th>\n",
       "      <td>107208</td>\n",
       "      <td>7NNbWqcna5</td>\n",
       "      <td>zzReTyUNBb</td>\n",
       "      <td>sessions_df</td>\n",
       "    </tr>\n",
       "    <tr>\n",
       "      <th>66378</th>\n",
       "      <td>107208</td>\n",
       "      <td>m8B1qRL7Mn</td>\n",
       "      <td>zzReTyUNBb</td>\n",
       "      <td>sessions_df</td>\n",
       "    </tr>\n",
       "    <tr>\n",
       "      <th>66378</th>\n",
       "      <td>107208</td>\n",
       "      <td>sZETWbLhFP</td>\n",
       "      <td>zzReTyUNBb</td>\n",
       "      <td>sessions_df</td>\n",
       "    </tr>\n",
       "    <tr>\n",
       "      <th>66378</th>\n",
       "      <td>107208</td>\n",
       "      <td>76s0FMHIw0</td>\n",
       "      <td>zzReTyUNBb</td>\n",
       "      <td>sessions_df</td>\n",
       "    </tr>\n",
       "    <tr>\n",
       "      <th>66378</th>\n",
       "      <td>107208</td>\n",
       "      <td>rHaz5UVTJl</td>\n",
       "      <td>zzReTyUNBb</td>\n",
       "      <td>sessions_df</td>\n",
       "    </tr>\n",
       "  </tbody>\n",
       "</table>\n",
       "<p>1081931 rows × 4 columns</p>\n",
       "</div>"
      ],
      "text/plain": [
       "       UserId      ItemId    TrueUser            origin\n",
       "0           0  WCJ3v3bGfi  00CqJFh8ey  window_slicing20\n",
       "0           0  ERHK6OW0BA  00CqJFh8ey  window_slicing20\n",
       "0           0  v5DrRkI5jd  00CqJFh8ey  window_slicing20\n",
       "0           0  7o8G2oZDME  00CqJFh8ey  window_slicing20\n",
       "0           0  d6qTUg1iUa  00CqJFh8ey  window_slicing20\n",
       "...       ...         ...         ...               ...\n",
       "66378  107208  7NNbWqcna5  zzReTyUNBb       sessions_df\n",
       "66378  107208  m8B1qRL7Mn  zzReTyUNBb       sessions_df\n",
       "66378  107208  sZETWbLhFP  zzReTyUNBb       sessions_df\n",
       "66378  107208  76s0FMHIw0  zzReTyUNBb       sessions_df\n",
       "66378  107208  rHaz5UVTJl  zzReTyUNBb       sessions_df\n",
       "\n",
       "[1081931 rows x 4 columns]"
      ]
     },
     "execution_count": 129,
     "metadata": {},
     "output_type": "execute_result"
    }
   ],
   "source": [
    "df_all"
   ]
  },
  {
   "cell_type": "code",
   "execution_count": 130,
   "id": "4098ca6c-4642-4322-968a-c955d44913ee",
   "metadata": {},
   "outputs": [],
   "source": [
    "# Merge df and window_slicing on 'UserId' and 'ItemId'\n",
    "merged_df = df_all.merge(df[['UserId', 'ItemId', 'rating']], \n",
    "                                 left_on=['TrueUser', 'ItemId'], \n",
    "                                 right_on=['UserId', 'ItemId'], \n",
    "                                 how='left')\n",
    "\n",
    "# Assign the 'rating' column from the merged DataFrame to window_slicing\n",
    "df_all['rating'] = merged_df['rating']\n"
   ]
  },
  {
   "cell_type": "code",
   "execution_count": 133,
   "id": "46ca7780-b791-4d84-9b84-72649031bf17",
   "metadata": {},
   "outputs": [],
   "source": [
    "df = df[['UserId', 'ItemId', 'rating']]"
   ]
  },
  {
   "cell_type": "code",
   "execution_count": 134,
   "id": "8f1ef528-444f-45a3-b1bb-293e7cc86335",
   "metadata": {},
   "outputs": [],
   "source": [
    "df_all = df_all[['UserId', 'ItemId', 'rating']]"
   ]
  },
  {
   "cell_type": "code",
   "execution_count": 135,
   "id": "828696c7-308d-434a-a6e2-ac7b28ac708e",
   "metadata": {},
   "outputs": [],
   "source": [
    "merged_df = pd.concat([df, df_all], ignore_index=True)"
   ]
  },
  {
   "cell_type": "code",
   "execution_count": 136,
   "id": "e0cbc387-a8bd-460c-8413-542fee386912",
   "metadata": {},
   "outputs": [],
   "source": [
    "merged_df.to_csv('multiverse_data.csv', index=None)"
   ]
  },
  {
   "cell_type": "code",
   "execution_count": 126,
   "id": "73c55352-1de8-46f1-b73b-9327d50421be",
   "metadata": {},
   "outputs": [
    {
     "data": {
      "text/plain": [
       "(1171379, 5)"
      ]
     },
     "execution_count": 126,
     "metadata": {},
     "output_type": "execute_result"
    }
   ],
   "source": [
    "df_all.shape"
   ]
  },
  {
   "cell_type": "code",
   "execution_count": null,
   "id": "fbe3cf1a-a2de-42ce-9af8-1beb10fd71ff",
   "metadata": {},
   "outputs": [],
   "source": []
  }
 ],
 "metadata": {
  "kernelspec": {
   "display_name": "rapidsai",
   "language": "python",
   "name": "rapidsai"
  },
  "language_info": {
   "codemirror_mode": {
    "name": "ipython",
    "version": 3
   },
   "file_extension": ".py",
   "mimetype": "text/x-python",
   "name": "python",
   "nbconvert_exporter": "python",
   "pygments_lexer": "ipython3",
   "version": "3.11.10"
  }
 },
 "nbformat": 4,
 "nbformat_minor": 5
}
