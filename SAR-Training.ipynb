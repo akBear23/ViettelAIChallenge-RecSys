{
 "cells": [
  {
   "cell_type": "code",
   "execution_count": null,
   "id": "6a37ee5e-883f-4062-a608-173fd0d3e2b6",
   "metadata": {},
   "outputs": [],
   "source": [
    "import sys\n",
    "import logging\n",
    "import numpy as np\n",
    "import pandas as pd\n",
    "from sklearn.preprocessing import minmax_scale\n",
    "\n",
    "from recommenders.utils.timer import Timer\n",
    "from recommenders.utils.python_utils import binarize\n",
    "from recommenders.datasets.python_splitters import python_stratified_split\n",
    "from recommenders.models.sar import SAR\n",
    "from recommenders.evaluation.python_evaluation import (\n",
    "    map,\n",
    "    ndcg_at_k,\n",
    "    precision_at_k,\n",
    "    recall_at_k,\n",
    "    rmse,\n",
    "    mae,\n",
    "    logloss,\n",
    "    rsquared,\n",
    "    exp_var\n",
    ")\n",
    "from recommenders.utils.notebook_utils import store_metadata\n",
    "\n",
    "%load_ext autoreload\n",
    "%autoreload 2\n",
    "\n",
    "print(f\"System version: {sys.version}\")\n",
    "print(f\"NumPy version: {np.__version__}\")\n",
    "print(f\"Pandas version: {pd.__version__}\")"
   ]
  },
  {
   "cell_type": "code",
   "execution_count": null,
   "id": "927eb8cd-3901-4bff-bc68-4204888bec8f",
   "metadata": {},
   "outputs": [],
   "source": [
    "# top k items to recommend\n",
    "TOP_K = 10\n",
    "\n",
    "# Select MovieLens data size: 100k, 1m, 10m, or 20m\n",
    "data = pd.read_csv('data/training_set.csv')\n",
    "data.head()\n",
    "\n",
    "data['UserId'] = data['UserId'].astype('category')\n",
    "data['ItemId'] = data['ItemId'].astype('category')\n",
    "data['Rating'] = data['Click'] + 5* data['Purchase']\n",
    "data[\"Rating\"] = data[\"Rating\"].astype(np.float32)\n",
    "data = data[['UserId', 'ItemId', 'Rating']]\n",
    "user_list = data.groupby('UserId')['ItemId'].nunique()\n",
    "# user_list_denoise = user_list[(user_list>=3) & (user_list<=30)].index.to_list()\n",
    "user_list_denoise = user_list[user_list <= 30].index.to_list()\n",
    "test_df = pd.read_csv('data/public_testset.csv', names=['user_id'] + [f'item_id_{i}' for i in range(1,1001)])\n",
    "test_user_id = test_df['user_id'].values\n",
    "final_user_list = []\n",
    "final_user_list.extend(user_list_denoise)\n",
    "final_user_list.extend(test_user_id)\n",
    "user_list_denoise = list(set(final_user_list))\n",
    "data = data[data.UserId.isin(user_list_denoise)]"
   ]
  },
  {
   "cell_type": "code",
   "execution_count": null,
   "id": "7030e395-5912-4eb2-a09f-881bf68482b1",
   "metadata": {},
   "outputs": [],
   "source": [
    "train, test = python_stratified_split(data, ratio=0.9, col_user=\"UserId\", col_item=\"ItemId\", seed=42)"
   ]
  },
  {
   "cell_type": "code",
   "execution_count": null,
   "id": "6c0f98b4-6599-4e29-9dc4-9d1ec9f2e27d",
   "metadata": {},
   "outputs": [],
   "source": [
    "model = SAR(\n",
    "    col_user=\"UserId\",\n",
    "    col_item=\"ItemId\",\n",
    "    col_rating=\"Rating\",\n",
    "    # col_timestamp=\"timestamp\",\n",
    "    similarity_type=\"jaccard\", \n",
    "    # time_decay_coefficient=5, \n",
    "    timedecay_formula=False,\n",
    "    normalize=True\n",
    ")\n",
    "\n",
    "with Timer() as train_time:\n",
    "    model.fit(train)\n",
    "\n",
    "print(\"Took {} seconds for training.\".format(train_time.interval))"
   ]
  },
  {
   "cell_type": "code",
   "execution_count": null,
   "id": "1a432904-8189-4d9b-b528-a0841f2ca740",
   "metadata": {},
   "outputs": [],
   "source": [
    "import os\n",
    "save_path = \"runs/SAR\"\n",
    "os.makedirs(save_path, exist_ok=True)"
   ]
  },
  {
   "cell_type": "code",
   "execution_count": null,
   "id": "02627abd-0615-4169-8371-5aa8ae9c4ba9",
   "metadata": {},
   "outputs": [],
   "source": [
    "import pickle\n",
    "with open(f\"{save_path}/model.pkl\", \"wb\") as f:\n",
    "    pickle.dump(model, f)"
   ]
  },
  {
   "cell_type": "code",
   "execution_count": null,
   "id": "a682799b-54a1-476a-9042-0b57d2823df8",
   "metadata": {},
   "outputs": [],
   "source": []
  }
 ],
 "metadata": {
  "kernelspec": {
   "display_name": "rapidsai",
   "language": "python",
   "name": "rapidsai"
  },
  "language_info": {
   "codemirror_mode": {
    "name": "ipython",
    "version": 3
   },
   "file_extension": ".py",
   "mimetype": "text/x-python",
   "name": "python",
   "nbconvert_exporter": "python",
   "pygments_lexer": "ipython3",
   "version": "3.11.10"
  }
 },
 "nbformat": 4,
 "nbformat_minor": 5
}
